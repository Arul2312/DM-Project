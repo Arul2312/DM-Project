{
 "cells": [
  {
   "cell_type": "code",
   "execution_count": 1,
   "metadata": {
    "execution": {
     "iopub.execute_input": "2025-03-30T03:15:34.509324Z",
     "iopub.status.busy": "2025-03-30T03:15:34.509077Z",
     "iopub.status.idle": "2025-03-30T03:15:42.984413Z",
     "shell.execute_reply": "2025-03-30T03:15:42.983615Z",
     "shell.execute_reply.started": "2025-03-30T03:15:34.509304Z"
    },
    "trusted": true
   },
   "outputs": [
    {
     "name": "stderr",
     "output_type": "stream",
     "text": [
      "Generating negative pairs: 100%|██████████| 968/968 [00:00<00:00, 716949.72it/s]"
     ]
    },
    {
     "name": "stdout",
     "output_type": "stream",
     "text": [
      "Number of positive pairs: 968\n",
      "Number of negative pairs: 968\n",
      "Sample of negative pairs:\n",
      "[('DB08877', '1F0J', 0), ('DB13269', '3OC2', 0), ('DB09195', '1L2J', 0), ('DB13955', '3UVJ', 0), ('DB01073', '1YRK', 0)]\n"
     ]
    },
    {
     "name": "stderr",
     "output_type": "stream",
     "text": [
      "\n"
     ]
    }
   ],
   "source": [
    "from collections import Counter\n",
    "import random\n",
    "import numpy as np\n",
    "import pandas as pd\n",
    "import torch\n",
    "from torch.utils.data import Dataset, DataLoader\n",
    "from sklearn.model_selection import train_test_split\n",
    "from sklearn.preprocessing import LabelEncoder\n",
    "from sklearn.metrics import accuracy_score\n",
    "import torch.nn as nn\n",
    "import torch.optim as optim\n",
    "import torch.nn.functional as F\n",
    "from sklearn.metrics import f1_score\n",
    "from sklearn.metrics import roc_auc_score\n",
    "import matplotlib.pyplot as plt\n",
    "import math\n",
    "\n",
    "# Load data (example structure)\n",
    "drugs = pd.read_csv(\"drug_smiles.csv\")  # {Drug ID: SMILES}\n",
    "proteins = pd.read_csv(\"pdb_sequences.csv\")  # {PDB ID: Sequence}\n",
    "interactions = pd.read_csv(\"confirmed_interactions.csv\")  # {PDB ID: [Drug IDs]}\n",
    "\n",
    "drugs_dict = drugs.set_index('Drug id')['smiles'].to_dict()  # Assuming these are your column names\n",
    "proteins_dict = proteins.set_index('pdb_id')['sequence'].to_dict()\n",
    "\n",
    "# Create dataset\n",
    "drug_ids = list(drugs_dict.keys())\n",
    "protein_ids = list(proteins_dict.keys())\n",
    "\n",
    "positive_pairs = []\n",
    "for _, row in interactions.iterrows():\n",
    "        drug_id = row['Drug ID']  # Adjust column name if different\n",
    "        pdb_id = row['PDB ID']    # Adjust column name if different\n",
    "        \n",
    "        # Verify the pair exists in our dictionaries\n",
    "        if drug_id in drugs_dict and pdb_id in proteins_dict:\n",
    "            positive_pairs.append((drug_id, pdb_id, 1))\n",
    "\n",
    "# Create negative pairs more efficiently\n",
    "negative_pairs = []\n",
    "used_pairs = set((d, p) for d, p, _ in positive_pairs)\n",
    "num_needed = len(positive_pairs)\n",
    "\n",
    "# Use batch processing with progress tracking\n",
    "from tqdm import tqdm\n",
    "batch_size = 1000\n",
    "\n",
    "with tqdm(total=num_needed, desc=\"Generating negative pairs\") as pbar:\n",
    "    while len(negative_pairs) < num_needed:\n",
    "        # Generate multiple pairs at once\n",
    "        batch_drugs = random.choices(drug_ids, k=batch_size)\n",
    "        batch_proteins = random.choices(protein_ids, k=batch_size)\n",
    "        \n",
    "        for d, p in zip(batch_drugs, batch_proteins):\n",
    "            if (d, p) not in used_pairs:\n",
    "                negative_pairs.append((d, p, 0))\n",
    "                used_pairs.add((d, p))\n",
    "                pbar.update(1)\n",
    "                \n",
    "                if len(negative_pairs) >= num_needed:\n",
    "                    break\n",
    "\n",
    "# Verify the results\n",
    "print(f\"Number of positive pairs: {len(interactions)}\")\n",
    "print(f\"Number of negative pairs: {len(negative_pairs)}\")\n",
    "print(f\"Sample of negative pairs:\\n{negative_pairs[:5]}\")\n",
    "dataset = positive_pairs + negative_pairs\n",
    "random.shuffle(dataset)\n",
    "\n",
    "# Split dataset (train/val/test as per paper: ~70/15/15)\n",
    "train_size = int(0.7 * len(dataset))\n",
    "val_size = int(0.15 * len(dataset))\n",
    "train_data, val_data, test_data = dataset[:train_size], dataset[train_size:train_size + val_size], dataset[train_size + val_size:]"
   ]
  },
  {
   "cell_type": "code",
   "execution_count": 2,
   "metadata": {
    "execution": {
     "iopub.execute_input": "2025-03-30T03:15:48.614884Z",
     "iopub.status.busy": "2025-03-30T03:15:48.614638Z",
     "iopub.status.idle": "2025-03-30T03:15:48.621257Z",
     "shell.execute_reply": "2025-03-30T03:15:48.620457Z",
     "shell.execute_reply.started": "2025-03-30T03:15:48.614864Z"
    },
    "trusted": true
   },
   "outputs": [
    {
     "data": {
      "text/plain": [
       "291"
      ]
     },
     "execution_count": 2,
     "metadata": {},
     "output_type": "execute_result"
    }
   ],
   "source": [
    "len(test_data)"
   ]
  },
  {
   "cell_type": "code",
   "execution_count": 3,
   "metadata": {
    "execution": {
     "iopub.execute_input": "2025-03-30T03:15:48.622411Z",
     "iopub.status.busy": "2025-03-30T03:15:48.622169Z",
     "iopub.status.idle": "2025-03-30T03:15:48.726688Z",
     "shell.execute_reply": "2025-03-30T03:15:48.726119Z",
     "shell.execute_reply.started": "2025-03-30T03:15:48.622380Z"
    },
    "trusted": true
   },
   "outputs": [],
   "source": [
    "import pandas as pd\n",
    "\n",
    "# Load subsequence CSVs\n",
    "drug_subseq_df = pd.read_csv(\"drug_smiles_fcs_freq_100.csv\")  # e.g., columns: subsequence, rank\n",
    "protein_subseq_df = pd.read_csv(\"protein_fcs_freq_100.csv\")\n",
    "\n",
    "# Build dictionaries\n",
    "drug_vocab = dict(zip(drug_subseq_df[\"Subsequence\"], drug_subseq_df[\"Rank\"]))\n",
    "protein_vocab = dict(zip(protein_subseq_df[\"Subsequence\"], protein_subseq_df[\"Rank\"]))\n",
    "\n",
    "# Combine into single vocab with special tokens\n",
    "vocab = {\"[CLS]\": 0, \"[SEP]\": 1, \"[MASK]\": 2, \"[PAD]\": 3, \"[UNK]\": 4}\n",
    "vocab.update(drug_vocab)\n",
    "# Fixed iteration over protein_vocab items\n",
    "for subseq, rank in protein_vocab.items():  # Use .items() to iterate over key-value pairs\n",
    "    if subseq not in vocab:\n",
    "        vocab[subseq] = rank"
   ]
  },
  {
   "cell_type": "code",
   "execution_count": 4,
   "metadata": {
    "execution": {
     "iopub.execute_input": "2025-03-30T03:15:48.727624Z",
     "iopub.status.busy": "2025-03-30T03:15:48.727421Z",
     "iopub.status.idle": "2025-03-30T03:15:48.732221Z",
     "shell.execute_reply": "2025-03-30T03:15:48.731488Z",
     "shell.execute_reply.started": "2025-03-30T03:15:48.727607Z"
    },
    "trusted": true
   },
   "outputs": [
    {
     "data": {
      "text/plain": [
       "50507"
      ]
     },
     "execution_count": 4,
     "metadata": {},
     "output_type": "execute_result"
    }
   ],
   "source": [
    "len(vocab)"
   ]
  },
  {
   "cell_type": "code",
   "execution_count": 5,
   "metadata": {
    "execution": {
     "iopub.execute_input": "2025-03-30T03:15:48.734609Z",
     "iopub.status.busy": "2025-03-30T03:15:48.734369Z",
     "iopub.status.idle": "2025-03-30T03:15:48.760828Z",
     "shell.execute_reply": "2025-03-30T03:15:48.759962Z",
     "shell.execute_reply.started": "2025-03-30T03:15:48.734590Z"
    },
    "trusted": true
   },
   "outputs": [],
   "source": [
    "drugs = pd.read_csv(\"drug_smiles.csv\").set_index(\"Drug id\")[\"smiles\"].to_dict()  # {Drug ID: SMILES}\n",
    "proteins = pd.read_csv(\"pdb_sequences.csv\").set_index(\"pdb_id\")[\"sequence\"].to_dict()"
   ]
  },
  {
   "cell_type": "code",
   "execution_count": 6,
   "metadata": {
    "execution": {
     "iopub.execute_input": "2025-03-30T03:15:48.762599Z",
     "iopub.status.busy": "2025-03-30T03:15:48.762302Z",
     "iopub.status.idle": "2025-03-30T03:15:48.766948Z",
     "shell.execute_reply": "2025-03-30T03:15:48.766348Z",
     "shell.execute_reply.started": "2025-03-30T03:15:48.762569Z"
    },
    "trusted": true
   },
   "outputs": [
    {
     "name": "stdout",
     "output_type": "stream",
     "text": [
      "Building subsequence representations...\n",
      "Processed 300 drugs and 298 proteins\n",
      "\n",
      "Sample drug subsequences: ['Nc', 'c1', '1n', 'nc', 'cn']\n",
      "Sample protein subsequences: ['RH', 'HV', 'VR', 'RI', 'IK']\n"
     ]
    }
   ],
   "source": [
    "def get_matching_subsequences(sequence, vocab_subset, min_len=2, max_len=6):\n",
    "    \"\"\"Extract subsequences from a sequence that match the vocabulary\"\"\"\n",
    "    subsequences = []\n",
    "    \n",
    "    for length in range(min_len, min(max_len + 1, len(sequence) + 1)):\n",
    "        for i in range(len(sequence) - length + 1):\n",
    "            subseq = sequence[i:i + length]\n",
    "            if subseq in vocab_subset:\n",
    "                subsequences.append(subseq)\n",
    "    \n",
    "    # If no subsequences found, use special token\n",
    "    if not subsequences:\n",
    "        subsequences.append(\"[UNK]\")\n",
    "        \n",
    "    return subsequences\n",
    "\n",
    "# Process all sequences and build subsequence representations\n",
    "print(\"Building subsequence representations...\")\n",
    "drug_representations = {}  # {drug_id: [subsequences]}\n",
    "protein_representations = {}  # {pdb_id: [subsequences]}\n",
    "\n",
    "for drug_id in drugs_dict:\n",
    "    drug_seq = drugs_dict[drug_id]\n",
    "    drug_representations[drug_id] = get_matching_subsequences(drug_seq, drug_vocab)\n",
    "\n",
    "for pdb_id in proteins_dict:\n",
    "    protein_seq = proteins_dict[pdb_id]\n",
    "    protein_representations[pdb_id] = get_matching_subsequences(protein_seq, protein_vocab)\n",
    "\n",
    "print(f\"Processed {len(drug_representations)} drugs and {len(protein_representations)} proteins\")\n",
    "\n",
    "# Sample output\n",
    "print(\"\\nSample drug subsequences:\", next(iter(drug_representations.values()))[:5])\n",
    "print(\"Sample protein subsequences:\", next(iter(protein_representations.values()))[:5])"
   ]
  },
  {
   "cell_type": "code",
   "execution_count": 7,
   "metadata": {
    "execution": {
     "iopub.execute_input": "2025-03-30T03:15:50.667200Z",
     "iopub.status.busy": "2025-03-30T03:15:50.666944Z",
     "iopub.status.idle": "2025-03-30T03:15:50.740819Z",
     "shell.execute_reply": "2025-03-30T03:15:50.740156Z",
     "shell.execute_reply.started": "2025-03-30T03:15:50.667180Z"
    },
    "trusted": true
   },
   "outputs": [],
   "source": [
    "import torch\n",
    "\n",
    "class DTISubsequenceTokenizer:\n",
    "    \"\"\"Wrapper around base tokenizer with subsequence-specific processing\"\"\"\n",
    "    \n",
    "    def __init__(self, base_tokenizer):\n",
    "        self.tokenizer = base_tokenizer\n",
    "        \n",
    "        # Add special tokens for subsequence processing\n",
    "        special_tokens = {\n",
    "            \"additional_special_tokens\": [\"[SUB]\"]\n",
    "        }\n",
    "        \n",
    "        # Add the tokens to the tokenizer\n",
    "        num_added = self.tokenizer.add_special_tokens(special_tokens)\n",
    "        print(f\"Added {num_added} special tokens to the tokenizer\")\n",
    "        \n",
    "        # Store token IDs for quick access\n",
    "        self.sub_token_id = self.tokenizer.convert_tokens_to_ids(\"[SUB]\")\n",
    "        self.sep_token_id = self.tokenizer.sep_token_id\n",
    "        self.cls_token_id = self.tokenizer.cls_token_id\n",
    "        self.pad_token_id = self.tokenizer.pad_token_id\n",
    "        \n",
    "    def __call__(self, drug_text, protein_text, **kwargs):\n",
    "        \"\"\"Tokenize drug and protein texts with special handling for subsequences\"\"\"\n",
    "        # Format input with special tokens\n",
    "        text_pair = f\"{drug_text}\", f\"{protein_text}\"\n",
    "        \n",
    "        # Use the base tokenizer\n",
    "        encoding = self.tokenizer(\n",
    "            text_pair[0],\n",
    "            text_pair[1],\n",
    "            **kwargs\n",
    "        )\n",
    "        \n",
    "        return encoding\n",
    "    \n",
    "    def convert_ids_to_tokens(self, ids):\n",
    "        \"\"\"Convert token IDs back to string tokens\"\"\"\n",
    "        return self.tokenizer.convert_ids_to_tokens(ids)\n",
    "    \n",
    "    def batch_encode_plus(self, batch_text_pairs, **kwargs):\n",
    "        \"\"\"Batch encode multiple text pairs\"\"\"\n",
    "        return self.tokenizer.batch_encode_plus(batch_text_pairs, **kwargs)\n",
    "    \n",
    "    # Forward all other methods to the base tokenizer\n",
    "    def __getattr__(self, name):\n",
    "        return getattr(self.tokenizer, name)"
   ]
  },
  {
   "cell_type": "code",
   "execution_count": 8,
   "metadata": {},
   "outputs": [
    {
     "name": "stdout",
     "output_type": "stream",
     "text": [
      "Requirement already satisfied: rdkit in /home/f20221129/.conda/envs/torch/lib/python3.10/site-packages (2024.9.6)\n",
      "Requirement already satisfied: numpy in /home/f20221129/.conda/envs/torch/lib/python3.10/site-packages (from rdkit) (2.2.3)\n",
      "Requirement already satisfied: Pillow in /home/f20221129/.conda/envs/torch/lib/python3.10/site-packages (from rdkit) (11.1.0)\n"
     ]
    }
   ],
   "source": [
    "!pip install rdkit"
   ]
  },
  {
   "cell_type": "code",
   "execution_count": 9,
   "metadata": {
    "execution": {
     "iopub.execute_input": "2025-03-30T03:15:50.741899Z",
     "iopub.status.busy": "2025-03-30T03:15:50.741601Z",
     "iopub.status.idle": "2025-03-30T03:15:58.873257Z",
     "shell.execute_reply": "2025-03-30T03:15:58.872542Z",
     "shell.execute_reply.started": "2025-03-30T03:15:50.741867Z"
    },
    "trusted": true
   },
   "outputs": [],
   "source": [
    "import re\n",
    "from rdkit import Chem\n",
    "from rdkit.Chem import AllChem, MACCSkeys\n",
    "\n",
    "class SubsequenceProcessor:\n",
    "    \"\"\"Extract meaningful subsequences from drugs and proteins\"\"\"\n",
    "    \n",
    "    def __init__(self):\n",
    "        # Define common protein motifs and drug functional groups for matching\n",
    "        self.protein_motifs = {\n",
    "            'zinc_finger': r'C.{2,4}C.{3}[LIVMFYWC].{8}H.{3,5}H',\n",
    "            'helix_turn_helix': r'[LIVMFYW].{2}[LIVMF].{8,10}[LIVMFYWC].{5}[LIVMF]',\n",
    "            'binding_pocket': r'[RK].{2,4}[DE].{2,4}[RK]',\n",
    "            'hydrophobic': r'[LIVMFYW]{3,}',\n",
    "            'acidic': r'[DE]{2,}',\n",
    "            'basic': r'[RK]{2,}',\n",
    "            'phosphorylation': r'[ST]P',\n",
    "            'glycosylation': r'N[^P][ST]'\n",
    "        }\n",
    "        \n",
    "        # Common drug functional groups\n",
    "        self.drug_functional_groups = [\n",
    "            'C(=O)N',     # Amide\n",
    "            'c1ccccc1',   # Benzene\n",
    "            'C(=O)O',     # Carboxyl\n",
    "            'CN',         # Amine\n",
    "            'CO',         # Alcohol\n",
    "            'C=O',        # Carbonyl\n",
    "            'CS',         # Thiol\n",
    "            'CF',         # Fluoro\n",
    "            'CCl',        # Chloro\n",
    "            'CBr',        # Bromo\n",
    "            'CI',         # Iodo\n",
    "            'C=C',        # Alkene\n",
    "            'C#N',        # Nitrile\n",
    "            'C#C',        # Alkyne\n",
    "            'N=O',        # Nitro\n",
    "            'c1ccncc1',   # Pyridine\n",
    "            'c1cncnc1',   # Pyrimidine\n",
    "            'c1cnccn1',   # Pyrazine\n",
    "            'c1cnncc1',   # Pyridazine\n",
    "        ]\n",
    "    \n",
    "    def extract_protein_subsequences(self, sequence, window_size=8, stride=4):\n",
    "        \"\"\"Extract protein subsequences using sliding window and motif matching\"\"\"\n",
    "        subsequences = []\n",
    "        \n",
    "        # Add the whole sequence as a subsequence if it's short\n",
    "        if len(sequence) <= window_size * 2:\n",
    "            subsequences.append(sequence)\n",
    "            return subsequences\n",
    "            \n",
    "        # Use sliding window to extract subsequences\n",
    "        for i in range(0, len(sequence) - window_size + 1, stride):\n",
    "            subsequences.append(sequence[i:i+window_size])\n",
    "        \n",
    "        # Extract known motifs using regex patterns\n",
    "        for motif_name, pattern in self.protein_motifs.items():\n",
    "            for match in re.finditer(pattern, sequence):\n",
    "                motif_seq = match.group(0)\n",
    "                if motif_seq not in subsequences:\n",
    "                    subsequences.append(motif_seq)\n",
    "        \n",
    "        return subsequences\n",
    "    \n",
    "    def extract_drug_subsequences(self, smiles):\n",
    "        \"\"\"Extract meaningful subsequences from drug SMILES string\"\"\"\n",
    "        subsequences = []\n",
    "        \n",
    "        # Add the original SMILES as a subsequence if it's short\n",
    "        if len(smiles) < 20:\n",
    "            subsequences.append(smiles)\n",
    "        \n",
    "        try:\n",
    "            # Parse the SMILES string\n",
    "            mol = Chem.MolFromSmiles(smiles)\n",
    "            if mol is None:\n",
    "                # If parsing fails, return the original SMILES broken into chunks\n",
    "                return [smiles[i:i+10] for i in range(0, len(smiles), 10)]\n",
    "            \n",
    "            # Get Morgan fingerprint as representation of functional groups\n",
    "            fp = AllChem.GetMorganFingerprint(mol, 2)\n",
    "            for bit_id, _ in fp.GetNonzeroElements().items():\n",
    "                env = Chem.MolToSmiles(AllChem.GetMorganEnvFragment(mol, bit_id, 1))\n",
    "                if env and len(env) <= 20:  # Reasonable size for a subsequence\n",
    "                    subsequences.append(env)\n",
    "            \n",
    "            # Check for presence of common functional groups\n",
    "            for fg in self.drug_functional_groups:\n",
    "                patt = Chem.MolFromSmiles(fg)\n",
    "                if mol.HasSubstructMatch(patt):\n",
    "                    subsequences.append(fg)\n",
    "                    \n",
    "            # Extract ring systems\n",
    "            for ring in Chem.GetSymmSSSR(mol):\n",
    "                ring_smiles = Chem.MolToSmiles(Chem.PathToSubmol(mol, list(ring)))\n",
    "                if ring_smiles and ring_smiles not in subsequences:\n",
    "                    subsequences.append(ring_smiles)\n",
    "                    \n",
    "        except Exception as e:\n",
    "            # If chemical parsing fails, use simple string-based chunking\n",
    "            print(f\"Error processing SMILES {smiles}: {str(e)}\")\n",
    "            subsequences = [smiles[i:i+10] for i in range(0, len(smiles), 10)]\n",
    "        \n",
    "        # Ensure we have at least some subsequences\n",
    "        if not subsequences:\n",
    "            subsequences = [smiles]\n",
    "            \n",
    "        return subsequences\n",
    "\n",
    "class EnhancedDTIDataset(Dataset):\n",
    "    def __init__(self, pairs, drugs_dict, proteins_dict, tokenizer, config):\n",
    "        self.pairs = pairs\n",
    "        self.drugs_dict = drugs_dict\n",
    "        self.proteins_dict = proteins_dict\n",
    "        self.tokenizer = tokenizer\n",
    "        self.config = config\n",
    "        \n",
    "        # Process sequences in advance\n",
    "        self.processed_data = []\n",
    "        \n",
    "        print(\"Pre-processing drug-protein pairs...\")\n",
    "        for drug_id, pdb_id, label in tqdm(pairs, desc=\"Processing dataset\"):\n",
    "            if drug_id in drugs_dict and pdb_id in proteins_dict:\n",
    "                # Get SMILES and protein sequence\n",
    "                smiles = drugs_dict[drug_id]\n",
    "                sequence = proteins_dict[pdb_id]\n",
    "                \n",
    "                # Process sequences (add methods to extract subsequences if needed)\n",
    "                processed_drug = self.process_drug(smiles)\n",
    "                processed_protein = self.process_protein(sequence)\n",
    "                \n",
    "                # Tokenize with special tokens\n",
    "                encoding = self.tokenize_pair(processed_drug, processed_protein)\n",
    "                \n",
    "                # Store processed data\n",
    "                item = {\n",
    "                    'drug_id': drug_id,\n",
    "                    'pdb_id': pdb_id,\n",
    "                    'input_ids': encoding['input_ids'],\n",
    "                    'attention_mask': encoding['attention_mask'],\n",
    "                    'token_type_ids': encoding.get('token_type_ids', None),\n",
    "                    'labels': torch.tensor(label, dtype=torch.long)\n",
    "                }\n",
    "                \n",
    "                self.processed_data.append(item)\n",
    "        \n",
    "        print(f\"Processed {len(self.processed_data)} valid drug-protein pairs.\")\n",
    "    \n",
    "    def process_drug(self, smiles):\n",
    "        \"\"\"Process drug SMILES string - can be enhanced with RDKit\"\"\"\n",
    "        return smiles\n",
    "    \n",
    "    def process_protein(self, sequence):\n",
    "        \"\"\"Process protein sequence - can be enhanced with motif detection\"\"\"\n",
    "        return sequence\n",
    "    \n",
    "    def tokenize_pair(self, drug, protein):\n",
    "        \"\"\"Tokenize drug-protein pair with appropriate special tokens\"\"\"\n",
    "        # Format input with special tokens\n",
    "        text_pair = (\n",
    "            f\"{drug}\",\n",
    "            f\"{protein}\"\n",
    "        )\n",
    "        \n",
    "        # Tokenize\n",
    "        encoding = self.tokenizer(\n",
    "            text_pair[0],\n",
    "            text_pair[1],\n",
    "            padding='max_length',\n",
    "            truncation='longest_first',\n",
    "            max_length=self.config.max_seq_length,\n",
    "            return_tensors='pt'\n",
    "        )\n",
    "        \n",
    "        # Remove batch dimension\n",
    "        for key in encoding:\n",
    "            if isinstance(encoding[key], torch.Tensor):\n",
    "                encoding[key] = encoding[key].squeeze(0)\n",
    "        \n",
    "        return encoding\n",
    "    \n",
    "    def __len__(self):\n",
    "        return len(self.processed_data)\n",
    "    \n",
    "    def __getitem__(self, idx):\n",
    "        return self.processed_data[idx]"
   ]
  },
  {
   "cell_type": "code",
   "execution_count": 10,
   "metadata": {
    "execution": {
     "iopub.execute_input": "2025-03-30T03:15:58.880406Z",
     "iopub.status.busy": "2025-03-30T03:15:58.880087Z",
     "iopub.status.idle": "2025-03-30T03:15:58.915525Z",
     "shell.execute_reply": "2025-03-30T03:15:58.914886Z",
     "shell.execute_reply.started": "2025-03-30T03:15:58.880377Z"
    },
    "trusted": true
   },
   "outputs": [],
   "source": [
    "import torch\n",
    "import torch.nn as nn\n",
    "import torch.nn.functional as F\n",
    "from transformers import AutoModel, AutoTokenizer\n",
    "\n",
    "def initialize_weights(module):\n",
    "    \"\"\"Initialize transformer weights properly\"\"\"\n",
    "    if isinstance(module, (nn.Linear, nn.Embedding)):\n",
    "        # Slightly different initialization from PyTorch as BioBERT is from transformers\n",
    "        module.weight.data.normal_(mean=0.0, std=0.02)\n",
    "        if isinstance(module, nn.Linear) and module.bias is not None:\n",
    "            module.bias.data.zero_()\n",
    "    elif isinstance(module, nn.LayerNorm):\n",
    "        module.bias.data.zero_()\n",
    "        module.weight.data.fill_(1.0)\n",
    "\n",
    "class DTITransformerModel(nn.Module):\n",
    "    def __init__(self, config, tokenizer):\n",
    "        super(DTITransformerModel, self).__init__()\n",
    "        self.tokenizer = tokenizer\n",
    "        \n",
    "        # BioBERT encoder for initial embeddings\n",
    "        self.bert = AutoModel.from_pretrained(\n",
    "            \"dmis-lab/biobert-v1.1\",\n",
    "            add_pooling_layer=False,\n",
    "            output_attentions=True\n",
    "        )\n",
    "        \n",
    "        hidden_size = self.bert.config.hidden_size\n",
    "        \n",
    "        # Freeze BioBERT parameters except last N layers\n",
    "        unfreeze_layers = 2  # Last 2 layers\n",
    "        for name, param in self.bert.named_parameters():\n",
    "            param.requires_grad = False\n",
    "            # Unfreeze specified layers\n",
    "            if any(f\"encoder.layer.{str(11-i)}.\" in name for i in range(unfreeze_layers)):\n",
    "                param.requires_grad = True\n",
    "        \n",
    "        # Positional embeddings\n",
    "        self.position_embeddings = nn.Embedding(config.max_seq_length, hidden_size)\n",
    "        self.register_buffer(\"position_ids\", torch.arange(config.max_seq_length).expand((1, -1)))\n",
    "        \n",
    "        # Drug-protein type embeddings\n",
    "        self.type_embeddings = nn.Embedding(2, hidden_size)\n",
    "        \n",
    "        # Layer normalization and dropout\n",
    "        self.LayerNorm = nn.LayerNorm(hidden_size)\n",
    "        self.dropout = nn.Dropout(config.dropout_rate)\n",
    "        \n",
    "        # Transformer encoder (6 layers, 12 heads as per paper)\n",
    "        encoder_layer = nn.TransformerEncoderLayer(\n",
    "            d_model=hidden_size,\n",
    "            nhead=config.num_attention_heads,\n",
    "            dim_feedforward=config.intermediate_size,\n",
    "            dropout=config.dropout_rate,\n",
    "            activation='gelu',\n",
    "            batch_first=True\n",
    "        )\n",
    "        self.transformer_encoder = nn.TransformerEncoder(\n",
    "            encoder_layer, \n",
    "            num_layers=config.num_encoder_layers\n",
    "        )\n",
    "        \n",
    "        # FC layer (384 units as per paper)\n",
    "        self.intermediate_dense = nn.Linear(hidden_size, config.fc_size)\n",
    "        \n",
    "        # Output classification layer\n",
    "        self.classifier = nn.Linear(config.fc_size, config.num_classes)\n",
    "        \n",
    "        # Initialize weights properly\n",
    "        self.apply(initialize_weights)\n",
    "        \n",
    "        # Count trainable parameters\n",
    "        self.num_parameters = sum(p.numel() for p in self.parameters() if p.requires_grad)\n",
    "        print(f\"Trainable parameters: {self.num_parameters:,}\")\n",
    "    \n",
    "    def forward(self, input_ids, attention_mask, return_attentions=False):\n",
    "        \"\"\"Forward pass with improved stability\"\"\"\n",
    "        # Get token embeddings from BioBERT\n",
    "        with torch.set_grad_enabled(True):  # Ensure gradients even with frozen layers\n",
    "            bert_outputs = self.bert(\n",
    "                input_ids=input_ids,\n",
    "                attention_mask=attention_mask,\n",
    "                output_attentions=return_attentions\n",
    "            )\n",
    "        \n",
    "        token_embeddings = bert_outputs.last_hidden_state\n",
    "        \n",
    "        # Add positional embeddings\n",
    "        seq_length = input_ids.size(1)\n",
    "        position_ids = self.position_ids[:, :seq_length]\n",
    "        position_embeddings = self.position_embeddings(position_ids)\n",
    "        \n",
    "        # Create drug-protein type IDs\n",
    "        batch_size = input_ids.size(0)\n",
    "        drug_protein_type_ids = torch.zeros_like(input_ids)\n",
    "        \n",
    "        # Use the tokenizer's sep_token_id for robustness\n",
    "        sep_token_id = self.tokenizer.sep_token_id if hasattr(self.tokenizer, 'sep_token_id') else 102\n",
    "        \n",
    "        # Find drug-protein boundaries using [SEP] tokens\n",
    "        for i in range(batch_size):\n",
    "            sep_positions = (input_ids[i] == sep_token_id).nonzero(as_tuple=True)[0]\n",
    "            if len(sep_positions) >= 1:\n",
    "                first_sep = sep_positions[0]\n",
    "                drug_protein_type_ids[i, first_sep+1:] = 1\n",
    "        \n",
    "        # Get type embeddings\n",
    "        type_embeddings = self.type_embeddings(drug_protein_type_ids)\n",
    "        \n",
    "        # Combine embeddings \n",
    "        embeddings = token_embeddings + position_embeddings + type_embeddings\n",
    "        \n",
    "        # Apply layer norm and dropout\n",
    "        embeddings = self.LayerNorm(embeddings)\n",
    "        embeddings = self.dropout(embeddings)\n",
    "        \n",
    "        # Apply attention mask for transformer\n",
    "        transformer_mask = attention_mask.float()\n",
    "        transformer_mask = transformer_mask.masked_fill(transformer_mask == 0, float('-inf'))\n",
    "        transformer_mask = transformer_mask.masked_fill(transformer_mask == 1, float(0.0))\n",
    "        \n",
    "        # Pass through transformer encoder with proper masking\n",
    "        transformer_outputs = self.transformer_encoder(embeddings, src_key_padding_mask=(attention_mask == 0))\n",
    "        \n",
    "        # Extract [CLS] token representation for classification\n",
    "        cls_output = transformer_outputs[:, 0]\n",
    "        \n",
    "        # Apply intermediate FC layer\n",
    "        intermediate_output = self.intermediate_dense(cls_output)\n",
    "        intermediate_output = F.gelu(intermediate_output)\n",
    "        intermediate_output = self.dropout(intermediate_output)\n",
    "        \n",
    "        # Final classification\n",
    "        logits = self.classifier(intermediate_output)\n",
    "        \n",
    "        if return_attentions:\n",
    "            return logits, bert_outputs.attentions\n",
    "        \n",
    "        return logits\n",
    "        \n",
    "# Model configuration\n",
    "class ModelConfig:\n",
    "    def __init__(self):\n",
    "        # Model architecture - Section 2.5.4\n",
    "        self.hidden_size = 768           # BioBERT base hidden size\n",
    "        self.intermediate_size = 1536    # \"intermediate dimension of 1536\"\n",
    "        self.num_attention_heads = 12    # \"12 attention heads to each encoder\" \n",
    "        self.num_encoder_layers = 6      # \"six hidden transformer encoder layers\"\n",
    "        self.fc_size = 384              # \"the size of the final network of the FC layer is 384\"\n",
    "        \n",
    "        # Model parameters\n",
    "        self.num_classes = 2            # Binary classification\n",
    "        self.max_seq_length = 512       # Maximum sequence length for tokenization\n",
    "        \n",
    "        # Subsequence parameters\n",
    "        self.max_drug_subseqs = 20      # Maximum number of drug subsequences to use\n",
    "        self.max_protein_subseqs = 40   # Maximum number of protein subsequences to use\n",
    "        self.use_subseq_markers = True  # Whether to use subsequence marker tokens\n",
    "        \n",
    "        # Training parameters from the paper\n",
    "        self.batch_size = 32            # \"batch size... to 32\"\n",
    "        self.num_epochs = 100           # \"number of epochs to 100\" \n",
    "        self.learning_rate = 1e-5       # \"learning rate... 1e-5\"\n",
    "        self.dropout_rate = 0.1         # \"dropout rate are... 0.1\""
   ]
  },
  {
   "cell_type": "code",
   "execution_count": 11,
   "metadata": {
    "execution": {
     "iopub.execute_input": "2025-03-30T03:15:58.916550Z",
     "iopub.status.busy": "2025-03-30T03:15:58.916356Z",
     "iopub.status.idle": "2025-03-30T03:15:58.934567Z",
     "shell.execute_reply": "2025-03-30T03:15:58.933626Z",
     "shell.execute_reply.started": "2025-03-30T03:15:58.916525Z"
    },
    "trusted": true
   },
   "outputs": [],
   "source": [
    "from collections import defaultdict\n",
    "from tqdm import tqdm\n",
    "from sklearn.metrics import precision_score, recall_score, accuracy_score, roc_auc_score, confusion_matrix\n",
    "\n",
    "class Trainer:\n",
    "    def __init__(self, model, config, train_loader, val_loader, device):\n",
    "        self.model = model\n",
    "        self.config = config\n",
    "        self.train_loader = train_loader\n",
    "        self.val_loader = val_loader\n",
    "        self.device = device\n",
    "        \n",
    "        # Initialize class weights for imbalance\n",
    "        self.class_weights = self.compute_class_weights()\n",
    "        self.class_weights = torch.tensor(self.class_weights, dtype=torch.float).to(device)\n",
    "        \n",
    "        # Loss function with focal loss for imbalanced data\n",
    "        self.criterion = nn.CrossEntropyLoss(weight=self.class_weights)\n",
    "        \n",
    "        # Optimizer with weight decay and different LR for different parameter groups\n",
    "        no_decay = [\"bias\", \"LayerNorm.weight\"]\n",
    "        optimizer_grouped_parameters = [\n",
    "            {\n",
    "                \"params\": [p for n, p in model.named_parameters() \n",
    "                          if not any(nd in n for nd in no_decay) and p.requires_grad],\n",
    "                \"weight_decay\": 0.01,\n",
    "            },\n",
    "            {\n",
    "                \"params\": [p for n, p in model.named_parameters() \n",
    "                          if any(nd in n for nd in no_decay) and p.requires_grad],\n",
    "                \"weight_decay\": 0.0,\n",
    "            },\n",
    "        ]\n",
    "        \n",
    "        self.optimizer = torch.optim.AdamW(\n",
    "            optimizer_grouped_parameters,\n",
    "            lr=config.learning_rate,\n",
    "            eps=1e-8\n",
    "        )\n",
    "        \n",
    "        # LR scheduler with warmup\n",
    "        total_steps = len(train_loader) * config.num_epochs\n",
    "        warmup_steps = int(0.1 * total_steps)  # 10% warmup\n",
    "        \n",
    "        from transformers import get_scheduler\n",
    "        self.scheduler = get_scheduler(\n",
    "            name=\"linear\",\n",
    "            optimizer=self.optimizer,\n",
    "            num_warmup_steps=warmup_steps,\n",
    "            num_training_steps=total_steps\n",
    "        )\n",
    "        \n",
    "        # Save training history\n",
    "        self.history = {\n",
    "            'train_loss': [],\n",
    "            'val_loss': [],\n",
    "            'train_accuracy': [],\n",
    "            'val_accuracy': [],\n",
    "            'train_f1': [],\n",
    "            'val_f1': [],\n",
    "            'val_auc': []\n",
    "        }\n",
    "        \n",
    "        # Best model state\n",
    "        self.best_model_state = None\n",
    "        self.best_val_f1 = 0.0\n",
    "    \n",
    "    def compute_class_weights(self):\n",
    "        \"\"\"Compute weights for class imbalance\"\"\"\n",
    "        # Count samples per class\n",
    "        class_counts = [0, 0]  # Binary classification\n",
    "        \n",
    "        for batch in self.train_loader:\n",
    "            labels = batch['labels'].cpu().numpy()\n",
    "            unique_labels, counts = np.unique(labels, return_counts=True)\n",
    "            for label, count in zip(unique_labels, counts):\n",
    "                class_counts[label] += count\n",
    "        \n",
    "        # Calculate balanced weights\n",
    "        total = sum(class_counts)\n",
    "        weights = [total / (len(class_counts) * count) if count > 0 else 1.0 \n",
    "                  for count in class_counts]\n",
    "        \n",
    "        print(f\"Class counts: {class_counts}\")\n",
    "        print(f\"Class weights: {weights}\")\n",
    "        \n",
    "        return weights\n",
    "    \n",
    "    def train_epoch(self, epoch):\n",
    "        \"\"\"Train for one epoch with stability improvements\"\"\"\n",
    "        self.model.train()\n",
    "        epoch_loss = 0.0\n",
    "        all_preds = []\n",
    "        all_labels = []\n",
    "        \n",
    "        # Use tqdm for progress bar\n",
    "        train_iter = tqdm(self.train_loader, desc=f\"Training Epoch {epoch+1}/{self.config.num_epochs}\")\n",
    "        \n",
    "        for batch in train_iter:\n",
    "            # Move to device\n",
    "            input_ids = batch['input_ids'].to(self.device)\n",
    "            attention_mask = batch['attention_mask'].to(self.device)\n",
    "            labels = batch['labels'].to(self.device)\n",
    "            \n",
    "            # Forward pass\n",
    "            self.optimizer.zero_grad()\n",
    "            \n",
    "            # Handle potential CUDA out of memory\n",
    "            try:\n",
    "                outputs = self.model(input_ids, attention_mask)\n",
    "                loss = self.criterion(outputs, labels)\n",
    "                \n",
    "                # Backward pass with gradient clipping\n",
    "                loss.backward()\n",
    "                torch.nn.utils.clip_grad_norm_(self.model.parameters(), max_norm=1.0)\n",
    "                \n",
    "                self.optimizer.step()\n",
    "                self.scheduler.step()\n",
    "                \n",
    "                # Collect metrics\n",
    "                epoch_loss += loss.item()\n",
    "                preds = torch.argmax(outputs, dim=1)\n",
    "                all_preds.extend(preds.cpu().numpy())\n",
    "                all_labels.extend(labels.cpu().numpy())\n",
    "                \n",
    "                # Update progress bar\n",
    "                train_iter.set_postfix({\n",
    "                    'loss': f\"{loss.item():.4f}\",\n",
    "                    'acc': f\"{(preds == labels).float().mean().item():.4f}\",\n",
    "                    'lr': f\"{self.scheduler.get_last_lr()[0]:.8f}\"\n",
    "                })\n",
    "            \n",
    "            except RuntimeError as e:\n",
    "                if 'out of memory' in str(e):\n",
    "                    print(f\"WARNING: CUDA OOM - Skipping batch and reducing batch size\")\n",
    "                    torch.cuda.empty_cache()\n",
    "                    continue\n",
    "                else:\n",
    "                    raise e\n",
    "        \n",
    "        # Calculate epoch metrics\n",
    "        metrics = self.calculate_metrics(all_preds, all_labels, epoch_loss, len(self.train_loader))\n",
    "        \n",
    "        # Update history\n",
    "        self.history['train_loss'].append(metrics['loss'])\n",
    "        self.history['train_accuracy'].append(metrics['accuracy'])\n",
    "        self.history['train_f1'].append(metrics['f1'])\n",
    "        \n",
    "        return metrics\n",
    "    \n",
    "    def validate(self, epoch):\n",
    "        \"\"\"Validate model on validation set\"\"\"\n",
    "        self.model.eval()\n",
    "        total_loss = 0\n",
    "        all_preds = []\n",
    "        all_labels = []\n",
    "        all_probs = []\n",
    "        \n",
    "        val_pbar = tqdm(self.val_loader, desc=f'Validation Epoch {epoch+1}/{self.config.num_epochs}')\n",
    "        \n",
    "        with torch.no_grad():\n",
    "            for batch in val_pbar:\n",
    "                # Move batch to device\n",
    "                input_ids = batch['input_ids'].to(self.device)\n",
    "                attention_mask = batch['attention_mask'].to(self.device)\n",
    "                token_type_ids = batch.get('token_type_ids', None)\n",
    "                if token_type_ids is not None:\n",
    "                    token_type_ids = token_type_ids.to(self.device)\n",
    "                labels = batch['labels'].to(self.device)\n",
    "                \n",
    "                # Forward pass\n",
    "                outputs = self.model(input_ids, attention_mask)\n",
    "                loss = self.criterion(outputs, labels)\n",
    "                \n",
    "                # Calculate probabilities for positive class\n",
    "                probs = F.softmax(outputs, dim=1)[:, 1]\n",
    "                \n",
    "                # Track metrics\n",
    "                total_loss += loss.item()\n",
    "                preds = torch.argmax(outputs, dim=1)\n",
    "                all_preds.extend(preds.cpu().numpy())\n",
    "                all_labels.extend(labels.cpu().numpy())\n",
    "                all_probs.extend(probs.cpu().numpy())\n",
    "                \n",
    "                # Update progress bar\n",
    "                val_pbar.set_postfix({\n",
    "                    'loss': f\"{loss.item():.4f}\",\n",
    "                    'acc': f\"{(preds == labels).float().mean().item():.4f}\"\n",
    "                })\n",
    "        \n",
    "        # Calculate metrics\n",
    "        metrics = self.calculate_metrics(all_preds, all_labels, total_loss, len(self.val_loader))\n",
    "        \n",
    "        # Add AUC if we have both classes in validation set\n",
    "        unique_labels = np.unique(all_labels)\n",
    "        if len(unique_labels) > 1:\n",
    "            metrics['auc'] = roc_auc_score(all_labels, all_probs)\n",
    "        \n",
    "        # Track history\n",
    "        self.history['val_loss'].append(metrics['loss'])\n",
    "        self.history['val_accuracy'].append(metrics['accuracy'])\n",
    "        self.history['val_f1'].append(metrics['f1'])\n",
    "        \n",
    "        # Print detailed validation results\n",
    "        self.print_validation_stats(all_preds, all_labels, metrics)\n",
    "        \n",
    "        return metrics\n",
    "    \n",
    "    def calculate_metrics(self, preds, labels, total_loss, num_batches):\n",
    "        \"\"\"Calculate evaluation metrics\"\"\"\n",
    "        # Handle case with only one class\n",
    "        unique_labels = np.unique(labels)\n",
    "        if len(unique_labels) <= 1:\n",
    "            if 1 in unique_labels:  # Only positive samples\n",
    "                precision = 1.0\n",
    "                recall = 1.0\n",
    "                f1 = 1.0\n",
    "            else:  # Only negative samples\n",
    "                precision = 0.0\n",
    "                recall = 0.0\n",
    "                f1 = 0.0\n",
    "        else:\n",
    "            precision = precision_score(labels, preds, zero_division=0)\n",
    "            recall = recall_score(labels, preds, zero_division=0)\n",
    "            f1 = 2 * (precision * recall) / (precision + recall + 1e-8)\n",
    "        \n",
    "        # Create metrics dictionary\n",
    "        return {\n",
    "            'loss': total_loss / num_batches,\n",
    "            'accuracy': accuracy_score(labels, preds),\n",
    "            'precision': precision,\n",
    "            'recall': recall,\n",
    "            'f1': f1\n",
    "        }\n",
    "    \n",
    "    def print_validation_stats(self, preds, labels, metrics):\n",
    "        \"\"\"Print validation statistics\"\"\"\n",
    "        # Print prediction distribution\n",
    "        unique_preds, counts = np.unique(preds, return_counts=True)\n",
    "        pred_distribution = {int(label): int(count) for label, count in zip(unique_preds, counts)}\n",
    "        print(f\"\\nPrediction Distribution: {pred_distribution}\")\n",
    "        \n",
    "        # Print confusion matrix if possible\n",
    "        if len(np.unique(labels)) > 1 and len(np.unique(preds)) > 1:\n",
    "            cm = confusion_matrix(labels, preds)\n",
    "            print(\"\\nConfusion Matrix:\")\n",
    "            print(cm)\n",
    "        \n",
    "        # Print metrics\n",
    "        print(\"\\nValidation Metrics:\")\n",
    "        for metric, value in metrics.items():\n",
    "            print(f\"{metric.capitalize()}: {value:.4f}\")\n",
    "    \n",
    "    def train(self):\n",
    "        \"\"\"Main training loop with early stopping\"\"\"\n",
    "        best_val_f1 = 0.0\n",
    "        patience = 5\n",
    "        patience_counter = 0\n",
    "        best_model_state = None\n",
    "        \n",
    "        print(f\"Starting training for {self.config.num_epochs} epochs...\")\n",
    "        print(f\"Model parameters: {sum(p.numel() for p in self.model.parameters() if p.requires_grad):,} trainable\")\n",
    "        \n",
    "        for epoch in range(self.config.num_epochs):\n",
    "            print(f'\\nEpoch {epoch+1}/{self.config.num_epochs}')\n",
    "            \n",
    "            # Training phase\n",
    "            train_metrics = self.train_epoch(epoch)\n",
    "            print(\"\\nTraining Metrics:\")\n",
    "            for metric, value in train_metrics.items():\n",
    "                print(f\"{metric.capitalize()}: {value:.4f}\")\n",
    "            \n",
    "            # Validation phase\n",
    "            val_metrics = self.validate(epoch)\n",
    "            \n",
    "            # Early stopping check\n",
    "            if val_metrics['f1'] > best_val_f1:\n",
    "                best_val_f1 = val_metrics['f1']\n",
    "                patience_counter = 0\n",
    "                print(f'\\nNew best F1 score: {best_val_f1:.4f} - saving model')\n",
    "                \n",
    "                # Save best model\n",
    "                best_model_state = {\n",
    "                    'epoch': epoch,\n",
    "                    'model_state_dict': self.model.state_dict(),\n",
    "                    'optimizer_state_dict': self.optimizer.state_dict(),\n",
    "                    'scheduler_state_dict': self.scheduler.state_dict(),\n",
    "                    'best_f1': best_val_f1,\n",
    "                    'config': self.config.__dict__,\n",
    "                    'history': self.history\n",
    "                }\n",
    "                torch.save(best_model_state, 'best_dti_model.pt')\n",
    "            # else:\n",
    "            #     patience_counter += 1\n",
    "            #     print(f'\\nNo improvement in F1 score. Patience: {patience_counter}/{patience}')\n",
    "                \n",
    "            #     if patience_counter >= patience:\n",
    "            #         print(f'\\nEarly stopping triggered after {epoch+1} epochs')\n",
    "            #         break\n",
    "        \n",
    "        # Load best model if available\n",
    "        if best_model_state:\n",
    "            self.model.load_state_dict(best_model_state['model_state_dict'])\n",
    "            print(f\"\\nLoaded best model from epoch {best_model_state['epoch']+1}\")\n",
    "        \n",
    "        print(\"\\nTraining completed!\")\n",
    "        print(f\"Best validation F1 score: {best_val_f1:.4f}\")\n",
    "        \n",
    "        # Plot training history\n",
    "        self.plot_training_history()\n",
    "        \n",
    "        return best_val_f1\n",
    "    \n",
    "    def evaluate_test_set(self, test_loader):\n",
    "        \"\"\"Evaluate model on test set\"\"\"\n",
    "        self.model.eval()\n",
    "        total_loss = 0\n",
    "        all_preds = []\n",
    "        all_labels = []\n",
    "        all_probs = []\n",
    "        all_drug_ids = []\n",
    "        all_pdb_ids = []\n",
    "        \n",
    "        print(\"\\nEvaluating on test set...\")\n",
    "        with torch.no_grad():\n",
    "            for batch in tqdm(test_loader, desc=\"Test Evaluation\"):\n",
    "                # Move batch to device\n",
    "                input_ids = batch['input_ids'].to(self.device)\n",
    "                attention_mask = batch['attention_mask'].to(self.device)\n",
    "                token_type_ids = batch.get('token_type_ids', None)\n",
    "                if token_type_ids is not None:\n",
    "                    token_type_ids = token_type_ids.to(self.device)\n",
    "                labels = batch['labels'].to(self.device)\n",
    "                \n",
    "                # Store drug and pdb IDs\n",
    "                all_drug_ids.extend(batch['drug_id'])\n",
    "                all_pdb_ids.extend(batch['pdb_id'])\n",
    "                \n",
    "                # Forward pass\n",
    "                outputs = self.model(input_ids, attention_mask)\n",
    "                loss = self.criterion(outputs, labels)\n",
    "                \n",
    "                # Calculate probabilities\n",
    "                probs = F.softmax(outputs, dim=1)[:, 1]\n",
    "                \n",
    "                # Track metrics\n",
    "                total_loss += loss.item()\n",
    "                preds = torch.argmax(outputs, dim=1)\n",
    "                all_preds.extend(preds.cpu().numpy())\n",
    "                all_labels.extend(labels.cpu().numpy())\n",
    "                all_probs.extend(probs.cpu().numpy())\n",
    "        \n",
    "        # Calculate metrics\n",
    "        metrics = self.calculate_metrics(all_preds, all_labels, total_loss, len(test_loader))\n",
    "        \n",
    "        # Add AUC if we have both classes\n",
    "        unique_labels = np.unique(all_labels)\n",
    "        if len(unique_labels) > 1:\n",
    "            metrics['auc'] = roc_auc_score(all_labels, all_probs)\n",
    "        \n",
    "        # Print test results\n",
    "        print(\"\\nTest Set Confusion Matrix:\")\n",
    "        print(confusion_matrix(all_labels, all_preds))\n",
    "        \n",
    "        print(\"\\nTest Set Metrics:\")\n",
    "        for metric, value in metrics.items():\n",
    "            print(f\"{metric.capitalize()}: {value:.4f}\")\n",
    "        \n",
    "        # Save detailed results for analysis\n",
    "        results = pd.DataFrame({\n",
    "            'drug_id': all_drug_ids,\n",
    "            'pdb_id': all_pdb_ids,\n",
    "            'true_label': all_labels,\n",
    "            'predicted': all_preds,\n",
    "            'probability': all_probs\n",
    "        })\n",
    "        \n",
    "        results.to_csv('test_predictions.csv', index=False)\n",
    "        print(\"Saved detailed test predictions to 'test_predictions.csv'\")\n",
    "        \n",
    "        return metrics, results\n",
    "    \n",
    "    def plot_training_history(self):\n",
    "        \"\"\"Plot training history\"\"\"\n",
    "        try:\n",
    "            import matplotlib.pyplot as plt\n",
    "            \n",
    "            # Create figure with subplots\n",
    "            fig, (ax1, ax2) = plt.subplots(1, 2, figsize=(12, 5))\n",
    "            \n",
    "            # Plot loss\n",
    "            ax1.plot(self.history['train_loss'], label='Training Loss')\n",
    "            ax1.plot(self.history['val_loss'], label='Validation Loss')\n",
    "            ax1.set_xlabel('Epoch')\n",
    "            ax1.set_ylabel('Loss')\n",
    "            ax1.set_title('Training and Validation Loss')\n",
    "            ax1.legend()\n",
    "            \n",
    "            # Plot metrics\n",
    "            ax2.plot(self.history['train_acc'], label='Training Accuracy')\n",
    "            ax2.plot(self.history['val_acc'], label='Validation Accuracy')\n",
    "            ax2.plot(self.history['train_f1'], label='Training F1')\n",
    "            ax2.plot(self.history['val_f1'], label='Validation F1')\n",
    "            ax2.set_xlabel('Epoch')\n",
    "            ax2.set_ylabel('Score')\n",
    "            ax2.set_title('Training and Validation Metrics')\n",
    "            ax2.legend()\n",
    "            \n",
    "            plt.tight_layout()\n",
    "            plt.savefig('training_history.png')\n",
    "            plt.show()\n",
    "            \n",
    "            print(\"Training history plot saved to 'training_history.png'\")\n",
    "        except Exception as e:\n",
    "            print(f\"Could not plot training history: {str(e)}\")"
   ]
  },
  {
   "cell_type": "code",
   "execution_count": 12,
   "metadata": {},
   "outputs": [],
   "source": [
    "def set_seed(seed=42):\n",
    "    \"\"\"Set seed for reproducibility\"\"\"\n",
    "    random.seed(seed)\n",
    "    np.random.seed(seed)\n",
    "    torch.manual_seed(seed)\n",
    "    torch.cuda.manual_seed_all(seed)\n",
    "    torch.backends.cudnn.deterministic = True\n",
    "    torch.backends.cudnn.benchmark = False\n",
    "\n",
    "def initialize_training():\n",
    "    \"\"\"Initialize all components with stability improvements\"\"\"\n",
    "    # Set seed for reproducibility\n",
    "    set_seed(42)\n",
    "    \n",
    "    # Initialize tokenizer\n",
    "    print(\"Loading BioBERT tokenizer...\")\n",
    "    base_tokenizer = AutoTokenizer.from_pretrained(\"dmis-lab/biobert-v1.1\")\n",
    "    \n",
    "    # Initialize model configuration\n",
    "    print(\"Creating model configuration...\")\n",
    "    config = ModelConfig()\n",
    "    \n",
    "    # Create datasets with enhanced preprocessing\n",
    "    print(\"Creating datasets...\")\n",
    "    train_dataset = EnhancedDTIDataset(\n",
    "        train_data,\n",
    "        drugs_dict,\n",
    "        proteins_dict,\n",
    "        base_tokenizer,\n",
    "        config\n",
    "    )\n",
    "    \n",
    "    val_dataset = EnhancedDTIDataset(\n",
    "        val_data,\n",
    "        drugs_dict,\n",
    "        proteins_dict,\n",
    "        base_tokenizer,\n",
    "        config\n",
    "    )\n",
    "    \n",
    "    test_dataset = EnhancedDTIDataset(\n",
    "        test_data,\n",
    "        drugs_dict,\n",
    "        proteins_dict,\n",
    "        base_tokenizer,\n",
    "        config\n",
    "    )\n",
    "    \n",
    "    # Create data loaders\n",
    "    print(\"Creating data loaders...\")\n",
    "    train_loader = DataLoader(\n",
    "        train_dataset,\n",
    "        batch_size=config.batch_size,\n",
    "        shuffle=True,\n",
    "        num_workers=2,\n",
    "        pin_memory=True,  # Improves transfer speed to GPU\n",
    "        drop_last=True    # Important for stable batch norm\n",
    "    )\n",
    "    \n",
    "    val_loader = DataLoader(\n",
    "        val_dataset,\n",
    "        batch_size=config.batch_size,\n",
    "        shuffle=False,\n",
    "        num_workers=2,\n",
    "        pin_memory=True\n",
    "    )\n",
    "    \n",
    "    test_loader = DataLoader(\n",
    "        test_dataset,\n",
    "        batch_size=config.batch_size,\n",
    "        shuffle=False,\n",
    "        num_workers=2,\n",
    "        pin_memory=True\n",
    "    )\n",
    "    \n",
    "    # Initialize model\n",
    "    print(\"Initializing DTI Transformer model...\")\n",
    "    model = DTITransformerModel(config, base_tokenizer)\n",
    "    \n",
    "    # Move model to device\n",
    "    device = torch.device(\"cuda\" if torch.cuda.is_available() else \"cpu\")\n",
    "    print(f\"Using device: {device}\")\n",
    "    model = model.to(device)\n",
    "    \n",
    "    # Create trainer\n",
    "    print(\"Creating trainer...\")\n",
    "    trainer = Trainer(\n",
    "        model=model,\n",
    "        config=config,\n",
    "        train_loader=train_loader,\n",
    "        val_loader=val_loader,\n",
    "        device=device\n",
    "    )\n",
    "    \n",
    "    return model, trainer, test_loader, test_dataset, base_tokenizer, device"
   ]
  },
  {
   "cell_type": "code",
   "execution_count": 13,
   "metadata": {
    "execution": {
     "iopub.execute_input": "2025-03-30T03:15:58.935968Z",
     "iopub.status.busy": "2025-03-30T03:15:58.935470Z",
     "iopub.status.idle": "2025-03-30T03:16:26.750951Z",
     "shell.execute_reply": "2025-03-30T03:16:26.749514Z",
     "shell.execute_reply.started": "2025-03-30T03:15:58.935936Z"
    },
    "trusted": true
   },
   "outputs": [
    {
     "name": "stdout",
     "output_type": "stream",
     "text": [
      "Loading BioBERT tokenizer...\n",
      "Creating model configuration...\n",
      "Creating datasets...\n",
      "Pre-processing drug-protein pairs...\n"
     ]
    },
    {
     "name": "stderr",
     "output_type": "stream",
     "text": [
      "Processing dataset: 100%|██████████| 1355/1355 [00:00<00:00, 1643.82it/s]\n"
     ]
    },
    {
     "name": "stdout",
     "output_type": "stream",
     "text": [
      "Processed 1355 valid drug-protein pairs.\n",
      "Pre-processing drug-protein pairs...\n"
     ]
    },
    {
     "name": "stderr",
     "output_type": "stream",
     "text": [
      "Processing dataset: 100%|██████████| 290/290 [00:00<00:00, 1599.49it/s]\n"
     ]
    },
    {
     "name": "stdout",
     "output_type": "stream",
     "text": [
      "Processed 290 valid drug-protein pairs.\n",
      "Pre-processing drug-protein pairs...\n"
     ]
    },
    {
     "name": "stderr",
     "output_type": "stream",
     "text": [
      "Processing dataset: 100%|██████████| 291/291 [00:00<00:00, 1579.58it/s]\n"
     ]
    },
    {
     "name": "stdout",
     "output_type": "stream",
     "text": [
      "Processed 291 valid drug-protein pairs.\n",
      "Creating data loaders...\n",
      "Initializing DTI Transformer model...\n"
     ]
    },
    {
     "name": "stderr",
     "output_type": "stream",
     "text": [
      "Some weights of the model checkpoint at dmis-lab/biobert-v1.1 were not used when initializing BertModel: ['pooler.dense.bias', 'pooler.dense.weight']\n",
      "- This IS expected if you are initializing BertModel from the checkpoint of a model trained on another task or with another architecture (e.g. initializing a BertForSequenceClassification model from a BertForPreTraining model).\n",
      "- This IS NOT expected if you are initializing BertModel from the checkpoint of a model that you expect to be exactly identical (initializing a BertForSequenceClassification model from a BertForSequenceClassification model).\n"
     ]
    },
    {
     "name": "stdout",
     "output_type": "stream",
     "text": [
      "Trainable parameters: 43,230,338\n",
      "Using device: cuda\n",
      "Creating trainer...\n"
     ]
    },
    {
     "name": "stderr",
     "output_type": "stream",
     "text": [
      "huggingface/tokenizers: The current process just got forked, after parallelism has already been used. Disabling parallelism to avoid deadlocks...\n",
      "To disable this warning, you can either:\n",
      "\t- Avoid using `tokenizers` before the fork if possible\n",
      "\t- Explicitly set the environment variable TOKENIZERS_PARALLELISM=(true | false)\n",
      "huggingface/tokenizers: The current process just got forked, after parallelism has already been used. Disabling parallelism to avoid deadlocks...\n",
      "To disable this warning, you can either:\n",
      "\t- Avoid using `tokenizers` before the fork if possible\n",
      "\t- Explicitly set the environment variable TOKENIZERS_PARALLELISM=(true | false)\n"
     ]
    },
    {
     "name": "stdout",
     "output_type": "stream",
     "text": [
      "Class counts: [np.int64(696), np.int64(648)]\n",
      "Class weights: [np.float64(0.9655172413793104), np.float64(1.037037037037037)]\n",
      "Starting training for 100 epochs...\n",
      "Model parameters: 43,230,338 trainable\n",
      "\n",
      "Epoch 1/100\n"
     ]
    },
    {
     "name": "stderr",
     "output_type": "stream",
     "text": [
      "Training Epoch 1/100:   0%|          | 0/42 [00:00<?, ?it/s]huggingface/tokenizers: The current process just got forked, after parallelism has already been used. Disabling parallelism to avoid deadlocks...\n",
      "To disable this warning, you can either:\n",
      "\t- Avoid using `tokenizers` before the fork if possible\n",
      "\t- Explicitly set the environment variable TOKENIZERS_PARALLELISM=(true | false)\n",
      "huggingface/tokenizers: The current process just got forked, after parallelism has already been used. Disabling parallelism to avoid deadlocks...\n",
      "To disable this warning, you can either:\n",
      "\t- Avoid using `tokenizers` before the fork if possible\n",
      "\t- Explicitly set the environment variable TOKENIZERS_PARALLELISM=(true | false)\n",
      "Training Epoch 1/100: 100%|██████████| 42/42 [00:20<00:00,  2.04it/s, loss=0.6995, acc=0.4062, lr=0.00000100]\n"
     ]
    },
    {
     "name": "stdout",
     "output_type": "stream",
     "text": [
      "\n",
      "Training Metrics:\n",
      "Loss: 0.6988\n",
      "Accuracy: 0.4955\n",
      "Precision: 0.4350\n",
      "Recall: 0.1495\n",
      "F1: 0.2225\n"
     ]
    },
    {
     "name": "stderr",
     "output_type": "stream",
     "text": [
      "Validation Epoch 1/100:   0%|          | 0/10 [00:00<?, ?it/s]huggingface/tokenizers: The current process just got forked, after parallelism has already been used. Disabling parallelism to avoid deadlocks...\n",
      "To disable this warning, you can either:\n",
      "\t- Avoid using `tokenizers` before the fork if possible\n",
      "\t- Explicitly set the environment variable TOKENIZERS_PARALLELISM=(true | false)\n",
      "huggingface/tokenizers: The current process just got forked, after parallelism has already been used. Disabling parallelism to avoid deadlocks...\n",
      "To disable this warning, you can either:\n",
      "\t- Avoid using `tokenizers` before the fork if possible\n",
      "\t- Explicitly set the environment variable TOKENIZERS_PARALLELISM=(true | false)\n",
      "/home/f20221129/.conda/envs/torch/lib/python3.10/site-packages/torch/nn/modules/transformer.py:508: UserWarning: The PyTorch API of nested tensors is in prototype stage and will change in the near future. We recommend specifying layout=torch.jagged when constructing a nested tensor, as this layout receives active development, has better operator coverage, and works with torch.compile. (Triggered internally at /pytorch/aten/src/ATen/NestedTensorImpl.cpp:178.)\n",
      "  output = torch._nested_tensor_from_mask(\n",
      "Validation Epoch 1/100: 100%|██████████| 10/10 [00:02<00:00,  4.99it/s, loss=0.7780, acc=0.0000]\n"
     ]
    },
    {
     "name": "stdout",
     "output_type": "stream",
     "text": [
      "\n",
      "Prediction Distribution: {0: 282, 1: 8}\n",
      "\n",
      "Confusion Matrix:\n",
      "[[132   1]\n",
      " [150   7]]\n",
      "\n",
      "Validation Metrics:\n",
      "Loss: 0.7054\n",
      "Accuracy: 0.4793\n",
      "Precision: 0.8750\n",
      "Recall: 0.0446\n",
      "F1: 0.0848\n",
      "Auc: 0.5454\n",
      "\n",
      "New best F1 score: 0.0848 - saving model\n",
      "\n",
      "Epoch 2/100\n"
     ]
    },
    {
     "name": "stderr",
     "output_type": "stream",
     "text": [
      "Training Epoch 2/100:   0%|          | 0/42 [00:00<?, ?it/s]huggingface/tokenizers: The current process just got forked, after parallelism has already been used. Disabling parallelism to avoid deadlocks...\n",
      "To disable this warning, you can either:\n",
      "\t- Avoid using `tokenizers` before the fork if possible\n",
      "\t- Explicitly set the environment variable TOKENIZERS_PARALLELISM=(true | false)\n",
      "huggingface/tokenizers: The current process just got forked, after parallelism has already been used. Disabling parallelism to avoid deadlocks...\n",
      "To disable this warning, you can either:\n",
      "\t- Avoid using `tokenizers` before the fork if possible\n",
      "\t- Explicitly set the environment variable TOKENIZERS_PARALLELISM=(true | false)\n",
      "Training Epoch 2/100: 100%|██████████| 42/42 [00:20<00:00,  2.09it/s, loss=0.7063, acc=0.4062, lr=0.00000200]\n"
     ]
    },
    {
     "name": "stdout",
     "output_type": "stream",
     "text": [
      "\n",
      "Training Metrics:\n",
      "Loss: 0.6931\n",
      "Accuracy: 0.5126\n",
      "Precision: 0.4913\n",
      "Recall: 0.4388\n",
      "F1: 0.4636\n"
     ]
    },
    {
     "name": "stderr",
     "output_type": "stream",
     "text": [
      "Validation Epoch 2/100:   0%|          | 0/10 [00:00<?, ?it/s]huggingface/tokenizers: The current process just got forked, after parallelism has already been used. Disabling parallelism to avoid deadlocks...\n",
      "To disable this warning, you can either:\n",
      "\t- Avoid using `tokenizers` before the fork if possible\n",
      "\t- Explicitly set the environment variable TOKENIZERS_PARALLELISM=(true | false)\n",
      "huggingface/tokenizers: The current process just got forked, after parallelism has already been used. Disabling parallelism to avoid deadlocks...\n",
      "To disable this warning, you can either:\n",
      "\t- Avoid using `tokenizers` before the fork if possible\n",
      "\t- Explicitly set the environment variable TOKENIZERS_PARALLELISM=(true | false)\n",
      "Validation Epoch 2/100: 100%|██████████| 10/10 [00:01<00:00,  5.07it/s, loss=0.6879, acc=0.5000]\n"
     ]
    },
    {
     "name": "stdout",
     "output_type": "stream",
     "text": [
      "\n",
      "Prediction Distribution: {0: 28, 1: 262}\n",
      "\n",
      "Confusion Matrix:\n",
      "[[ 12 121]\n",
      " [ 16 141]]\n",
      "\n",
      "Validation Metrics:\n",
      "Loss: 0.6882\n",
      "Accuracy: 0.5276\n",
      "Precision: 0.5382\n",
      "Recall: 0.8981\n",
      "F1: 0.6730\n",
      "Auc: 0.5515\n",
      "\n",
      "New best F1 score: 0.6730 - saving model\n",
      "\n",
      "Epoch 3/100\n"
     ]
    },
    {
     "name": "stderr",
     "output_type": "stream",
     "text": [
      "Training Epoch 3/100:   0%|          | 0/42 [00:00<?, ?it/s]huggingface/tokenizers: The current process just got forked, after parallelism has already been used. Disabling parallelism to avoid deadlocks...\n",
      "To disable this warning, you can either:\n",
      "\t- Avoid using `tokenizers` before the fork if possible\n",
      "\t- Explicitly set the environment variable TOKENIZERS_PARALLELISM=(true | false)\n",
      "huggingface/tokenizers: The current process just got forked, after parallelism has already been used. Disabling parallelism to avoid deadlocks...\n",
      "To disable this warning, you can either:\n",
      "\t- Avoid using `tokenizers` before the fork if possible\n",
      "\t- Explicitly set the environment variable TOKENIZERS_PARALLELISM=(true | false)\n",
      "Training Epoch 3/100: 100%|██████████| 42/42 [00:20<00:00,  2.09it/s, loss=0.6798, acc=0.5625, lr=0.00000300]\n"
     ]
    },
    {
     "name": "stdout",
     "output_type": "stream",
     "text": [
      "\n",
      "Training Metrics:\n",
      "Loss: 0.6964\n",
      "Accuracy: 0.5030\n",
      "Precision: 0.4803\n",
      "Recall: 0.3957\n",
      "F1: 0.4339\n"
     ]
    },
    {
     "name": "stderr",
     "output_type": "stream",
     "text": [
      "Validation Epoch 3/100:   0%|          | 0/10 [00:00<?, ?it/s]huggingface/tokenizers: The current process just got forked, after parallelism has already been used. Disabling parallelism to avoid deadlocks...\n",
      "To disable this warning, you can either:\n",
      "\t- Avoid using `tokenizers` before the fork if possible\n",
      "\t- Explicitly set the environment variable TOKENIZERS_PARALLELISM=(true | false)\n",
      "huggingface/tokenizers: The current process just got forked, after parallelism has already been used. Disabling parallelism to avoid deadlocks...\n",
      "To disable this warning, you can either:\n",
      "\t- Avoid using `tokenizers` before the fork if possible\n",
      "\t- Explicitly set the environment variable TOKENIZERS_PARALLELISM=(true | false)\n",
      "Validation Epoch 3/100: 100%|██████████| 10/10 [00:01<00:00,  5.06it/s, loss=0.6994, acc=0.0000]\n"
     ]
    },
    {
     "name": "stdout",
     "output_type": "stream",
     "text": [
      "\n",
      "Prediction Distribution: {0: 171, 1: 119}\n",
      "\n",
      "Confusion Matrix:\n",
      "[[81 52]\n",
      " [90 67]]\n",
      "\n",
      "Validation Metrics:\n",
      "Loss: 0.6923\n",
      "Accuracy: 0.5103\n",
      "Precision: 0.5630\n",
      "Recall: 0.4268\n",
      "F1: 0.4855\n",
      "Auc: 0.5506\n",
      "\n",
      "Epoch 4/100\n"
     ]
    },
    {
     "name": "stderr",
     "output_type": "stream",
     "text": [
      "Training Epoch 4/100:   0%|          | 0/42 [00:00<?, ?it/s]huggingface/tokenizers: The current process just got forked, after parallelism has already been used. Disabling parallelism to avoid deadlocks...\n",
      "To disable this warning, you can either:\n",
      "\t- Avoid using `tokenizers` before the fork if possible\n",
      "\t- Explicitly set the environment variable TOKENIZERS_PARALLELISM=(true | false)\n",
      "huggingface/tokenizers: The current process just got forked, after parallelism has already been used. Disabling parallelism to avoid deadlocks...\n",
      "To disable this warning, you can either:\n",
      "\t- Avoid using `tokenizers` before the fork if possible\n",
      "\t- Explicitly set the environment variable TOKENIZERS_PARALLELISM=(true | false)\n",
      "Training Epoch 4/100: 100%|██████████| 42/42 [00:20<00:00,  2.09it/s, loss=0.6687, acc=0.5312, lr=0.00000400]\n"
     ]
    },
    {
     "name": "stdout",
     "output_type": "stream",
     "text": [
      "\n",
      "Training Metrics:\n",
      "Loss: 0.6897\n",
      "Accuracy: 0.5171\n",
      "Precision: 0.5000\n",
      "Recall: 0.5593\n",
      "F1: 0.5280\n"
     ]
    },
    {
     "name": "stderr",
     "output_type": "stream",
     "text": [
      "Validation Epoch 4/100:   0%|          | 0/10 [00:00<?, ?it/s]huggingface/tokenizers: The current process just got forked, after parallelism has already been used. Disabling parallelism to avoid deadlocks...\n",
      "To disable this warning, you can either:\n",
      "\t- Avoid using `tokenizers` before the fork if possible\n",
      "\t- Explicitly set the environment variable TOKENIZERS_PARALLELISM=(true | false)\n",
      "huggingface/tokenizers: The current process just got forked, after parallelism has already been used. Disabling parallelism to avoid deadlocks...\n",
      "To disable this warning, you can either:\n",
      "\t- Avoid using `tokenizers` before the fork if possible\n",
      "\t- Explicitly set the environment variable TOKENIZERS_PARALLELISM=(true | false)\n",
      "Validation Epoch 4/100: 100%|██████████| 10/10 [00:01<00:00,  5.06it/s, loss=0.7561, acc=0.0000]\n"
     ]
    },
    {
     "name": "stdout",
     "output_type": "stream",
     "text": [
      "\n",
      "Prediction Distribution: {0: 287, 1: 3}\n",
      "\n",
      "Confusion Matrix:\n",
      "[[133   0]\n",
      " [154   3]]\n",
      "\n",
      "Validation Metrics:\n",
      "Loss: 0.7129\n",
      "Accuracy: 0.4690\n",
      "Precision: 1.0000\n",
      "Recall: 0.0191\n",
      "F1: 0.0375\n",
      "Auc: 0.5452\n",
      "\n",
      "Epoch 5/100\n"
     ]
    },
    {
     "name": "stderr",
     "output_type": "stream",
     "text": [
      "Training Epoch 5/100:   0%|          | 0/42 [00:00<?, ?it/s]huggingface/tokenizers: The current process just got forked, after parallelism has already been used. Disabling parallelism to avoid deadlocks...\n",
      "To disable this warning, you can either:\n",
      "\t- Avoid using `tokenizers` before the fork if possible\n",
      "\t- Explicitly set the environment variable TOKENIZERS_PARALLELISM=(true | false)\n",
      "huggingface/tokenizers: The current process just got forked, after parallelism has already been used. Disabling parallelism to avoid deadlocks...\n",
      "To disable this warning, you can either:\n",
      "\t- Avoid using `tokenizers` before the fork if possible\n",
      "\t- Explicitly set the environment variable TOKENIZERS_PARALLELISM=(true | false)\n",
      "Training Epoch 5/100: 100%|██████████| 42/42 [00:20<00:00,  2.09it/s, loss=0.6844, acc=0.5625, lr=0.00000500]\n"
     ]
    },
    {
     "name": "stdout",
     "output_type": "stream",
     "text": [
      "\n",
      "Training Metrics:\n",
      "Loss: 0.6915\n",
      "Accuracy: 0.5246\n",
      "Precision: 0.5092\n",
      "Recall: 0.5084\n",
      "F1: 0.5088\n"
     ]
    },
    {
     "name": "stderr",
     "output_type": "stream",
     "text": [
      "Validation Epoch 5/100:   0%|          | 0/10 [00:00<?, ?it/s]huggingface/tokenizers: The current process just got forked, after parallelism has already been used. Disabling parallelism to avoid deadlocks...\n",
      "To disable this warning, you can either:\n",
      "\t- Avoid using `tokenizers` before the fork if possible\n",
      "\t- Explicitly set the environment variable TOKENIZERS_PARALLELISM=(true | false)\n",
      "huggingface/tokenizers: The current process just got forked, after parallelism has already been used. Disabling parallelism to avoid deadlocks...\n",
      "To disable this warning, you can either:\n",
      "\t- Avoid using `tokenizers` before the fork if possible\n",
      "\t- Explicitly set the environment variable TOKENIZERS_PARALLELISM=(true | false)\n",
      "Validation Epoch 5/100: 100%|██████████| 10/10 [00:01<00:00,  5.07it/s, loss=0.6675, acc=1.0000]\n"
     ]
    },
    {
     "name": "stdout",
     "output_type": "stream",
     "text": [
      "\n",
      "Prediction Distribution: {0: 206, 1: 84}\n",
      "\n",
      "Confusion Matrix:\n",
      "[[ 98  35]\n",
      " [108  49]]\n",
      "\n",
      "Validation Metrics:\n",
      "Loss: 0.6947\n",
      "Accuracy: 0.5069\n",
      "Precision: 0.5833\n",
      "Recall: 0.3121\n",
      "F1: 0.4066\n",
      "Auc: 0.5452\n",
      "\n",
      "Epoch 6/100\n"
     ]
    },
    {
     "name": "stderr",
     "output_type": "stream",
     "text": [
      "Training Epoch 6/100:   0%|          | 0/42 [00:00<?, ?it/s]huggingface/tokenizers: The current process just got forked, after parallelism has already been used. Disabling parallelism to avoid deadlocks...\n",
      "To disable this warning, you can either:\n",
      "\t- Avoid using `tokenizers` before the fork if possible\n",
      "\t- Explicitly set the environment variable TOKENIZERS_PARALLELISM=(true | false)\n",
      "huggingface/tokenizers: The current process just got forked, after parallelism has already been used. Disabling parallelism to avoid deadlocks...\n",
      "To disable this warning, you can either:\n",
      "\t- Avoid using `tokenizers` before the fork if possible\n",
      "\t- Explicitly set the environment variable TOKENIZERS_PARALLELISM=(true | false)\n",
      "Training Epoch 6/100: 100%|██████████| 42/42 [00:20<00:00,  2.09it/s, loss=0.6621, acc=0.6875, lr=0.00000600]\n"
     ]
    },
    {
     "name": "stdout",
     "output_type": "stream",
     "text": [
      "\n",
      "Training Metrics:\n",
      "Loss: 0.6886\n",
      "Accuracy: 0.5454\n",
      "Precision: 0.5234\n",
      "Recall: 0.6053\n",
      "F1: 0.5614\n"
     ]
    },
    {
     "name": "stderr",
     "output_type": "stream",
     "text": [
      "Validation Epoch 6/100:   0%|          | 0/10 [00:00<?, ?it/s]huggingface/tokenizers: The current process just got forked, after parallelism has already been used. Disabling parallelism to avoid deadlocks...\n",
      "To disable this warning, you can either:\n",
      "\t- Avoid using `tokenizers` before the fork if possible\n",
      "\t- Explicitly set the environment variable TOKENIZERS_PARALLELISM=(true | false)\n",
      "huggingface/tokenizers: The current process just got forked, after parallelism has already been used. Disabling parallelism to avoid deadlocks...\n",
      "To disable this warning, you can either:\n",
      "\t- Avoid using `tokenizers` before the fork if possible\n",
      "\t- Explicitly set the environment variable TOKENIZERS_PARALLELISM=(true | false)\n",
      "Validation Epoch 6/100: 100%|██████████| 10/10 [00:01<00:00,  5.07it/s, loss=0.4845, acc=1.0000]\n"
     ]
    },
    {
     "name": "stdout",
     "output_type": "stream",
     "text": [
      "\n",
      "Prediction Distribution: {0: 41, 1: 249}\n",
      "\n",
      "Confusion Matrix:\n",
      "[[ 21 112]\n",
      " [ 20 137]]\n",
      "\n",
      "Validation Metrics:\n",
      "Loss: 0.6657\n",
      "Accuracy: 0.5448\n",
      "Precision: 0.5502\n",
      "Recall: 0.8726\n",
      "F1: 0.6749\n",
      "Auc: 0.5458\n",
      "\n",
      "New best F1 score: 0.6749 - saving model\n",
      "\n",
      "Epoch 7/100\n"
     ]
    },
    {
     "name": "stderr",
     "output_type": "stream",
     "text": [
      "Training Epoch 7/100:   0%|          | 0/42 [00:00<?, ?it/s]huggingface/tokenizers: The current process just got forked, after parallelism has already been used. Disabling parallelism to avoid deadlocks...\n",
      "To disable this warning, you can either:\n",
      "\t- Avoid using `tokenizers` before the fork if possible\n",
      "\t- Explicitly set the environment variable TOKENIZERS_PARALLELISM=(true | false)\n",
      "huggingface/tokenizers: The current process just got forked, after parallelism has already been used. Disabling parallelism to avoid deadlocks...\n",
      "To disable this warning, you can either:\n",
      "\t- Avoid using `tokenizers` before the fork if possible\n",
      "\t- Explicitly set the environment variable TOKENIZERS_PARALLELISM=(true | false)\n",
      "Training Epoch 7/100: 100%|██████████| 42/42 [00:20<00:00,  2.09it/s, loss=0.6493, acc=0.6875, lr=0.00000700]\n"
     ]
    },
    {
     "name": "stdout",
     "output_type": "stream",
     "text": [
      "\n",
      "Training Metrics:\n",
      "Loss: 0.6880\n",
      "Accuracy: 0.5432\n",
      "Precision: 0.5252\n",
      "Recall: 0.5170\n",
      "F1: 0.5211\n"
     ]
    },
    {
     "name": "stderr",
     "output_type": "stream",
     "text": [
      "Validation Epoch 7/100:   0%|          | 0/10 [00:00<?, ?it/s]huggingface/tokenizers: The current process just got forked, after parallelism has already been used. Disabling parallelism to avoid deadlocks...\n",
      "To disable this warning, you can either:\n",
      "\t- Avoid using `tokenizers` before the fork if possible\n",
      "\t- Explicitly set the environment variable TOKENIZERS_PARALLELISM=(true | false)\n",
      "huggingface/tokenizers: The current process just got forked, after parallelism has already been used. Disabling parallelism to avoid deadlocks...\n",
      "To disable this warning, you can either:\n",
      "\t- Avoid using `tokenizers` before the fork if possible\n",
      "\t- Explicitly set the environment variable TOKENIZERS_PARALLELISM=(true | false)\n",
      "Validation Epoch 7/100: 100%|██████████| 10/10 [00:01<00:00,  5.06it/s, loss=0.5350, acc=1.0000]\n"
     ]
    },
    {
     "name": "stdout",
     "output_type": "stream",
     "text": [
      "\n",
      "Prediction Distribution: {0: 124, 1: 166}\n",
      "\n",
      "Confusion Matrix:\n",
      "[[60 73]\n",
      " [64 93]]\n",
      "\n",
      "Validation Metrics:\n",
      "Loss: 0.6767\n",
      "Accuracy: 0.5276\n",
      "Precision: 0.5602\n",
      "Recall: 0.5924\n",
      "F1: 0.5759\n",
      "Auc: 0.5444\n",
      "\n",
      "Epoch 8/100\n"
     ]
    },
    {
     "name": "stderr",
     "output_type": "stream",
     "text": [
      "Training Epoch 8/100:   0%|          | 0/42 [00:00<?, ?it/s]huggingface/tokenizers: The current process just got forked, after parallelism has already been used. Disabling parallelism to avoid deadlocks...\n",
      "To disable this warning, you can either:\n",
      "\t- Avoid using `tokenizers` before the fork if possible\n",
      "\t- Explicitly set the environment variable TOKENIZERS_PARALLELISM=(true | false)\n",
      "huggingface/tokenizers: The current process just got forked, after parallelism has already been used. Disabling parallelism to avoid deadlocks...\n",
      "To disable this warning, you can either:\n",
      "\t- Avoid using `tokenizers` before the fork if possible\n",
      "\t- Explicitly set the environment variable TOKENIZERS_PARALLELISM=(true | false)\n",
      "Training Epoch 8/100: 100%|██████████| 42/42 [00:20<00:00,  2.09it/s, loss=0.6576, acc=0.5938, lr=0.00000800]\n"
     ]
    },
    {
     "name": "stdout",
     "output_type": "stream",
     "text": [
      "\n",
      "Training Metrics:\n",
      "Loss: 0.6794\n",
      "Accuracy: 0.5737\n",
      "Precision: 0.5530\n",
      "Recall: 0.6034\n",
      "F1: 0.5771\n"
     ]
    },
    {
     "name": "stderr",
     "output_type": "stream",
     "text": [
      "Validation Epoch 8/100:   0%|          | 0/10 [00:00<?, ?it/s]huggingface/tokenizers: The current process just got forked, after parallelism has already been used. Disabling parallelism to avoid deadlocks...\n",
      "To disable this warning, you can either:\n",
      "\t- Avoid using `tokenizers` before the fork if possible\n",
      "\t- Explicitly set the environment variable TOKENIZERS_PARALLELISM=(true | false)\n",
      "huggingface/tokenizers: The current process just got forked, after parallelism has already been used. Disabling parallelism to avoid deadlocks...\n",
      "To disable this warning, you can either:\n",
      "\t- Avoid using `tokenizers` before the fork if possible\n",
      "\t- Explicitly set the environment variable TOKENIZERS_PARALLELISM=(true | false)\n",
      "Validation Epoch 8/100: 100%|██████████| 10/10 [00:01<00:00,  5.03it/s, loss=0.5953, acc=1.0000]\n"
     ]
    },
    {
     "name": "stdout",
     "output_type": "stream",
     "text": [
      "\n",
      "Prediction Distribution: {0: 213, 1: 77}\n",
      "\n",
      "Confusion Matrix:\n",
      "[[102  31]\n",
      " [111  46]]\n",
      "\n",
      "Validation Metrics:\n",
      "Loss: 0.7082\n",
      "Accuracy: 0.5103\n",
      "Precision: 0.5974\n",
      "Recall: 0.2930\n",
      "F1: 0.3932\n",
      "Auc: 0.5534\n",
      "\n",
      "Epoch 9/100\n"
     ]
    },
    {
     "name": "stderr",
     "output_type": "stream",
     "text": [
      "Training Epoch 9/100:   0%|          | 0/42 [00:00<?, ?it/s]huggingface/tokenizers: The current process just got forked, after parallelism has already been used. Disabling parallelism to avoid deadlocks...\n",
      "To disable this warning, you can either:\n",
      "\t- Avoid using `tokenizers` before the fork if possible\n",
      "\t- Explicitly set the environment variable TOKENIZERS_PARALLELISM=(true | false)\n",
      "huggingface/tokenizers: The current process just got forked, after parallelism has already been used. Disabling parallelism to avoid deadlocks...\n",
      "To disable this warning, you can either:\n",
      "\t- Avoid using `tokenizers` before the fork if possible\n",
      "\t- Explicitly set the environment variable TOKENIZERS_PARALLELISM=(true | false)\n",
      "Training Epoch 9/100: 100%|██████████| 42/42 [00:20<00:00,  2.08it/s, loss=0.6666, acc=0.6250, lr=0.00000900]\n"
     ]
    },
    {
     "name": "stdout",
     "output_type": "stream",
     "text": [
      "\n",
      "Training Metrics:\n",
      "Loss: 0.6845\n",
      "Accuracy: 0.5618\n",
      "Precision: 0.5443\n",
      "Recall: 0.5502\n",
      "F1: 0.5473\n"
     ]
    },
    {
     "name": "stderr",
     "output_type": "stream",
     "text": [
      "Validation Epoch 9/100:   0%|          | 0/10 [00:00<?, ?it/s]huggingface/tokenizers: The current process just got forked, after parallelism has already been used. Disabling parallelism to avoid deadlocks...\n",
      "To disable this warning, you can either:\n",
      "\t- Avoid using `tokenizers` before the fork if possible\n",
      "\t- Explicitly set the environment variable TOKENIZERS_PARALLELISM=(true | false)\n",
      "huggingface/tokenizers: The current process just got forked, after parallelism has already been used. Disabling parallelism to avoid deadlocks...\n",
      "To disable this warning, you can either:\n",
      "\t- Avoid using `tokenizers` before the fork if possible\n",
      "\t- Explicitly set the environment variable TOKENIZERS_PARALLELISM=(true | false)\n",
      "Validation Epoch 9/100: 100%|██████████| 10/10 [00:01<00:00,  5.05it/s, loss=0.4698, acc=1.0000]\n"
     ]
    },
    {
     "name": "stdout",
     "output_type": "stream",
     "text": [
      "\n",
      "Prediction Distribution: {0: 133, 1: 157}\n",
      "\n",
      "Confusion Matrix:\n",
      "[[67 66]\n",
      " [66 91]]\n",
      "\n",
      "Validation Metrics:\n",
      "Loss: 0.6730\n",
      "Accuracy: 0.5448\n",
      "Precision: 0.5796\n",
      "Recall: 0.5796\n",
      "F1: 0.5796\n",
      "Auc: 0.5539\n",
      "\n",
      "Epoch 10/100\n"
     ]
    },
    {
     "name": "stderr",
     "output_type": "stream",
     "text": [
      "Training Epoch 10/100:   0%|          | 0/42 [00:00<?, ?it/s]huggingface/tokenizers: The current process just got forked, after parallelism has already been used. Disabling parallelism to avoid deadlocks...\n",
      "To disable this warning, you can either:\n",
      "\t- Avoid using `tokenizers` before the fork if possible\n",
      "\t- Explicitly set the environment variable TOKENIZERS_PARALLELISM=(true | false)\n",
      "huggingface/tokenizers: The current process just got forked, after parallelism has already been used. Disabling parallelism to avoid deadlocks...\n",
      "To disable this warning, you can either:\n",
      "\t- Avoid using `tokenizers` before the fork if possible\n",
      "\t- Explicitly set the environment variable TOKENIZERS_PARALLELISM=(true | false)\n",
      "Training Epoch 10/100: 100%|██████████| 42/42 [00:20<00:00,  2.09it/s, loss=0.6671, acc=0.6250, lr=0.00001000]\n"
     ]
    },
    {
     "name": "stdout",
     "output_type": "stream",
     "text": [
      "\n",
      "Training Metrics:\n",
      "Loss: 0.6793\n",
      "Accuracy: 0.5744\n",
      "Precision: 0.5557\n",
      "Recall: 0.5712\n",
      "F1: 0.5634\n"
     ]
    },
    {
     "name": "stderr",
     "output_type": "stream",
     "text": [
      "Validation Epoch 10/100:   0%|          | 0/10 [00:00<?, ?it/s]huggingface/tokenizers: The current process just got forked, after parallelism has already been used. Disabling parallelism to avoid deadlocks...\n",
      "To disable this warning, you can either:\n",
      "\t- Avoid using `tokenizers` before the fork if possible\n",
      "\t- Explicitly set the environment variable TOKENIZERS_PARALLELISM=(true | false)\n",
      "huggingface/tokenizers: The current process just got forked, after parallelism has already been used. Disabling parallelism to avoid deadlocks...\n",
      "To disable this warning, you can either:\n",
      "\t- Avoid using `tokenizers` before the fork if possible\n",
      "\t- Explicitly set the environment variable TOKENIZERS_PARALLELISM=(true | false)\n",
      "Validation Epoch 10/100: 100%|██████████| 10/10 [00:01<00:00,  5.04it/s, loss=0.4970, acc=1.0000]\n"
     ]
    },
    {
     "name": "stdout",
     "output_type": "stream",
     "text": [
      "\n",
      "Prediction Distribution: {0: 169, 1: 121}\n",
      "\n",
      "Confusion Matrix:\n",
      "[[85 48]\n",
      " [84 73]]\n",
      "\n",
      "Validation Metrics:\n",
      "Loss: 0.6866\n",
      "Accuracy: 0.5448\n",
      "Precision: 0.6033\n",
      "Recall: 0.4650\n",
      "F1: 0.5252\n",
      "Auc: 0.5512\n",
      "\n",
      "Epoch 11/100\n"
     ]
    },
    {
     "name": "stderr",
     "output_type": "stream",
     "text": [
      "Training Epoch 11/100:   0%|          | 0/42 [00:00<?, ?it/s]huggingface/tokenizers: The current process just got forked, after parallelism has already been used. Disabling parallelism to avoid deadlocks...\n",
      "To disable this warning, you can either:\n",
      "\t- Avoid using `tokenizers` before the fork if possible\n",
      "\t- Explicitly set the environment variable TOKENIZERS_PARALLELISM=(true | false)\n",
      "huggingface/tokenizers: The current process just got forked, after parallelism has already been used. Disabling parallelism to avoid deadlocks...\n",
      "To disable this warning, you can either:\n",
      "\t- Avoid using `tokenizers` before the fork if possible\n",
      "\t- Explicitly set the environment variable TOKENIZERS_PARALLELISM=(true | false)\n",
      "Training Epoch 11/100: 100%|██████████| 42/42 [00:20<00:00,  2.09it/s, loss=0.6589, acc=0.6250, lr=0.00000989]\n"
     ]
    },
    {
     "name": "stdout",
     "output_type": "stream",
     "text": [
      "\n",
      "Training Metrics:\n",
      "Loss: 0.6873\n",
      "Accuracy: 0.5618\n",
      "Precision: 0.5452\n",
      "Recall: 0.5578\n",
      "F1: 0.5514\n"
     ]
    },
    {
     "name": "stderr",
     "output_type": "stream",
     "text": [
      "Validation Epoch 11/100:   0%|          | 0/10 [00:00<?, ?it/s]huggingface/tokenizers: The current process just got forked, after parallelism has already been used. Disabling parallelism to avoid deadlocks...\n",
      "To disable this warning, you can either:\n",
      "\t- Avoid using `tokenizers` before the fork if possible\n",
      "\t- Explicitly set the environment variable TOKENIZERS_PARALLELISM=(true | false)\n",
      "huggingface/tokenizers: The current process just got forked, after parallelism has already been used. Disabling parallelism to avoid deadlocks...\n",
      "To disable this warning, you can either:\n",
      "\t- Avoid using `tokenizers` before the fork if possible\n",
      "\t- Explicitly set the environment variable TOKENIZERS_PARALLELISM=(true | false)\n",
      "Validation Epoch 11/100: 100%|██████████| 10/10 [00:01<00:00,  5.06it/s, loss=0.5332, acc=1.0000]\n"
     ]
    },
    {
     "name": "stdout",
     "output_type": "stream",
     "text": [
      "\n",
      "Prediction Distribution: {0: 175, 1: 115}\n",
      "\n",
      "Confusion Matrix:\n",
      "[[88 45]\n",
      " [87 70]]\n",
      "\n",
      "Validation Metrics:\n",
      "Loss: 0.6855\n",
      "Accuracy: 0.5448\n",
      "Precision: 0.6087\n",
      "Recall: 0.4459\n",
      "F1: 0.5147\n",
      "Auc: 0.5556\n",
      "\n",
      "Epoch 12/100\n"
     ]
    },
    {
     "name": "stderr",
     "output_type": "stream",
     "text": [
      "Training Epoch 12/100:   0%|          | 0/42 [00:00<?, ?it/s]huggingface/tokenizers: The current process just got forked, after parallelism has already been used. Disabling parallelism to avoid deadlocks...\n",
      "To disable this warning, you can either:\n",
      "\t- Avoid using `tokenizers` before the fork if possible\n",
      "\t- Explicitly set the environment variable TOKENIZERS_PARALLELISM=(true | false)\n",
      "huggingface/tokenizers: The current process just got forked, after parallelism has already been used. Disabling parallelism to avoid deadlocks...\n",
      "To disable this warning, you can either:\n",
      "\t- Avoid using `tokenizers` before the fork if possible\n",
      "\t- Explicitly set the environment variable TOKENIZERS_PARALLELISM=(true | false)\n",
      "Training Epoch 12/100: 100%|██████████| 42/42 [00:20<00:00,  2.09it/s, loss=0.6942, acc=0.5000, lr=0.00000978]\n"
     ]
    },
    {
     "name": "stdout",
     "output_type": "stream",
     "text": [
      "\n",
      "Training Metrics:\n",
      "Loss: 0.6797\n",
      "Accuracy: 0.5618\n",
      "Precision: 0.5419\n",
      "Recall: 0.5978\n",
      "F1: 0.5685\n"
     ]
    },
    {
     "name": "stderr",
     "output_type": "stream",
     "text": [
      "Validation Epoch 12/100:   0%|          | 0/10 [00:00<?, ?it/s]huggingface/tokenizers: The current process just got forked, after parallelism has already been used. Disabling parallelism to avoid deadlocks...\n",
      "To disable this warning, you can either:\n",
      "\t- Avoid using `tokenizers` before the fork if possible\n",
      "\t- Explicitly set the environment variable TOKENIZERS_PARALLELISM=(true | false)\n",
      "huggingface/tokenizers: The current process just got forked, after parallelism has already been used. Disabling parallelism to avoid deadlocks...\n",
      "To disable this warning, you can either:\n",
      "\t- Avoid using `tokenizers` before the fork if possible\n",
      "\t- Explicitly set the environment variable TOKENIZERS_PARALLELISM=(true | false)\n",
      "Validation Epoch 12/100: 100%|██████████| 10/10 [00:01<00:00,  5.05it/s, loss=0.3782, acc=1.0000]\n"
     ]
    },
    {
     "name": "stdout",
     "output_type": "stream",
     "text": [
      "\n",
      "Prediction Distribution: {0: 69, 1: 221}\n",
      "\n",
      "Confusion Matrix:\n",
      "[[ 36  97]\n",
      " [ 33 124]]\n",
      "\n",
      "Validation Metrics:\n",
      "Loss: 0.6583\n",
      "Accuracy: 0.5517\n",
      "Precision: 0.5611\n",
      "Recall: 0.7898\n",
      "F1: 0.6561\n",
      "Auc: 0.5554\n",
      "\n",
      "Epoch 13/100\n"
     ]
    },
    {
     "name": "stderr",
     "output_type": "stream",
     "text": [
      "Training Epoch 13/100:   0%|          | 0/42 [00:00<?, ?it/s]huggingface/tokenizers: The current process just got forked, after parallelism has already been used. Disabling parallelism to avoid deadlocks...\n",
      "To disable this warning, you can either:\n",
      "\t- Avoid using `tokenizers` before the fork if possible\n",
      "\t- Explicitly set the environment variable TOKENIZERS_PARALLELISM=(true | false)\n",
      "huggingface/tokenizers: The current process just got forked, after parallelism has already been used. Disabling parallelism to avoid deadlocks...\n",
      "To disable this warning, you can either:\n",
      "\t- Avoid using `tokenizers` before the fork if possible\n",
      "\t- Explicitly set the environment variable TOKENIZERS_PARALLELISM=(true | false)\n",
      "Training Epoch 13/100: 100%|██████████| 42/42 [00:20<00:00,  2.08it/s, loss=0.6786, acc=0.4688, lr=0.00000967]\n"
     ]
    },
    {
     "name": "stdout",
     "output_type": "stream",
     "text": [
      "\n",
      "Training Metrics:\n",
      "Loss: 0.6789\n",
      "Accuracy: 0.5625\n",
      "Precision: 0.5450\n",
      "Recall: 0.5602\n",
      "F1: 0.5525\n"
     ]
    },
    {
     "name": "stderr",
     "output_type": "stream",
     "text": [
      "Validation Epoch 13/100:   0%|          | 0/10 [00:00<?, ?it/s]huggingface/tokenizers: The current process just got forked, after parallelism has already been used. Disabling parallelism to avoid deadlocks...\n",
      "To disable this warning, you can either:\n",
      "\t- Avoid using `tokenizers` before the fork if possible\n",
      "\t- Explicitly set the environment variable TOKENIZERS_PARALLELISM=(true | false)\n",
      "huggingface/tokenizers: The current process just got forked, after parallelism has already been used. Disabling parallelism to avoid deadlocks...\n",
      "To disable this warning, you can either:\n",
      "\t- Avoid using `tokenizers` before the fork if possible\n",
      "\t- Explicitly set the environment variable TOKENIZERS_PARALLELISM=(true | false)\n",
      "Validation Epoch 13/100: 100%|██████████| 10/10 [00:01<00:00,  5.03it/s, loss=0.3753, acc=1.0000]\n"
     ]
    },
    {
     "name": "stdout",
     "output_type": "stream",
     "text": [
      "\n",
      "Prediction Distribution: {0: 105, 1: 185}\n",
      "\n",
      "Confusion Matrix:\n",
      "[[ 55  78]\n",
      " [ 50 107]]\n",
      "\n",
      "Validation Metrics:\n",
      "Loss: 0.6623\n",
      "Accuracy: 0.5586\n",
      "Precision: 0.5784\n",
      "Recall: 0.6815\n",
      "F1: 0.6257\n",
      "Auc: 0.5612\n",
      "\n",
      "Epoch 14/100\n"
     ]
    },
    {
     "name": "stderr",
     "output_type": "stream",
     "text": [
      "Training Epoch 14/100:   0%|          | 0/42 [00:00<?, ?it/s]huggingface/tokenizers: The current process just got forked, after parallelism has already been used. Disabling parallelism to avoid deadlocks...\n",
      "To disable this warning, you can either:\n",
      "\t- Avoid using `tokenizers` before the fork if possible\n",
      "\t- Explicitly set the environment variable TOKENIZERS_PARALLELISM=(true | false)\n",
      "huggingface/tokenizers: The current process just got forked, after parallelism has already been used. Disabling parallelism to avoid deadlocks...\n",
      "To disable this warning, you can either:\n",
      "\t- Avoid using `tokenizers` before the fork if possible\n",
      "\t- Explicitly set the environment variable TOKENIZERS_PARALLELISM=(true | false)\n",
      "Training Epoch 14/100: 100%|██████████| 42/42 [00:20<00:00,  2.09it/s, loss=0.6641, acc=0.6562, lr=0.00000956]\n"
     ]
    },
    {
     "name": "stdout",
     "output_type": "stream",
     "text": [
      "\n",
      "Training Metrics:\n",
      "Loss: 0.6752\n",
      "Accuracy: 0.5848\n",
      "Precision: 0.5664\n",
      "Recall: 0.5926\n",
      "F1: 0.5792\n"
     ]
    },
    {
     "name": "stderr",
     "output_type": "stream",
     "text": [
      "Validation Epoch 14/100:   0%|          | 0/10 [00:00<?, ?it/s]huggingface/tokenizers: The current process just got forked, after parallelism has already been used. Disabling parallelism to avoid deadlocks...\n",
      "To disable this warning, you can either:\n",
      "\t- Avoid using `tokenizers` before the fork if possible\n",
      "\t- Explicitly set the environment variable TOKENIZERS_PARALLELISM=(true | false)\n",
      "huggingface/tokenizers: The current process just got forked, after parallelism has already been used. Disabling parallelism to avoid deadlocks...\n",
      "To disable this warning, you can either:\n",
      "\t- Avoid using `tokenizers` before the fork if possible\n",
      "\t- Explicitly set the environment variable TOKENIZERS_PARALLELISM=(true | false)\n",
      "Validation Epoch 14/100: 100%|██████████| 10/10 [00:01<00:00,  5.05it/s, loss=0.6269, acc=1.0000]\n"
     ]
    },
    {
     "name": "stdout",
     "output_type": "stream",
     "text": [
      "\n",
      "Prediction Distribution: {0: 241, 1: 49}\n",
      "\n",
      "Confusion Matrix:\n",
      "[[116  17]\n",
      " [125  32]]\n",
      "\n",
      "Validation Metrics:\n",
      "Loss: 0.7315\n",
      "Accuracy: 0.5103\n",
      "Precision: 0.6531\n",
      "Recall: 0.2038\n",
      "F1: 0.3107\n",
      "Auc: 0.5641\n",
      "\n",
      "Epoch 15/100\n"
     ]
    },
    {
     "name": "stderr",
     "output_type": "stream",
     "text": [
      "Training Epoch 15/100:   0%|          | 0/42 [00:00<?, ?it/s]huggingface/tokenizers: The current process just got forked, after parallelism has already been used. Disabling parallelism to avoid deadlocks...\n",
      "To disable this warning, you can either:\n",
      "\t- Avoid using `tokenizers` before the fork if possible\n",
      "\t- Explicitly set the environment variable TOKENIZERS_PARALLELISM=(true | false)\n",
      "huggingface/tokenizers: The current process just got forked, after parallelism has already been used. Disabling parallelism to avoid deadlocks...\n",
      "To disable this warning, you can either:\n",
      "\t- Avoid using `tokenizers` before the fork if possible\n",
      "\t- Explicitly set the environment variable TOKENIZERS_PARALLELISM=(true | false)\n",
      "Training Epoch 15/100: 100%|██████████| 42/42 [00:20<00:00,  2.09it/s, loss=0.6484, acc=0.7188, lr=0.00000944]\n"
     ]
    },
    {
     "name": "stdout",
     "output_type": "stream",
     "text": [
      "\n",
      "Training Metrics:\n",
      "Loss: 0.6769\n",
      "Accuracy: 0.5707\n",
      "Precision: 0.5481\n",
      "Recall: 0.6317\n",
      "F1: 0.5870\n"
     ]
    },
    {
     "name": "stderr",
     "output_type": "stream",
     "text": [
      "Validation Epoch 15/100:   0%|          | 0/10 [00:00<?, ?it/s]huggingface/tokenizers: The current process just got forked, after parallelism has already been used. Disabling parallelism to avoid deadlocks...\n",
      "To disable this warning, you can either:\n",
      "\t- Avoid using `tokenizers` before the fork if possible\n",
      "\t- Explicitly set the environment variable TOKENIZERS_PARALLELISM=(true | false)\n",
      "huggingface/tokenizers: The current process just got forked, after parallelism has already been used. Disabling parallelism to avoid deadlocks...\n",
      "To disable this warning, you can either:\n",
      "\t- Avoid using `tokenizers` before the fork if possible\n",
      "\t- Explicitly set the environment variable TOKENIZERS_PARALLELISM=(true | false)\n",
      "Validation Epoch 15/100: 100%|██████████| 10/10 [00:01<00:00,  5.05it/s, loss=0.3868, acc=1.0000]\n"
     ]
    },
    {
     "name": "stdout",
     "output_type": "stream",
     "text": [
      "\n",
      "Prediction Distribution: {0: 116, 1: 174}\n",
      "\n",
      "Confusion Matrix:\n",
      "[[ 62  71]\n",
      " [ 54 103]]\n",
      "\n",
      "Validation Metrics:\n",
      "Loss: 0.6639\n",
      "Accuracy: 0.5690\n",
      "Precision: 0.5920\n",
      "Recall: 0.6561\n",
      "F1: 0.6224\n",
      "Auc: 0.5643\n",
      "\n",
      "Epoch 16/100\n"
     ]
    },
    {
     "name": "stderr",
     "output_type": "stream",
     "text": [
      "Training Epoch 16/100:   0%|          | 0/42 [00:00<?, ?it/s]huggingface/tokenizers: The current process just got forked, after parallelism has already been used. Disabling parallelism to avoid deadlocks...\n",
      "To disable this warning, you can either:\n",
      "\t- Avoid using `tokenizers` before the fork if possible\n",
      "\t- Explicitly set the environment variable TOKENIZERS_PARALLELISM=(true | false)\n",
      "huggingface/tokenizers: The current process just got forked, after parallelism has already been used. Disabling parallelism to avoid deadlocks...\n",
      "To disable this warning, you can either:\n",
      "\t- Avoid using `tokenizers` before the fork if possible\n",
      "\t- Explicitly set the environment variable TOKENIZERS_PARALLELISM=(true | false)\n",
      "Training Epoch 16/100: 100%|██████████| 42/42 [00:20<00:00,  2.09it/s, loss=0.6479, acc=0.6562, lr=0.00000933]\n"
     ]
    },
    {
     "name": "stdout",
     "output_type": "stream",
     "text": [
      "\n",
      "Training Metrics:\n",
      "Loss: 0.6766\n",
      "Accuracy: 0.5774\n",
      "Precision: 0.5587\n",
      "Recall: 0.5743\n",
      "F1: 0.5664\n"
     ]
    },
    {
     "name": "stderr",
     "output_type": "stream",
     "text": [
      "Validation Epoch 16/100:   0%|          | 0/10 [00:00<?, ?it/s]huggingface/tokenizers: The current process just got forked, after parallelism has already been used. Disabling parallelism to avoid deadlocks...\n",
      "To disable this warning, you can either:\n",
      "\t- Avoid using `tokenizers` before the fork if possible\n",
      "\t- Explicitly set the environment variable TOKENIZERS_PARALLELISM=(true | false)\n",
      "huggingface/tokenizers: The current process just got forked, after parallelism has already been used. Disabling parallelism to avoid deadlocks...\n",
      "To disable this warning, you can either:\n",
      "\t- Avoid using `tokenizers` before the fork if possible\n",
      "\t- Explicitly set the environment variable TOKENIZERS_PARALLELISM=(true | false)\n",
      "Validation Epoch 16/100: 100%|██████████| 10/10 [00:01<00:00,  5.06it/s, loss=0.4005, acc=1.0000]\n"
     ]
    },
    {
     "name": "stdout",
     "output_type": "stream",
     "text": [
      "\n",
      "Prediction Distribution: {0: 133, 1: 157}\n",
      "\n",
      "Confusion Matrix:\n",
      "[[69 64]\n",
      " [64 93]]\n",
      "\n",
      "Validation Metrics:\n",
      "Loss: 0.6648\n",
      "Accuracy: 0.5586\n",
      "Precision: 0.5924\n",
      "Recall: 0.5924\n",
      "F1: 0.5924\n",
      "Auc: 0.5654\n",
      "\n",
      "Epoch 17/100\n"
     ]
    },
    {
     "name": "stderr",
     "output_type": "stream",
     "text": [
      "Training Epoch 17/100:   0%|          | 0/42 [00:00<?, ?it/s]huggingface/tokenizers: The current process just got forked, after parallelism has already been used. Disabling parallelism to avoid deadlocks...\n",
      "To disable this warning, you can either:\n",
      "\t- Avoid using `tokenizers` before the fork if possible\n",
      "\t- Explicitly set the environment variable TOKENIZERS_PARALLELISM=(true | false)\n",
      "huggingface/tokenizers: The current process just got forked, after parallelism has already been used. Disabling parallelism to avoid deadlocks...\n",
      "To disable this warning, you can either:\n",
      "\t- Avoid using `tokenizers` before the fork if possible\n",
      "\t- Explicitly set the environment variable TOKENIZERS_PARALLELISM=(true | false)\n",
      "Training Epoch 17/100: 100%|██████████| 42/42 [00:20<00:00,  2.09it/s, loss=0.6732, acc=0.5000, lr=0.00000922]\n"
     ]
    },
    {
     "name": "stdout",
     "output_type": "stream",
     "text": [
      "\n",
      "Training Metrics:\n",
      "Loss: 0.6781\n",
      "Accuracy: 0.5662\n",
      "Precision: 0.5505\n",
      "Recall: 0.5240\n",
      "F1: 0.5369\n"
     ]
    },
    {
     "name": "stderr",
     "output_type": "stream",
     "text": [
      "Validation Epoch 17/100:   0%|          | 0/10 [00:00<?, ?it/s]huggingface/tokenizers: The current process just got forked, after parallelism has already been used. Disabling parallelism to avoid deadlocks...\n",
      "To disable this warning, you can either:\n",
      "\t- Avoid using `tokenizers` before the fork if possible\n",
      "\t- Explicitly set the environment variable TOKENIZERS_PARALLELISM=(true | false)\n",
      "huggingface/tokenizers: The current process just got forked, after parallelism has already been used. Disabling parallelism to avoid deadlocks...\n",
      "To disable this warning, you can either:\n",
      "\t- Avoid using `tokenizers` before the fork if possible\n",
      "\t- Explicitly set the environment variable TOKENIZERS_PARALLELISM=(true | false)\n",
      "Validation Epoch 17/100: 100%|██████████| 10/10 [00:01<00:00,  5.05it/s, loss=0.4120, acc=1.0000]\n"
     ]
    },
    {
     "name": "stdout",
     "output_type": "stream",
     "text": [
      "\n",
      "Prediction Distribution: {0: 95, 1: 195}\n",
      "\n",
      "Confusion Matrix:\n",
      "[[ 45  88]\n",
      " [ 50 107]]\n",
      "\n",
      "Validation Metrics:\n",
      "Loss: 0.6593\n",
      "Accuracy: 0.5241\n",
      "Precision: 0.5487\n",
      "Recall: 0.6815\n",
      "F1: 0.6080\n",
      "Auc: 0.5631\n",
      "\n",
      "Epoch 18/100\n"
     ]
    },
    {
     "name": "stderr",
     "output_type": "stream",
     "text": [
      "Training Epoch 18/100:   0%|          | 0/42 [00:00<?, ?it/s]huggingface/tokenizers: The current process just got forked, after parallelism has already been used. Disabling parallelism to avoid deadlocks...\n",
      "To disable this warning, you can either:\n",
      "\t- Avoid using `tokenizers` before the fork if possible\n",
      "\t- Explicitly set the environment variable TOKENIZERS_PARALLELISM=(true | false)\n",
      "huggingface/tokenizers: The current process just got forked, after parallelism has already been used. Disabling parallelism to avoid deadlocks...\n",
      "To disable this warning, you can either:\n",
      "\t- Avoid using `tokenizers` before the fork if possible\n",
      "\t- Explicitly set the environment variable TOKENIZERS_PARALLELISM=(true | false)\n",
      "Training Epoch 18/100: 100%|██████████| 42/42 [00:20<00:00,  2.09it/s, loss=0.6601, acc=0.6875, lr=0.00000911]\n"
     ]
    },
    {
     "name": "stdout",
     "output_type": "stream",
     "text": [
      "\n",
      "Training Metrics:\n",
      "Loss: 0.6763\n",
      "Accuracy: 0.5826\n",
      "Precision: 0.5642\n",
      "Recall: 0.6015\n",
      "F1: 0.5823\n"
     ]
    },
    {
     "name": "stderr",
     "output_type": "stream",
     "text": [
      "Validation Epoch 18/100:   0%|          | 0/10 [00:00<?, ?it/s]huggingface/tokenizers: The current process just got forked, after parallelism has already been used. Disabling parallelism to avoid deadlocks...\n",
      "To disable this warning, you can either:\n",
      "\t- Avoid using `tokenizers` before the fork if possible\n",
      "\t- Explicitly set the environment variable TOKENIZERS_PARALLELISM=(true | false)\n",
      "huggingface/tokenizers: The current process just got forked, after parallelism has already been used. Disabling parallelism to avoid deadlocks...\n",
      "To disable this warning, you can either:\n",
      "\t- Avoid using `tokenizers` before the fork if possible\n",
      "\t- Explicitly set the environment variable TOKENIZERS_PARALLELISM=(true | false)\n",
      "Validation Epoch 18/100: 100%|██████████| 10/10 [00:01<00:00,  5.04it/s, loss=0.2667, acc=1.0000]\n"
     ]
    },
    {
     "name": "stdout",
     "output_type": "stream",
     "text": [
      "\n",
      "Prediction Distribution: {0: 14, 1: 276}\n",
      "\n",
      "Confusion Matrix:\n",
      "[[  8 125]\n",
      " [  6 151]]\n",
      "\n",
      "Validation Metrics:\n",
      "Loss: 0.6693\n",
      "Accuracy: 0.5483\n",
      "Precision: 0.5471\n",
      "Recall: 0.9618\n",
      "F1: 0.6975\n",
      "Auc: 0.5599\n",
      "\n",
      "New best F1 score: 0.6975 - saving model\n",
      "\n",
      "Epoch 19/100\n"
     ]
    },
    {
     "name": "stderr",
     "output_type": "stream",
     "text": [
      "Training Epoch 19/100:   0%|          | 0/42 [00:00<?, ?it/s]huggingface/tokenizers: The current process just got forked, after parallelism has already been used. Disabling parallelism to avoid deadlocks...\n",
      "To disable this warning, you can either:\n",
      "\t- Avoid using `tokenizers` before the fork if possible\n",
      "\t- Explicitly set the environment variable TOKENIZERS_PARALLELISM=(true | false)\n",
      "huggingface/tokenizers: The current process just got forked, after parallelism has already been used. Disabling parallelism to avoid deadlocks...\n",
      "To disable this warning, you can either:\n",
      "\t- Avoid using `tokenizers` before the fork if possible\n",
      "\t- Explicitly set the environment variable TOKENIZERS_PARALLELISM=(true | false)\n",
      "Training Epoch 19/100: 100%|██████████| 42/42 [00:20<00:00,  2.09it/s, loss=0.6455, acc=0.6562, lr=0.00000900]\n"
     ]
    },
    {
     "name": "stdout",
     "output_type": "stream",
     "text": [
      "\n",
      "Training Metrics:\n",
      "Loss: 0.6840\n",
      "Accuracy: 0.5446\n",
      "Precision: 0.5269\n",
      "Recall: 0.5432\n",
      "F1: 0.5350\n"
     ]
    },
    {
     "name": "stderr",
     "output_type": "stream",
     "text": [
      "Validation Epoch 19/100:   0%|          | 0/10 [00:00<?, ?it/s]huggingface/tokenizers: The current process just got forked, after parallelism has already been used. Disabling parallelism to avoid deadlocks...\n",
      "To disable this warning, you can either:\n",
      "\t- Avoid using `tokenizers` before the fork if possible\n",
      "\t- Explicitly set the environment variable TOKENIZERS_PARALLELISM=(true | false)\n",
      "huggingface/tokenizers: The current process just got forked, after parallelism has already been used. Disabling parallelism to avoid deadlocks...\n",
      "To disable this warning, you can either:\n",
      "\t- Avoid using `tokenizers` before the fork if possible\n",
      "\t- Explicitly set the environment variable TOKENIZERS_PARALLELISM=(true | false)\n",
      "Validation Epoch 19/100: 100%|██████████| 10/10 [00:01<00:00,  5.06it/s, loss=0.4883, acc=1.0000]\n"
     ]
    },
    {
     "name": "stdout",
     "output_type": "stream",
     "text": [
      "\n",
      "Prediction Distribution: {0: 151, 1: 139}\n",
      "\n",
      "Confusion Matrix:\n",
      "[[77 56]\n",
      " [74 83]]\n",
      "\n",
      "Validation Metrics:\n",
      "Loss: 0.6714\n",
      "Accuracy: 0.5517\n",
      "Precision: 0.5971\n",
      "Recall: 0.5287\n",
      "F1: 0.5608\n",
      "Auc: 0.5626\n",
      "\n",
      "Epoch 20/100\n"
     ]
    },
    {
     "name": "stderr",
     "output_type": "stream",
     "text": [
      "Training Epoch 20/100:   0%|          | 0/42 [00:00<?, ?it/s]huggingface/tokenizers: The current process just got forked, after parallelism has already been used. Disabling parallelism to avoid deadlocks...\n",
      "To disable this warning, you can either:\n",
      "\t- Avoid using `tokenizers` before the fork if possible\n",
      "\t- Explicitly set the environment variable TOKENIZERS_PARALLELISM=(true | false)\n",
      "huggingface/tokenizers: The current process just got forked, after parallelism has already been used. Disabling parallelism to avoid deadlocks...\n",
      "To disable this warning, you can either:\n",
      "\t- Avoid using `tokenizers` before the fork if possible\n",
      "\t- Explicitly set the environment variable TOKENIZERS_PARALLELISM=(true | false)\n",
      "Training Epoch 20/100: 100%|██████████| 42/42 [00:20<00:00,  2.09it/s, loss=0.6096, acc=0.6562, lr=0.00000889]\n"
     ]
    },
    {
     "name": "stdout",
     "output_type": "stream",
     "text": [
      "\n",
      "Training Metrics:\n",
      "Loss: 0.6739\n",
      "Accuracy: 0.5729\n",
      "Precision: 0.5562\n",
      "Recall: 0.5648\n",
      "F1: 0.5605\n"
     ]
    },
    {
     "name": "stderr",
     "output_type": "stream",
     "text": [
      "Validation Epoch 20/100:   0%|          | 0/10 [00:00<?, ?it/s]huggingface/tokenizers: The current process just got forked, after parallelism has already been used. Disabling parallelism to avoid deadlocks...\n",
      "To disable this warning, you can either:\n",
      "\t- Avoid using `tokenizers` before the fork if possible\n",
      "\t- Explicitly set the environment variable TOKENIZERS_PARALLELISM=(true | false)\n",
      "huggingface/tokenizers: The current process just got forked, after parallelism has already been used. Disabling parallelism to avoid deadlocks...\n",
      "To disable this warning, you can either:\n",
      "\t- Avoid using `tokenizers` before the fork if possible\n",
      "\t- Explicitly set the environment variable TOKENIZERS_PARALLELISM=(true | false)\n",
      "Validation Epoch 20/100: 100%|██████████| 10/10 [00:01<00:00,  5.05it/s, loss=0.5092, acc=1.0000]\n"
     ]
    },
    {
     "name": "stdout",
     "output_type": "stream",
     "text": [
      "\n",
      "Prediction Distribution: {0: 198, 1: 92}\n",
      "\n",
      "Confusion Matrix:\n",
      "[[ 95  38]\n",
      " [103  54]]\n",
      "\n",
      "Validation Metrics:\n",
      "Loss: 0.6952\n",
      "Accuracy: 0.5138\n",
      "Precision: 0.5870\n",
      "Recall: 0.3439\n",
      "F1: 0.4337\n",
      "Auc: 0.5633\n",
      "\n",
      "Epoch 21/100\n"
     ]
    },
    {
     "name": "stderr",
     "output_type": "stream",
     "text": [
      "Training Epoch 21/100:   0%|          | 0/42 [00:00<?, ?it/s]huggingface/tokenizers: The current process just got forked, after parallelism has already been used. Disabling parallelism to avoid deadlocks...\n",
      "To disable this warning, you can either:\n",
      "\t- Avoid using `tokenizers` before the fork if possible\n",
      "\t- Explicitly set the environment variable TOKENIZERS_PARALLELISM=(true | false)\n",
      "huggingface/tokenizers: The current process just got forked, after parallelism has already been used. Disabling parallelism to avoid deadlocks...\n",
      "To disable this warning, you can either:\n",
      "\t- Avoid using `tokenizers` before the fork if possible\n",
      "\t- Explicitly set the environment variable TOKENIZERS_PARALLELISM=(true | false)\n",
      "Training Epoch 21/100: 100%|██████████| 42/42 [00:20<00:00,  2.08it/s, loss=0.7001, acc=0.5312, lr=0.00000878]\n"
     ]
    },
    {
     "name": "stdout",
     "output_type": "stream",
     "text": [
      "\n",
      "Training Metrics:\n",
      "Loss: 0.6766\n",
      "Accuracy: 0.5811\n",
      "Precision: 0.5739\n",
      "Recall: 0.5200\n",
      "F1: 0.5456\n"
     ]
    },
    {
     "name": "stderr",
     "output_type": "stream",
     "text": [
      "Validation Epoch 21/100:   0%|          | 0/10 [00:00<?, ?it/s]huggingface/tokenizers: The current process just got forked, after parallelism has already been used. Disabling parallelism to avoid deadlocks...\n",
      "To disable this warning, you can either:\n",
      "\t- Avoid using `tokenizers` before the fork if possible\n",
      "\t- Explicitly set the environment variable TOKENIZERS_PARALLELISM=(true | false)\n",
      "huggingface/tokenizers: The current process just got forked, after parallelism has already been used. Disabling parallelism to avoid deadlocks...\n",
      "To disable this warning, you can either:\n",
      "\t- Avoid using `tokenizers` before the fork if possible\n",
      "\t- Explicitly set the environment variable TOKENIZERS_PARALLELISM=(true | false)\n",
      "Validation Epoch 21/100: 100%|██████████| 10/10 [00:01<00:00,  5.06it/s, loss=0.4526, acc=1.0000]\n"
     ]
    },
    {
     "name": "stdout",
     "output_type": "stream",
     "text": [
      "\n",
      "Prediction Distribution: {0: 176, 1: 114}\n",
      "\n",
      "Confusion Matrix:\n",
      "[[89 44]\n",
      " [87 70]]\n",
      "\n",
      "Validation Metrics:\n",
      "Loss: 0.6865\n",
      "Accuracy: 0.5483\n",
      "Precision: 0.6140\n",
      "Recall: 0.4459\n",
      "F1: 0.5166\n",
      "Auc: 0.5646\n",
      "\n",
      "Epoch 22/100\n"
     ]
    },
    {
     "name": "stderr",
     "output_type": "stream",
     "text": [
      "Training Epoch 22/100:   0%|          | 0/42 [00:00<?, ?it/s]huggingface/tokenizers: The current process just got forked, after parallelism has already been used. Disabling parallelism to avoid deadlocks...\n",
      "To disable this warning, you can either:\n",
      "\t- Avoid using `tokenizers` before the fork if possible\n",
      "\t- Explicitly set the environment variable TOKENIZERS_PARALLELISM=(true | false)\n",
      "huggingface/tokenizers: The current process just got forked, after parallelism has already been used. Disabling parallelism to avoid deadlocks...\n",
      "To disable this warning, you can either:\n",
      "\t- Avoid using `tokenizers` before the fork if possible\n",
      "\t- Explicitly set the environment variable TOKENIZERS_PARALLELISM=(true | false)\n",
      "Training Epoch 22/100: 100%|██████████| 42/42 [00:20<00:00,  2.08it/s, loss=0.6363, acc=0.6562, lr=0.00000867]\n"
     ]
    },
    {
     "name": "stdout",
     "output_type": "stream",
     "text": [
      "\n",
      "Training Metrics:\n",
      "Loss: 0.6734\n",
      "Accuracy: 0.5826\n",
      "Precision: 0.5623\n",
      "Recall: 0.5997\n",
      "F1: 0.5804\n"
     ]
    },
    {
     "name": "stderr",
     "output_type": "stream",
     "text": [
      "Validation Epoch 22/100:   0%|          | 0/10 [00:00<?, ?it/s]huggingface/tokenizers: The current process just got forked, after parallelism has already been used. Disabling parallelism to avoid deadlocks...\n",
      "To disable this warning, you can either:\n",
      "\t- Avoid using `tokenizers` before the fork if possible\n",
      "\t- Explicitly set the environment variable TOKENIZERS_PARALLELISM=(true | false)\n",
      "huggingface/tokenizers: The current process just got forked, after parallelism has already been used. Disabling parallelism to avoid deadlocks...\n",
      "To disable this warning, you can either:\n",
      "\t- Avoid using `tokenizers` before the fork if possible\n",
      "\t- Explicitly set the environment variable TOKENIZERS_PARALLELISM=(true | false)\n",
      "Validation Epoch 22/100: 100%|██████████| 10/10 [00:01<00:00,  5.05it/s, loss=0.5063, acc=1.0000]\n"
     ]
    },
    {
     "name": "stdout",
     "output_type": "stream",
     "text": [
      "\n",
      "Prediction Distribution: {0: 220, 1: 70}\n",
      "\n",
      "Confusion Matrix:\n",
      "[[109  24]\n",
      " [111  46]]\n",
      "\n",
      "Validation Metrics:\n",
      "Loss: 0.7048\n",
      "Accuracy: 0.5345\n",
      "Precision: 0.6571\n",
      "Recall: 0.2930\n",
      "F1: 0.4053\n",
      "Auc: 0.5685\n",
      "\n",
      "Epoch 23/100\n"
     ]
    },
    {
     "name": "stderr",
     "output_type": "stream",
     "text": [
      "Training Epoch 23/100:   0%|          | 0/42 [00:00<?, ?it/s]huggingface/tokenizers: The current process just got forked, after parallelism has already been used. Disabling parallelism to avoid deadlocks...\n",
      "To disable this warning, you can either:\n",
      "\t- Avoid using `tokenizers` before the fork if possible\n",
      "\t- Explicitly set the environment variable TOKENIZERS_PARALLELISM=(true | false)\n",
      "huggingface/tokenizers: The current process just got forked, after parallelism has already been used. Disabling parallelism to avoid deadlocks...\n",
      "To disable this warning, you can either:\n",
      "\t- Avoid using `tokenizers` before the fork if possible\n",
      "\t- Explicitly set the environment variable TOKENIZERS_PARALLELISM=(true | false)\n",
      "Training Epoch 23/100: 100%|██████████| 42/42 [00:20<00:00,  2.09it/s, loss=0.7415, acc=0.5000, lr=0.00000856]\n"
     ]
    },
    {
     "name": "stdout",
     "output_type": "stream",
     "text": [
      "\n",
      "Training Metrics:\n",
      "Loss: 0.6819\n",
      "Accuracy: 0.5677\n",
      "Precision: 0.5539\n",
      "Recall: 0.5309\n",
      "F1: 0.5422\n"
     ]
    },
    {
     "name": "stderr",
     "output_type": "stream",
     "text": [
      "Validation Epoch 23/100:   0%|          | 0/10 [00:00<?, ?it/s]huggingface/tokenizers: The current process just got forked, after parallelism has already been used. Disabling parallelism to avoid deadlocks...\n",
      "To disable this warning, you can either:\n",
      "\t- Avoid using `tokenizers` before the fork if possible\n",
      "\t- Explicitly set the environment variable TOKENIZERS_PARALLELISM=(true | false)\n",
      "huggingface/tokenizers: The current process just got forked, after parallelism has already been used. Disabling parallelism to avoid deadlocks...\n",
      "To disable this warning, you can either:\n",
      "\t- Avoid using `tokenizers` before the fork if possible\n",
      "\t- Explicitly set the environment variable TOKENIZERS_PARALLELISM=(true | false)\n",
      "Validation Epoch 23/100: 100%|██████████| 10/10 [00:01<00:00,  5.05it/s, loss=0.5820, acc=1.0000]\n"
     ]
    },
    {
     "name": "stdout",
     "output_type": "stream",
     "text": [
      "\n",
      "Prediction Distribution: {0: 221, 1: 69}\n",
      "\n",
      "Confusion Matrix:\n",
      "[[108  25]\n",
      " [113  44]]\n",
      "\n",
      "Validation Metrics:\n",
      "Loss: 0.7202\n",
      "Accuracy: 0.5241\n",
      "Precision: 0.6377\n",
      "Recall: 0.2803\n",
      "F1: 0.3894\n",
      "Auc: 0.5662\n",
      "\n",
      "Epoch 24/100\n"
     ]
    },
    {
     "name": "stderr",
     "output_type": "stream",
     "text": [
      "Training Epoch 24/100:   0%|          | 0/42 [00:00<?, ?it/s]huggingface/tokenizers: The current process just got forked, after parallelism has already been used. Disabling parallelism to avoid deadlocks...\n",
      "To disable this warning, you can either:\n",
      "\t- Avoid using `tokenizers` before the fork if possible\n",
      "\t- Explicitly set the environment variable TOKENIZERS_PARALLELISM=(true | false)\n",
      "huggingface/tokenizers: The current process just got forked, after parallelism has already been used. Disabling parallelism to avoid deadlocks...\n",
      "To disable this warning, you can either:\n",
      "\t- Avoid using `tokenizers` before the fork if possible\n",
      "\t- Explicitly set the environment variable TOKENIZERS_PARALLELISM=(true | false)\n",
      "Training Epoch 24/100: 100%|██████████| 42/42 [00:20<00:00,  2.08it/s, loss=0.6410, acc=0.5938, lr=0.00000844]\n"
     ]
    },
    {
     "name": "stdout",
     "output_type": "stream",
     "text": [
      "\n",
      "Training Metrics:\n",
      "Loss: 0.6760\n",
      "Accuracy: 0.5900\n",
      "Precision: 0.5678\n",
      "Recall: 0.6161\n",
      "F1: 0.5909\n"
     ]
    },
    {
     "name": "stderr",
     "output_type": "stream",
     "text": [
      "Validation Epoch 24/100:   0%|          | 0/10 [00:00<?, ?it/s]huggingface/tokenizers: The current process just got forked, after parallelism has already been used. Disabling parallelism to avoid deadlocks...\n",
      "To disable this warning, you can either:\n",
      "\t- Avoid using `tokenizers` before the fork if possible\n",
      "\t- Explicitly set the environment variable TOKENIZERS_PARALLELISM=(true | false)\n",
      "huggingface/tokenizers: The current process just got forked, after parallelism has already been used. Disabling parallelism to avoid deadlocks...\n",
      "To disable this warning, you can either:\n",
      "\t- Avoid using `tokenizers` before the fork if possible\n",
      "\t- Explicitly set the environment variable TOKENIZERS_PARALLELISM=(true | false)\n",
      "Validation Epoch 24/100: 100%|██████████| 10/10 [00:01<00:00,  5.05it/s, loss=0.4980, acc=1.0000]\n"
     ]
    },
    {
     "name": "stdout",
     "output_type": "stream",
     "text": [
      "\n",
      "Prediction Distribution: {0: 184, 1: 106}\n",
      "\n",
      "Confusion Matrix:\n",
      "[[91 42]\n",
      " [93 64]]\n",
      "\n",
      "Validation Metrics:\n",
      "Loss: 0.6889\n",
      "Accuracy: 0.5345\n",
      "Precision: 0.6038\n",
      "Recall: 0.4076\n",
      "F1: 0.4867\n",
      "Auc: 0.5649\n",
      "\n",
      "Epoch 25/100\n"
     ]
    },
    {
     "name": "stderr",
     "output_type": "stream",
     "text": [
      "Training Epoch 25/100:   0%|          | 0/42 [00:00<?, ?it/s]huggingface/tokenizers: The current process just got forked, after parallelism has already been used. Disabling parallelism to avoid deadlocks...\n",
      "To disable this warning, you can either:\n",
      "\t- Avoid using `tokenizers` before the fork if possible\n",
      "\t- Explicitly set the environment variable TOKENIZERS_PARALLELISM=(true | false)\n",
      "huggingface/tokenizers: The current process just got forked, after parallelism has already been used. Disabling parallelism to avoid deadlocks...\n",
      "To disable this warning, you can either:\n",
      "\t- Avoid using `tokenizers` before the fork if possible\n",
      "\t- Explicitly set the environment variable TOKENIZERS_PARALLELISM=(true | false)\n",
      "Training Epoch 25/100: 100%|██████████| 42/42 [00:20<00:00,  2.09it/s, loss=0.7582, acc=0.5000, lr=0.00000833]\n"
     ]
    },
    {
     "name": "stdout",
     "output_type": "stream",
     "text": [
      "\n",
      "Training Metrics:\n",
      "Loss: 0.6736\n",
      "Accuracy: 0.5871\n",
      "Precision: 0.5757\n",
      "Recall: 0.5607\n",
      "F1: 0.5681\n"
     ]
    },
    {
     "name": "stderr",
     "output_type": "stream",
     "text": [
      "Validation Epoch 25/100:   0%|          | 0/10 [00:00<?, ?it/s]huggingface/tokenizers: The current process just got forked, after parallelism has already been used. Disabling parallelism to avoid deadlocks...\n",
      "To disable this warning, you can either:\n",
      "\t- Avoid using `tokenizers` before the fork if possible\n",
      "\t- Explicitly set the environment variable TOKENIZERS_PARALLELISM=(true | false)\n",
      "huggingface/tokenizers: The current process just got forked, after parallelism has already been used. Disabling parallelism to avoid deadlocks...\n",
      "To disable this warning, you can either:\n",
      "\t- Avoid using `tokenizers` before the fork if possible\n",
      "\t- Explicitly set the environment variable TOKENIZERS_PARALLELISM=(true | false)\n",
      "Validation Epoch 25/100: 100%|██████████| 10/10 [00:01<00:00,  5.05it/s, loss=0.3085, acc=1.0000]\n"
     ]
    },
    {
     "name": "stdout",
     "output_type": "stream",
     "text": [
      "\n",
      "Prediction Distribution: {0: 88, 1: 202}\n",
      "\n",
      "Confusion Matrix:\n",
      "[[ 45  88]\n",
      " [ 43 114]]\n",
      "\n",
      "Validation Metrics:\n",
      "Loss: 0.6550\n",
      "Accuracy: 0.5483\n",
      "Precision: 0.5644\n",
      "Recall: 0.7261\n",
      "F1: 0.6351\n",
      "Auc: 0.5652\n",
      "\n",
      "Epoch 26/100\n"
     ]
    },
    {
     "name": "stderr",
     "output_type": "stream",
     "text": [
      "Training Epoch 26/100:   0%|          | 0/42 [00:00<?, ?it/s]huggingface/tokenizers: The current process just got forked, after parallelism has already been used. Disabling parallelism to avoid deadlocks...\n",
      "To disable this warning, you can either:\n",
      "\t- Avoid using `tokenizers` before the fork if possible\n",
      "\t- Explicitly set the environment variable TOKENIZERS_PARALLELISM=(true | false)\n",
      "huggingface/tokenizers: The current process just got forked, after parallelism has already been used. Disabling parallelism to avoid deadlocks...\n",
      "To disable this warning, you can either:\n",
      "\t- Avoid using `tokenizers` before the fork if possible\n",
      "\t- Explicitly set the environment variable TOKENIZERS_PARALLELISM=(true | false)\n",
      "Training Epoch 26/100: 100%|██████████| 42/42 [00:20<00:00,  2.09it/s, loss=0.6607, acc=0.5312, lr=0.00000822]\n"
     ]
    },
    {
     "name": "stdout",
     "output_type": "stream",
     "text": [
      "\n",
      "Training Metrics:\n",
      "Loss: 0.6720\n",
      "Accuracy: 0.5856\n",
      "Precision: 0.5655\n",
      "Recall: 0.5944\n",
      "F1: 0.5796\n"
     ]
    },
    {
     "name": "stderr",
     "output_type": "stream",
     "text": [
      "Validation Epoch 26/100:   0%|          | 0/10 [00:00<?, ?it/s]huggingface/tokenizers: The current process just got forked, after parallelism has already been used. Disabling parallelism to avoid deadlocks...\n",
      "To disable this warning, you can either:\n",
      "\t- Avoid using `tokenizers` before the fork if possible\n",
      "\t- Explicitly set the environment variable TOKENIZERS_PARALLELISM=(true | false)\n",
      "huggingface/tokenizers: The current process just got forked, after parallelism has already been used. Disabling parallelism to avoid deadlocks...\n",
      "To disable this warning, you can either:\n",
      "\t- Avoid using `tokenizers` before the fork if possible\n",
      "\t- Explicitly set the environment variable TOKENIZERS_PARALLELISM=(true | false)\n",
      "Validation Epoch 26/100: 100%|██████████| 10/10 [00:01<00:00,  5.05it/s, loss=0.4278, acc=1.0000]\n"
     ]
    },
    {
     "name": "stdout",
     "output_type": "stream",
     "text": [
      "\n",
      "Prediction Distribution: {0: 165, 1: 125}\n",
      "\n",
      "Confusion Matrix:\n",
      "[[84 49]\n",
      " [81 76]]\n",
      "\n",
      "Validation Metrics:\n",
      "Loss: 0.6731\n",
      "Accuracy: 0.5517\n",
      "Precision: 0.6080\n",
      "Recall: 0.4841\n",
      "F1: 0.5390\n",
      "Auc: 0.5658\n",
      "\n",
      "Epoch 27/100\n"
     ]
    },
    {
     "name": "stderr",
     "output_type": "stream",
     "text": [
      "Training Epoch 27/100:   0%|          | 0/42 [00:00<?, ?it/s]huggingface/tokenizers: The current process just got forked, after parallelism has already been used. Disabling parallelism to avoid deadlocks...\n",
      "To disable this warning, you can either:\n",
      "\t- Avoid using `tokenizers` before the fork if possible\n",
      "\t- Explicitly set the environment variable TOKENIZERS_PARALLELISM=(true | false)\n",
      "huggingface/tokenizers: The current process just got forked, after parallelism has already been used. Disabling parallelism to avoid deadlocks...\n",
      "To disable this warning, you can either:\n",
      "\t- Avoid using `tokenizers` before the fork if possible\n",
      "\t- Explicitly set the environment variable TOKENIZERS_PARALLELISM=(true | false)\n",
      "Training Epoch 27/100: 100%|██████████| 42/42 [00:20<00:00,  2.09it/s, loss=0.6683, acc=0.5312, lr=0.00000811]\n"
     ]
    },
    {
     "name": "stdout",
     "output_type": "stream",
     "text": [
      "\n",
      "Training Metrics:\n",
      "Loss: 0.6770\n",
      "Accuracy: 0.5878\n",
      "Precision: 0.5679\n",
      "Recall: 0.6065\n",
      "F1: 0.5866\n"
     ]
    },
    {
     "name": "stderr",
     "output_type": "stream",
     "text": [
      "Validation Epoch 27/100:   0%|          | 0/10 [00:00<?, ?it/s]huggingface/tokenizers: The current process just got forked, after parallelism has already been used. Disabling parallelism to avoid deadlocks...\n",
      "To disable this warning, you can either:\n",
      "\t- Avoid using `tokenizers` before the fork if possible\n",
      "\t- Explicitly set the environment variable TOKENIZERS_PARALLELISM=(true | false)\n",
      "huggingface/tokenizers: The current process just got forked, after parallelism has already been used. Disabling parallelism to avoid deadlocks...\n",
      "To disable this warning, you can either:\n",
      "\t- Avoid using `tokenizers` before the fork if possible\n",
      "\t- Explicitly set the environment variable TOKENIZERS_PARALLELISM=(true | false)\n",
      "Validation Epoch 27/100: 100%|██████████| 10/10 [00:01<00:00,  5.05it/s, loss=0.4971, acc=1.0000]\n"
     ]
    },
    {
     "name": "stdout",
     "output_type": "stream",
     "text": [
      "\n",
      "Prediction Distribution: {0: 193, 1: 97}\n",
      "\n",
      "Confusion Matrix:\n",
      "[[95 38]\n",
      " [98 59]]\n",
      "\n",
      "Validation Metrics:\n",
      "Loss: 0.6963\n",
      "Accuracy: 0.5310\n",
      "Precision: 0.6082\n",
      "Recall: 0.3758\n",
      "F1: 0.4646\n",
      "Auc: 0.5641\n",
      "\n",
      "Epoch 28/100\n"
     ]
    },
    {
     "name": "stderr",
     "output_type": "stream",
     "text": [
      "Training Epoch 28/100:   0%|          | 0/42 [00:00<?, ?it/s]huggingface/tokenizers: The current process just got forked, after parallelism has already been used. Disabling parallelism to avoid deadlocks...\n",
      "To disable this warning, you can either:\n",
      "\t- Avoid using `tokenizers` before the fork if possible\n",
      "\t- Explicitly set the environment variable TOKENIZERS_PARALLELISM=(true | false)\n",
      "huggingface/tokenizers: The current process just got forked, after parallelism has already been used. Disabling parallelism to avoid deadlocks...\n",
      "To disable this warning, you can either:\n",
      "\t- Avoid using `tokenizers` before the fork if possible\n",
      "\t- Explicitly set the environment variable TOKENIZERS_PARALLELISM=(true | false)\n",
      "Training Epoch 28/100: 100%|██████████| 42/42 [00:20<00:00,  2.09it/s, loss=0.7289, acc=0.5000, lr=0.00000800]\n"
     ]
    },
    {
     "name": "stdout",
     "output_type": "stream",
     "text": [
      "\n",
      "Training Metrics:\n",
      "Loss: 0.6737\n",
      "Accuracy: 0.5945\n",
      "Precision: 0.5803\n",
      "Recall: 0.5741\n",
      "F1: 0.5772\n"
     ]
    },
    {
     "name": "stderr",
     "output_type": "stream",
     "text": [
      "Validation Epoch 28/100:   0%|          | 0/10 [00:00<?, ?it/s]huggingface/tokenizers: The current process just got forked, after parallelism has already been used. Disabling parallelism to avoid deadlocks...\n",
      "To disable this warning, you can either:\n",
      "\t- Avoid using `tokenizers` before the fork if possible\n",
      "\t- Explicitly set the environment variable TOKENIZERS_PARALLELISM=(true | false)\n",
      "huggingface/tokenizers: The current process just got forked, after parallelism has already been used. Disabling parallelism to avoid deadlocks...\n",
      "To disable this warning, you can either:\n",
      "\t- Avoid using `tokenizers` before the fork if possible\n",
      "\t- Explicitly set the environment variable TOKENIZERS_PARALLELISM=(true | false)\n",
      "Validation Epoch 28/100: 100%|██████████| 10/10 [00:01<00:00,  5.06it/s, loss=0.4622, acc=1.0000]\n"
     ]
    },
    {
     "name": "stdout",
     "output_type": "stream",
     "text": [
      "\n",
      "Prediction Distribution: {0: 189, 1: 101}\n",
      "\n",
      "Confusion Matrix:\n",
      "[[95 38]\n",
      " [94 63]]\n",
      "\n",
      "Validation Metrics:\n",
      "Loss: 0.6910\n",
      "Accuracy: 0.5448\n",
      "Precision: 0.6238\n",
      "Recall: 0.4013\n",
      "F1: 0.4884\n",
      "Auc: 0.5687\n",
      "\n",
      "Epoch 29/100\n"
     ]
    },
    {
     "name": "stderr",
     "output_type": "stream",
     "text": [
      "Training Epoch 29/100:   0%|          | 0/42 [00:00<?, ?it/s]huggingface/tokenizers: The current process just got forked, after parallelism has already been used. Disabling parallelism to avoid deadlocks...\n",
      "To disable this warning, you can either:\n",
      "\t- Avoid using `tokenizers` before the fork if possible\n",
      "\t- Explicitly set the environment variable TOKENIZERS_PARALLELISM=(true | false)\n",
      "huggingface/tokenizers: The current process just got forked, after parallelism has already been used. Disabling parallelism to avoid deadlocks...\n",
      "To disable this warning, you can either:\n",
      "\t- Avoid using `tokenizers` before the fork if possible\n",
      "\t- Explicitly set the environment variable TOKENIZERS_PARALLELISM=(true | false)\n",
      "Training Epoch 29/100: 100%|██████████| 42/42 [00:20<00:00,  2.09it/s, loss=0.5734, acc=0.8438, lr=0.00000789]\n"
     ]
    },
    {
     "name": "stdout",
     "output_type": "stream",
     "text": [
      "\n",
      "Training Metrics:\n",
      "Loss: 0.6685\n",
      "Accuracy: 0.5856\n",
      "Precision: 0.5723\n",
      "Recall: 0.5609\n",
      "F1: 0.5665\n"
     ]
    },
    {
     "name": "stderr",
     "output_type": "stream",
     "text": [
      "Validation Epoch 29/100:   0%|          | 0/10 [00:00<?, ?it/s]huggingface/tokenizers: The current process just got forked, after parallelism has already been used. Disabling parallelism to avoid deadlocks...\n",
      "To disable this warning, you can either:\n",
      "\t- Avoid using `tokenizers` before the fork if possible\n",
      "\t- Explicitly set the environment variable TOKENIZERS_PARALLELISM=(true | false)\n",
      "huggingface/tokenizers: The current process just got forked, after parallelism has already been used. Disabling parallelism to avoid deadlocks...\n",
      "To disable this warning, you can either:\n",
      "\t- Avoid using `tokenizers` before the fork if possible\n",
      "\t- Explicitly set the environment variable TOKENIZERS_PARALLELISM=(true | false)\n",
      "Validation Epoch 29/100: 100%|██████████| 10/10 [00:01<00:00,  5.05it/s, loss=0.4948, acc=1.0000]\n"
     ]
    },
    {
     "name": "stdout",
     "output_type": "stream",
     "text": [
      "\n",
      "Prediction Distribution: {0: 193, 1: 97}\n",
      "\n",
      "Confusion Matrix:\n",
      "[[96 37]\n",
      " [97 60]]\n",
      "\n",
      "Validation Metrics:\n",
      "Loss: 0.6927\n",
      "Accuracy: 0.5379\n",
      "Precision: 0.6186\n",
      "Recall: 0.3822\n",
      "F1: 0.4724\n",
      "Auc: 0.5675\n",
      "\n",
      "Epoch 30/100\n"
     ]
    },
    {
     "name": "stderr",
     "output_type": "stream",
     "text": [
      "Training Epoch 30/100:   0%|          | 0/42 [00:00<?, ?it/s]huggingface/tokenizers: The current process just got forked, after parallelism has already been used. Disabling parallelism to avoid deadlocks...\n",
      "To disable this warning, you can either:\n",
      "\t- Avoid using `tokenizers` before the fork if possible\n",
      "\t- Explicitly set the environment variable TOKENIZERS_PARALLELISM=(true | false)\n",
      "huggingface/tokenizers: The current process just got forked, after parallelism has already been used. Disabling parallelism to avoid deadlocks...\n",
      "To disable this warning, you can either:\n",
      "\t- Avoid using `tokenizers` before the fork if possible\n",
      "\t- Explicitly set the environment variable TOKENIZERS_PARALLELISM=(true | false)\n",
      "Training Epoch 30/100: 100%|██████████| 42/42 [00:20<00:00,  2.09it/s, loss=0.6663, acc=0.6250, lr=0.00000778]\n"
     ]
    },
    {
     "name": "stdout",
     "output_type": "stream",
     "text": [
      "\n",
      "Training Metrics:\n",
      "Loss: 0.6753\n",
      "Accuracy: 0.5826\n",
      "Precision: 0.5646\n",
      "Recall: 0.5985\n",
      "F1: 0.5810\n"
     ]
    },
    {
     "name": "stderr",
     "output_type": "stream",
     "text": [
      "Validation Epoch 30/100:   0%|          | 0/10 [00:00<?, ?it/s]huggingface/tokenizers: The current process just got forked, after parallelism has already been used. Disabling parallelism to avoid deadlocks...\n",
      "To disable this warning, you can either:\n",
      "\t- Avoid using `tokenizers` before the fork if possible\n",
      "\t- Explicitly set the environment variable TOKENIZERS_PARALLELISM=(true | false)\n",
      "huggingface/tokenizers: The current process just got forked, after parallelism has already been used. Disabling parallelism to avoid deadlocks...\n",
      "To disable this warning, you can either:\n",
      "\t- Avoid using `tokenizers` before the fork if possible\n",
      "\t- Explicitly set the environment variable TOKENIZERS_PARALLELISM=(true | false)\n",
      "Validation Epoch 30/100: 100%|██████████| 10/10 [00:01<00:00,  5.06it/s, loss=0.3746, acc=1.0000]\n"
     ]
    },
    {
     "name": "stdout",
     "output_type": "stream",
     "text": [
      "\n",
      "Prediction Distribution: {0: 142, 1: 148}\n",
      "\n",
      "Confusion Matrix:\n",
      "[[73 60]\n",
      " [69 88]]\n",
      "\n",
      "Validation Metrics:\n",
      "Loss: 0.6702\n",
      "Accuracy: 0.5552\n",
      "Precision: 0.5946\n",
      "Recall: 0.5605\n",
      "F1: 0.5770\n",
      "Auc: 0.5644\n",
      "\n",
      "Epoch 31/100\n"
     ]
    },
    {
     "name": "stderr",
     "output_type": "stream",
     "text": [
      "Training Epoch 31/100:   0%|          | 0/42 [00:00<?, ?it/s]huggingface/tokenizers: The current process just got forked, after parallelism has already been used. Disabling parallelism to avoid deadlocks...\n",
      "To disable this warning, you can either:\n",
      "\t- Avoid using `tokenizers` before the fork if possible\n",
      "\t- Explicitly set the environment variable TOKENIZERS_PARALLELISM=(true | false)\n",
      "huggingface/tokenizers: The current process just got forked, after parallelism has already been used. Disabling parallelism to avoid deadlocks...\n",
      "To disable this warning, you can either:\n",
      "\t- Avoid using `tokenizers` before the fork if possible\n",
      "\t- Explicitly set the environment variable TOKENIZERS_PARALLELISM=(true | false)\n",
      "Training Epoch 31/100: 100%|██████████| 42/42 [00:20<00:00,  2.09it/s, loss=0.6309, acc=0.6875, lr=0.00000767]\n"
     ]
    },
    {
     "name": "stdout",
     "output_type": "stream",
     "text": [
      "\n",
      "Training Metrics:\n",
      "Loss: 0.6669\n",
      "Accuracy: 0.5952\n",
      "Precision: 0.5791\n",
      "Recall: 0.5969\n",
      "F1: 0.5879\n"
     ]
    },
    {
     "name": "stderr",
     "output_type": "stream",
     "text": [
      "Validation Epoch 31/100:   0%|          | 0/10 [00:00<?, ?it/s]huggingface/tokenizers: The current process just got forked, after parallelism has already been used. Disabling parallelism to avoid deadlocks...\n",
      "To disable this warning, you can either:\n",
      "\t- Avoid using `tokenizers` before the fork if possible\n",
      "\t- Explicitly set the environment variable TOKENIZERS_PARALLELISM=(true | false)\n",
      "huggingface/tokenizers: The current process just got forked, after parallelism has already been used. Disabling parallelism to avoid deadlocks...\n",
      "To disable this warning, you can either:\n",
      "\t- Avoid using `tokenizers` before the fork if possible\n",
      "\t- Explicitly set the environment variable TOKENIZERS_PARALLELISM=(true | false)\n",
      "Validation Epoch 31/100: 100%|██████████| 10/10 [00:01<00:00,  5.05it/s, loss=0.5302, acc=1.0000]\n"
     ]
    },
    {
     "name": "stdout",
     "output_type": "stream",
     "text": [
      "\n",
      "Prediction Distribution: {0: 214, 1: 76}\n",
      "\n",
      "Confusion Matrix:\n",
      "[[105  28]\n",
      " [109  48]]\n",
      "\n",
      "Validation Metrics:\n",
      "Loss: 0.7114\n",
      "Accuracy: 0.5276\n",
      "Precision: 0.6316\n",
      "Recall: 0.3057\n",
      "F1: 0.4120\n",
      "Auc: 0.5674\n",
      "\n",
      "Epoch 32/100\n"
     ]
    },
    {
     "name": "stderr",
     "output_type": "stream",
     "text": [
      "Training Epoch 32/100:   0%|          | 0/42 [00:00<?, ?it/s]huggingface/tokenizers: The current process just got forked, after parallelism has already been used. Disabling parallelism to avoid deadlocks...\n",
      "To disable this warning, you can either:\n",
      "\t- Avoid using `tokenizers` before the fork if possible\n",
      "\t- Explicitly set the environment variable TOKENIZERS_PARALLELISM=(true | false)\n",
      "huggingface/tokenizers: The current process just got forked, after parallelism has already been used. Disabling parallelism to avoid deadlocks...\n",
      "To disable this warning, you can either:\n",
      "\t- Avoid using `tokenizers` before the fork if possible\n",
      "\t- Explicitly set the environment variable TOKENIZERS_PARALLELISM=(true | false)\n",
      "Training Epoch 32/100: 100%|██████████| 42/42 [00:20<00:00,  2.09it/s, loss=0.7049, acc=0.6250, lr=0.00000756]\n"
     ]
    },
    {
     "name": "stdout",
     "output_type": "stream",
     "text": [
      "\n",
      "Training Metrics:\n",
      "Loss: 0.6682\n",
      "Accuracy: 0.6176\n",
      "Precision: 0.6301\n",
      "Recall: 0.5039\n",
      "F1: 0.5599\n"
     ]
    },
    {
     "name": "stderr",
     "output_type": "stream",
     "text": [
      "Validation Epoch 32/100:   0%|          | 0/10 [00:00<?, ?it/s]huggingface/tokenizers: The current process just got forked, after parallelism has already been used. Disabling parallelism to avoid deadlocks...\n",
      "To disable this warning, you can either:\n",
      "\t- Avoid using `tokenizers` before the fork if possible\n",
      "\t- Explicitly set the environment variable TOKENIZERS_PARALLELISM=(true | false)\n",
      "huggingface/tokenizers: The current process just got forked, after parallelism has already been used. Disabling parallelism to avoid deadlocks...\n",
      "To disable this warning, you can either:\n",
      "\t- Avoid using `tokenizers` before the fork if possible\n",
      "\t- Explicitly set the environment variable TOKENIZERS_PARALLELISM=(true | false)\n",
      "Validation Epoch 32/100: 100%|██████████| 10/10 [00:01<00:00,  5.04it/s, loss=0.2784, acc=1.0000]\n"
     ]
    },
    {
     "name": "stdout",
     "output_type": "stream",
     "text": [
      "\n",
      "Prediction Distribution: {0: 89, 1: 201}\n",
      "\n",
      "Confusion Matrix:\n",
      "[[ 45  88]\n",
      " [ 44 113]]\n",
      "\n",
      "Validation Metrics:\n",
      "Loss: 0.6587\n",
      "Accuracy: 0.5448\n",
      "Precision: 0.5622\n",
      "Recall: 0.7197\n",
      "F1: 0.6313\n",
      "Auc: 0.5640\n",
      "\n",
      "Epoch 33/100\n"
     ]
    },
    {
     "name": "stderr",
     "output_type": "stream",
     "text": [
      "Training Epoch 33/100:   0%|          | 0/42 [00:00<?, ?it/s]huggingface/tokenizers: The current process just got forked, after parallelism has already been used. Disabling parallelism to avoid deadlocks...\n",
      "To disable this warning, you can either:\n",
      "\t- Avoid using `tokenizers` before the fork if possible\n",
      "\t- Explicitly set the environment variable TOKENIZERS_PARALLELISM=(true | false)\n",
      "huggingface/tokenizers: The current process just got forked, after parallelism has already been used. Disabling parallelism to avoid deadlocks...\n",
      "To disable this warning, you can either:\n",
      "\t- Avoid using `tokenizers` before the fork if possible\n",
      "\t- Explicitly set the environment variable TOKENIZERS_PARALLELISM=(true | false)\n",
      "Training Epoch 33/100: 100%|██████████| 42/42 [00:20<00:00,  2.08it/s, loss=0.6377, acc=0.5625, lr=0.00000744]\n"
     ]
    },
    {
     "name": "stdout",
     "output_type": "stream",
     "text": [
      "\n",
      "Training Metrics:\n",
      "Loss: 0.6859\n",
      "Accuracy: 0.5625\n",
      "Precision: 0.5399\n",
      "Recall: 0.6364\n",
      "F1: 0.5842\n"
     ]
    },
    {
     "name": "stderr",
     "output_type": "stream",
     "text": [
      "Validation Epoch 33/100:   0%|          | 0/10 [00:00<?, ?it/s]huggingface/tokenizers: The current process just got forked, after parallelism has already been used. Disabling parallelism to avoid deadlocks...\n",
      "To disable this warning, you can either:\n",
      "\t- Avoid using `tokenizers` before the fork if possible\n",
      "\t- Explicitly set the environment variable TOKENIZERS_PARALLELISM=(true | false)\n",
      "huggingface/tokenizers: The current process just got forked, after parallelism has already been used. Disabling parallelism to avoid deadlocks...\n",
      "To disable this warning, you can either:\n",
      "\t- Avoid using `tokenizers` before the fork if possible\n",
      "\t- Explicitly set the environment variable TOKENIZERS_PARALLELISM=(true | false)\n",
      "Validation Epoch 33/100: 100%|██████████| 10/10 [00:01<00:00,  5.05it/s, loss=0.6845, acc=0.5000]\n"
     ]
    },
    {
     "name": "stdout",
     "output_type": "stream",
     "text": [
      "\n",
      "Prediction Distribution: {0: 267, 1: 23}\n",
      "\n",
      "Confusion Matrix:\n",
      "[[126   7]\n",
      " [141  16]]\n",
      "\n",
      "Validation Metrics:\n",
      "Loss: 0.7645\n",
      "Accuracy: 0.4897\n",
      "Precision: 0.6957\n",
      "Recall: 0.1019\n",
      "F1: 0.1778\n",
      "Auc: 0.5701\n",
      "\n",
      "Epoch 34/100\n"
     ]
    },
    {
     "name": "stderr",
     "output_type": "stream",
     "text": [
      "Training Epoch 34/100:   0%|          | 0/42 [00:00<?, ?it/s]huggingface/tokenizers: The current process just got forked, after parallelism has already been used. Disabling parallelism to avoid deadlocks...\n",
      "To disable this warning, you can either:\n",
      "\t- Avoid using `tokenizers` before the fork if possible\n",
      "\t- Explicitly set the environment variable TOKENIZERS_PARALLELISM=(true | false)\n",
      "huggingface/tokenizers: The current process just got forked, after parallelism has already been used. Disabling parallelism to avoid deadlocks...\n",
      "To disable this warning, you can either:\n",
      "\t- Avoid using `tokenizers` before the fork if possible\n",
      "\t- Explicitly set the environment variable TOKENIZERS_PARALLELISM=(true | false)\n",
      "Training Epoch 34/100: 100%|██████████| 42/42 [00:20<00:00,  2.08it/s, loss=0.6884, acc=0.5625, lr=0.00000733]\n"
     ]
    },
    {
     "name": "stdout",
     "output_type": "stream",
     "text": [
      "\n",
      "Training Metrics:\n",
      "Loss: 0.6732\n",
      "Accuracy: 0.5923\n",
      "Precision: 0.5871\n",
      "Recall: 0.5201\n",
      "F1: 0.5516\n"
     ]
    },
    {
     "name": "stderr",
     "output_type": "stream",
     "text": [
      "Validation Epoch 34/100:   0%|          | 0/10 [00:00<?, ?it/s]huggingface/tokenizers: The current process just got forked, after parallelism has already been used. Disabling parallelism to avoid deadlocks...\n",
      "To disable this warning, you can either:\n",
      "\t- Avoid using `tokenizers` before the fork if possible\n",
      "\t- Explicitly set the environment variable TOKENIZERS_PARALLELISM=(true | false)\n",
      "huggingface/tokenizers: The current process just got forked, after parallelism has already been used. Disabling parallelism to avoid deadlocks...\n",
      "To disable this warning, you can either:\n",
      "\t- Avoid using `tokenizers` before the fork if possible\n",
      "\t- Explicitly set the environment variable TOKENIZERS_PARALLELISM=(true | false)\n",
      "Validation Epoch 34/100: 100%|██████████| 10/10 [00:01<00:00,  5.03it/s, loss=0.3954, acc=1.0000]\n"
     ]
    },
    {
     "name": "stdout",
     "output_type": "stream",
     "text": [
      "\n",
      "Prediction Distribution: {0: 155, 1: 135}\n",
      "\n",
      "Confusion Matrix:\n",
      "[[81 52]\n",
      " [74 83]]\n",
      "\n",
      "Validation Metrics:\n",
      "Loss: 0.6771\n",
      "Accuracy: 0.5655\n",
      "Precision: 0.6148\n",
      "Recall: 0.5287\n",
      "F1: 0.5685\n",
      "Auc: 0.5634\n",
      "\n",
      "Epoch 35/100\n"
     ]
    },
    {
     "name": "stderr",
     "output_type": "stream",
     "text": [
      "Training Epoch 35/100:   0%|          | 0/42 [00:00<?, ?it/s]huggingface/tokenizers: The current process just got forked, after parallelism has already been used. Disabling parallelism to avoid deadlocks...\n",
      "To disable this warning, you can either:\n",
      "\t- Avoid using `tokenizers` before the fork if possible\n",
      "\t- Explicitly set the environment variable TOKENIZERS_PARALLELISM=(true | false)\n",
      "huggingface/tokenizers: The current process just got forked, after parallelism has already been used. Disabling parallelism to avoid deadlocks...\n",
      "To disable this warning, you can either:\n",
      "\t- Avoid using `tokenizers` before the fork if possible\n",
      "\t- Explicitly set the environment variable TOKENIZERS_PARALLELISM=(true | false)\n",
      "Training Epoch 35/100: 100%|██████████| 42/42 [00:20<00:00,  2.09it/s, loss=0.7123, acc=0.5312, lr=0.00000722]\n"
     ]
    },
    {
     "name": "stdout",
     "output_type": "stream",
     "text": [
      "\n",
      "Training Metrics:\n",
      "Loss: 0.6663\n",
      "Accuracy: 0.5982\n",
      "Precision: 0.5740\n",
      "Recall: 0.6466\n",
      "F1: 0.6081\n"
     ]
    },
    {
     "name": "stderr",
     "output_type": "stream",
     "text": [
      "Validation Epoch 35/100:   0%|          | 0/10 [00:00<?, ?it/s]huggingface/tokenizers: The current process just got forked, after parallelism has already been used. Disabling parallelism to avoid deadlocks...\n",
      "To disable this warning, you can either:\n",
      "\t- Avoid using `tokenizers` before the fork if possible\n",
      "\t- Explicitly set the environment variable TOKENIZERS_PARALLELISM=(true | false)\n",
      "huggingface/tokenizers: The current process just got forked, after parallelism has already been used. Disabling parallelism to avoid deadlocks...\n",
      "To disable this warning, you can either:\n",
      "\t- Avoid using `tokenizers` before the fork if possible\n",
      "\t- Explicitly set the environment variable TOKENIZERS_PARALLELISM=(true | false)\n",
      "Validation Epoch 35/100: 100%|██████████| 10/10 [00:01<00:00,  5.05it/s, loss=0.4719, acc=1.0000]\n"
     ]
    },
    {
     "name": "stdout",
     "output_type": "stream",
     "text": [
      "\n",
      "Prediction Distribution: {0: 203, 1: 87}\n",
      "\n",
      "Confusion Matrix:\n",
      "[[ 99  34]\n",
      " [104  53]]\n",
      "\n",
      "Validation Metrics:\n",
      "Loss: 0.7203\n",
      "Accuracy: 0.5241\n",
      "Precision: 0.6092\n",
      "Recall: 0.3376\n",
      "F1: 0.4344\n",
      "Auc: 0.5666\n",
      "\n",
      "Epoch 36/100\n"
     ]
    },
    {
     "name": "stderr",
     "output_type": "stream",
     "text": [
      "Training Epoch 36/100:   0%|          | 0/42 [00:00<?, ?it/s]huggingface/tokenizers: The current process just got forked, after parallelism has already been used. Disabling parallelism to avoid deadlocks...\n",
      "To disable this warning, you can either:\n",
      "\t- Avoid using `tokenizers` before the fork if possible\n",
      "\t- Explicitly set the environment variable TOKENIZERS_PARALLELISM=(true | false)\n",
      "huggingface/tokenizers: The current process just got forked, after parallelism has already been used. Disabling parallelism to avoid deadlocks...\n",
      "To disable this warning, you can either:\n",
      "\t- Avoid using `tokenizers` before the fork if possible\n",
      "\t- Explicitly set the environment variable TOKENIZERS_PARALLELISM=(true | false)\n",
      "Training Epoch 36/100: 100%|██████████| 42/42 [00:20<00:00,  2.08it/s, loss=0.7220, acc=0.5000, lr=0.00000711]\n"
     ]
    },
    {
     "name": "stdout",
     "output_type": "stream",
     "text": [
      "\n",
      "Training Metrics:\n",
      "Loss: 0.6647\n",
      "Accuracy: 0.6004\n",
      "Precision: 0.5862\n",
      "Recall: 0.5652\n",
      "F1: 0.5755\n"
     ]
    },
    {
     "name": "stderr",
     "output_type": "stream",
     "text": [
      "Validation Epoch 36/100:   0%|          | 0/10 [00:00<?, ?it/s]huggingface/tokenizers: The current process just got forked, after parallelism has already been used. Disabling parallelism to avoid deadlocks...\n",
      "To disable this warning, you can either:\n",
      "\t- Avoid using `tokenizers` before the fork if possible\n",
      "\t- Explicitly set the environment variable TOKENIZERS_PARALLELISM=(true | false)\n",
      "huggingface/tokenizers: The current process just got forked, after parallelism has already been used. Disabling parallelism to avoid deadlocks...\n",
      "To disable this warning, you can either:\n",
      "\t- Avoid using `tokenizers` before the fork if possible\n",
      "\t- Explicitly set the environment variable TOKENIZERS_PARALLELISM=(true | false)\n",
      "Validation Epoch 36/100: 100%|██████████| 10/10 [00:01<00:00,  5.05it/s, loss=0.3643, acc=1.0000]\n"
     ]
    },
    {
     "name": "stdout",
     "output_type": "stream",
     "text": [
      "\n",
      "Prediction Distribution: {0: 113, 1: 177}\n",
      "\n",
      "Confusion Matrix:\n",
      "[[53 80]\n",
      " [60 97]]\n",
      "\n",
      "Validation Metrics:\n",
      "Loss: 0.6646\n",
      "Accuracy: 0.5172\n",
      "Precision: 0.5480\n",
      "Recall: 0.6178\n",
      "F1: 0.5808\n",
      "Auc: 0.5618\n",
      "\n",
      "Epoch 37/100\n"
     ]
    },
    {
     "name": "stderr",
     "output_type": "stream",
     "text": [
      "Training Epoch 37/100:   0%|          | 0/42 [00:00<?, ?it/s]huggingface/tokenizers: The current process just got forked, after parallelism has already been used. Disabling parallelism to avoid deadlocks...\n",
      "To disable this warning, you can either:\n",
      "\t- Avoid using `tokenizers` before the fork if possible\n",
      "\t- Explicitly set the environment variable TOKENIZERS_PARALLELISM=(true | false)\n",
      "huggingface/tokenizers: The current process just got forked, after parallelism has already been used. Disabling parallelism to avoid deadlocks...\n",
      "To disable this warning, you can either:\n",
      "\t- Avoid using `tokenizers` before the fork if possible\n",
      "\t- Explicitly set the environment variable TOKENIZERS_PARALLELISM=(true | false)\n",
      "Training Epoch 37/100: 100%|██████████| 42/42 [00:20<00:00,  2.09it/s, loss=0.7030, acc=0.5000, lr=0.00000700]\n"
     ]
    },
    {
     "name": "stdout",
     "output_type": "stream",
     "text": [
      "\n",
      "Training Metrics:\n",
      "Loss: 0.6610\n",
      "Accuracy: 0.6042\n",
      "Precision: 0.5931\n",
      "Recall: 0.5785\n",
      "F1: 0.5857\n"
     ]
    },
    {
     "name": "stderr",
     "output_type": "stream",
     "text": [
      "Validation Epoch 37/100:   0%|          | 0/10 [00:00<?, ?it/s]huggingface/tokenizers: The current process just got forked, after parallelism has already been used. Disabling parallelism to avoid deadlocks...\n",
      "To disable this warning, you can either:\n",
      "\t- Avoid using `tokenizers` before the fork if possible\n",
      "\t- Explicitly set the environment variable TOKENIZERS_PARALLELISM=(true | false)\n",
      "huggingface/tokenizers: The current process just got forked, after parallelism has already been used. Disabling parallelism to avoid deadlocks...\n",
      "To disable this warning, you can either:\n",
      "\t- Avoid using `tokenizers` before the fork if possible\n",
      "\t- Explicitly set the environment variable TOKENIZERS_PARALLELISM=(true | false)\n",
      "Validation Epoch 37/100: 100%|██████████| 10/10 [00:01<00:00,  5.05it/s, loss=0.3605, acc=1.0000]\n"
     ]
    },
    {
     "name": "stdout",
     "output_type": "stream",
     "text": [
      "\n",
      "Prediction Distribution: {0: 154, 1: 136}\n",
      "\n",
      "Confusion Matrix:\n",
      "[[80 53]\n",
      " [74 83]]\n",
      "\n",
      "Validation Metrics:\n",
      "Loss: 0.6768\n",
      "Accuracy: 0.5621\n",
      "Precision: 0.6103\n",
      "Recall: 0.5287\n",
      "F1: 0.5666\n",
      "Auc: 0.5610\n",
      "\n",
      "Epoch 38/100\n"
     ]
    },
    {
     "name": "stderr",
     "output_type": "stream",
     "text": [
      "Training Epoch 38/100:   0%|          | 0/42 [00:00<?, ?it/s]huggingface/tokenizers: The current process just got forked, after parallelism has already been used. Disabling parallelism to avoid deadlocks...\n",
      "To disable this warning, you can either:\n",
      "\t- Avoid using `tokenizers` before the fork if possible\n",
      "\t- Explicitly set the environment variable TOKENIZERS_PARALLELISM=(true | false)\n",
      "huggingface/tokenizers: The current process just got forked, after parallelism has already been used. Disabling parallelism to avoid deadlocks...\n",
      "To disable this warning, you can either:\n",
      "\t- Avoid using `tokenizers` before the fork if possible\n",
      "\t- Explicitly set the environment variable TOKENIZERS_PARALLELISM=(true | false)\n",
      "Training Epoch 38/100: 100%|██████████| 42/42 [00:20<00:00,  2.09it/s, loss=0.6714, acc=0.5312, lr=0.00000689]\n"
     ]
    },
    {
     "name": "stdout",
     "output_type": "stream",
     "text": [
      "\n",
      "Training Metrics:\n",
      "Loss: 0.6572\n",
      "Accuracy: 0.6131\n",
      "Precision: 0.5967\n",
      "Recall: 0.6133\n",
      "F1: 0.6049\n"
     ]
    },
    {
     "name": "stderr",
     "output_type": "stream",
     "text": [
      "Validation Epoch 38/100:   0%|          | 0/10 [00:00<?, ?it/s]huggingface/tokenizers: The current process just got forked, after parallelism has already been used. Disabling parallelism to avoid deadlocks...\n",
      "To disable this warning, you can either:\n",
      "\t- Avoid using `tokenizers` before the fork if possible\n",
      "\t- Explicitly set the environment variable TOKENIZERS_PARALLELISM=(true | false)\n",
      "huggingface/tokenizers: The current process just got forked, after parallelism has already been used. Disabling parallelism to avoid deadlocks...\n",
      "To disable this warning, you can either:\n",
      "\t- Avoid using `tokenizers` before the fork if possible\n",
      "\t- Explicitly set the environment variable TOKENIZERS_PARALLELISM=(true | false)\n",
      "Validation Epoch 38/100: 100%|██████████| 10/10 [00:01<00:00,  5.05it/s, loss=0.5062, acc=1.0000]\n"
     ]
    },
    {
     "name": "stdout",
     "output_type": "stream",
     "text": [
      "\n",
      "Prediction Distribution: {0: 230, 1: 60}\n",
      "\n",
      "Confusion Matrix:\n",
      "[[109  24]\n",
      " [121  36]]\n",
      "\n",
      "Validation Metrics:\n",
      "Loss: 0.7261\n",
      "Accuracy: 0.5000\n",
      "Precision: 0.6000\n",
      "Recall: 0.2293\n",
      "F1: 0.3318\n",
      "Auc: 0.5638\n",
      "\n",
      "Epoch 39/100\n"
     ]
    },
    {
     "name": "stderr",
     "output_type": "stream",
     "text": [
      "Training Epoch 39/100:   0%|          | 0/42 [00:00<?, ?it/s]huggingface/tokenizers: The current process just got forked, after parallelism has already been used. Disabling parallelism to avoid deadlocks...\n",
      "To disable this warning, you can either:\n",
      "\t- Avoid using `tokenizers` before the fork if possible\n",
      "\t- Explicitly set the environment variable TOKENIZERS_PARALLELISM=(true | false)\n",
      "huggingface/tokenizers: The current process just got forked, after parallelism has already been used. Disabling parallelism to avoid deadlocks...\n",
      "To disable this warning, you can either:\n",
      "\t- Avoid using `tokenizers` before the fork if possible\n",
      "\t- Explicitly set the environment variable TOKENIZERS_PARALLELISM=(true | false)\n",
      "Training Epoch 39/100: 100%|██████████| 42/42 [00:20<00:00,  2.09it/s, loss=0.6967, acc=0.7500, lr=0.00000678]\n"
     ]
    },
    {
     "name": "stdout",
     "output_type": "stream",
     "text": [
      "\n",
      "Training Metrics:\n",
      "Loss: 0.6576\n",
      "Accuracy: 0.6190\n",
      "Precision: 0.6143\n",
      "Recall: 0.5573\n",
      "F1: 0.5844\n"
     ]
    },
    {
     "name": "stderr",
     "output_type": "stream",
     "text": [
      "Validation Epoch 39/100:   0%|          | 0/10 [00:00<?, ?it/s]huggingface/tokenizers: The current process just got forked, after parallelism has already been used. Disabling parallelism to avoid deadlocks...\n",
      "To disable this warning, you can either:\n",
      "\t- Avoid using `tokenizers` before the fork if possible\n",
      "\t- Explicitly set the environment variable TOKENIZERS_PARALLELISM=(true | false)\n",
      "huggingface/tokenizers: The current process just got forked, after parallelism has already been used. Disabling parallelism to avoid deadlocks...\n",
      "To disable this warning, you can either:\n",
      "\t- Avoid using `tokenizers` before the fork if possible\n",
      "\t- Explicitly set the environment variable TOKENIZERS_PARALLELISM=(true | false)\n",
      "Validation Epoch 39/100: 100%|██████████| 10/10 [00:01<00:00,  5.05it/s, loss=0.4692, acc=1.0000]\n"
     ]
    },
    {
     "name": "stdout",
     "output_type": "stream",
     "text": [
      "\n",
      "Prediction Distribution: {0: 213, 1: 77}\n",
      "\n",
      "Confusion Matrix:\n",
      "[[102  31]\n",
      " [111  46]]\n",
      "\n",
      "Validation Metrics:\n",
      "Loss: 0.7096\n",
      "Accuracy: 0.5103\n",
      "Precision: 0.5974\n",
      "Recall: 0.2930\n",
      "F1: 0.3932\n",
      "Auc: 0.5589\n",
      "\n",
      "Epoch 40/100\n"
     ]
    },
    {
     "name": "stderr",
     "output_type": "stream",
     "text": [
      "Training Epoch 40/100:   0%|          | 0/42 [00:00<?, ?it/s]huggingface/tokenizers: The current process just got forked, after parallelism has already been used. Disabling parallelism to avoid deadlocks...\n",
      "To disable this warning, you can either:\n",
      "\t- Avoid using `tokenizers` before the fork if possible\n",
      "\t- Explicitly set the environment variable TOKENIZERS_PARALLELISM=(true | false)\n",
      "huggingface/tokenizers: The current process just got forked, after parallelism has already been used. Disabling parallelism to avoid deadlocks...\n",
      "To disable this warning, you can either:\n",
      "\t- Avoid using `tokenizers` before the fork if possible\n",
      "\t- Explicitly set the environment variable TOKENIZERS_PARALLELISM=(true | false)\n",
      "Training Epoch 40/100: 100%|██████████| 42/42 [00:20<00:00,  2.09it/s, loss=0.6675, acc=0.5938, lr=0.00000667]\n"
     ]
    },
    {
     "name": "stdout",
     "output_type": "stream",
     "text": [
      "\n",
      "Training Metrics:\n",
      "Loss: 0.6486\n",
      "Accuracy: 0.6131\n",
      "Precision: 0.6026\n",
      "Recall: 0.5765\n",
      "F1: 0.5893\n"
     ]
    },
    {
     "name": "stderr",
     "output_type": "stream",
     "text": [
      "Validation Epoch 40/100:   0%|          | 0/10 [00:00<?, ?it/s]huggingface/tokenizers: The current process just got forked, after parallelism has already been used. Disabling parallelism to avoid deadlocks...\n",
      "To disable this warning, you can either:\n",
      "\t- Avoid using `tokenizers` before the fork if possible\n",
      "\t- Explicitly set the environment variable TOKENIZERS_PARALLELISM=(true | false)\n",
      "huggingface/tokenizers: The current process just got forked, after parallelism has already been used. Disabling parallelism to avoid deadlocks...\n",
      "To disable this warning, you can either:\n",
      "\t- Avoid using `tokenizers` before the fork if possible\n",
      "\t- Explicitly set the environment variable TOKENIZERS_PARALLELISM=(true | false)\n",
      "Validation Epoch 40/100: 100%|██████████| 10/10 [00:01<00:00,  5.06it/s, loss=0.4209, acc=1.0000]\n"
     ]
    },
    {
     "name": "stdout",
     "output_type": "stream",
     "text": [
      "\n",
      "Prediction Distribution: {0: 190, 1: 100}\n",
      "\n",
      "Confusion Matrix:\n",
      "[[93 40]\n",
      " [97 60]]\n",
      "\n",
      "Validation Metrics:\n",
      "Loss: 0.7057\n",
      "Accuracy: 0.5276\n",
      "Precision: 0.6000\n",
      "Recall: 0.3822\n",
      "F1: 0.4669\n",
      "Auc: 0.5583\n",
      "\n",
      "Epoch 41/100\n"
     ]
    },
    {
     "name": "stderr",
     "output_type": "stream",
     "text": [
      "Training Epoch 41/100:   0%|          | 0/42 [00:00<?, ?it/s]huggingface/tokenizers: The current process just got forked, after parallelism has already been used. Disabling parallelism to avoid deadlocks...\n",
      "To disable this warning, you can either:\n",
      "\t- Avoid using `tokenizers` before the fork if possible\n",
      "\t- Explicitly set the environment variable TOKENIZERS_PARALLELISM=(true | false)\n",
      "huggingface/tokenizers: The current process just got forked, after parallelism has already been used. Disabling parallelism to avoid deadlocks...\n",
      "To disable this warning, you can either:\n",
      "\t- Avoid using `tokenizers` before the fork if possible\n",
      "\t- Explicitly set the environment variable TOKENIZERS_PARALLELISM=(true | false)\n",
      "Training Epoch 41/100: 100%|██████████| 42/42 [00:20<00:00,  2.08it/s, loss=0.6113, acc=0.7188, lr=0.00000656]\n"
     ]
    },
    {
     "name": "stdout",
     "output_type": "stream",
     "text": [
      "\n",
      "Training Metrics:\n",
      "Loss: 0.6455\n",
      "Accuracy: 0.6220\n",
      "Precision: 0.6160\n",
      "Recall: 0.5800\n",
      "F1: 0.5975\n"
     ]
    },
    {
     "name": "stderr",
     "output_type": "stream",
     "text": [
      "Validation Epoch 41/100:   0%|          | 0/10 [00:00<?, ?it/s]huggingface/tokenizers: The current process just got forked, after parallelism has already been used. Disabling parallelism to avoid deadlocks...\n",
      "To disable this warning, you can either:\n",
      "\t- Avoid using `tokenizers` before the fork if possible\n",
      "\t- Explicitly set the environment variable TOKENIZERS_PARALLELISM=(true | false)\n",
      "huggingface/tokenizers: The current process just got forked, after parallelism has already been used. Disabling parallelism to avoid deadlocks...\n",
      "To disable this warning, you can either:\n",
      "\t- Avoid using `tokenizers` before the fork if possible\n",
      "\t- Explicitly set the environment variable TOKENIZERS_PARALLELISM=(true | false)\n",
      "Validation Epoch 41/100: 100%|██████████| 10/10 [00:01<00:00,  5.06it/s, loss=0.3615, acc=1.0000]\n"
     ]
    },
    {
     "name": "stdout",
     "output_type": "stream",
     "text": [
      "\n",
      "Prediction Distribution: {0: 177, 1: 113}\n",
      "\n",
      "Confusion Matrix:\n",
      "[[89 44]\n",
      " [88 69]]\n",
      "\n",
      "Validation Metrics:\n",
      "Loss: 0.6941\n",
      "Accuracy: 0.5448\n",
      "Precision: 0.6106\n",
      "Recall: 0.4395\n",
      "F1: 0.5111\n",
      "Auc: 0.5627\n",
      "\n",
      "Epoch 42/100\n"
     ]
    },
    {
     "name": "stderr",
     "output_type": "stream",
     "text": [
      "Training Epoch 42/100:   0%|          | 0/42 [00:00<?, ?it/s]huggingface/tokenizers: The current process just got forked, after parallelism has already been used. Disabling parallelism to avoid deadlocks...\n",
      "To disable this warning, you can either:\n",
      "\t- Avoid using `tokenizers` before the fork if possible\n",
      "\t- Explicitly set the environment variable TOKENIZERS_PARALLELISM=(true | false)\n",
      "huggingface/tokenizers: The current process just got forked, after parallelism has already been used. Disabling parallelism to avoid deadlocks...\n",
      "To disable this warning, you can either:\n",
      "\t- Avoid using `tokenizers` before the fork if possible\n",
      "\t- Explicitly set the environment variable TOKENIZERS_PARALLELISM=(true | false)\n",
      "Training Epoch 42/100: 100%|██████████| 42/42 [00:20<00:00,  2.09it/s, loss=0.7363, acc=0.4688, lr=0.00000644]\n"
     ]
    },
    {
     "name": "stdout",
     "output_type": "stream",
     "text": [
      "\n",
      "Training Metrics:\n",
      "Loss: 0.6528\n",
      "Accuracy: 0.6205\n",
      "Precision: 0.6086\n",
      "Recall: 0.5935\n",
      "F1: 0.6009\n"
     ]
    },
    {
     "name": "stderr",
     "output_type": "stream",
     "text": [
      "Validation Epoch 42/100:   0%|          | 0/10 [00:00<?, ?it/s]huggingface/tokenizers: The current process just got forked, after parallelism has already been used. Disabling parallelism to avoid deadlocks...\n",
      "To disable this warning, you can either:\n",
      "\t- Avoid using `tokenizers` before the fork if possible\n",
      "\t- Explicitly set the environment variable TOKENIZERS_PARALLELISM=(true | false)\n",
      "huggingface/tokenizers: The current process just got forked, after parallelism has already been used. Disabling parallelism to avoid deadlocks...\n",
      "To disable this warning, you can either:\n",
      "\t- Avoid using `tokenizers` before the fork if possible\n",
      "\t- Explicitly set the environment variable TOKENIZERS_PARALLELISM=(true | false)\n",
      "Validation Epoch 42/100: 100%|██████████| 10/10 [00:01<00:00,  5.07it/s, loss=0.4259, acc=1.0000]\n"
     ]
    },
    {
     "name": "stdout",
     "output_type": "stream",
     "text": [
      "\n",
      "Prediction Distribution: {0: 181, 1: 109}\n",
      "\n",
      "Confusion Matrix:\n",
      "[[90 43]\n",
      " [91 66]]\n",
      "\n",
      "Validation Metrics:\n",
      "Loss: 0.6885\n",
      "Accuracy: 0.5379\n",
      "Precision: 0.6055\n",
      "Recall: 0.4204\n",
      "F1: 0.4962\n",
      "Auc: 0.5583\n",
      "\n",
      "Epoch 43/100\n"
     ]
    },
    {
     "name": "stderr",
     "output_type": "stream",
     "text": [
      "Training Epoch 43/100:   0%|          | 0/42 [00:00<?, ?it/s]huggingface/tokenizers: The current process just got forked, after parallelism has already been used. Disabling parallelism to avoid deadlocks...\n",
      "To disable this warning, you can either:\n",
      "\t- Avoid using `tokenizers` before the fork if possible\n",
      "\t- Explicitly set the environment variable TOKENIZERS_PARALLELISM=(true | false)\n",
      "huggingface/tokenizers: The current process just got forked, after parallelism has already been used. Disabling parallelism to avoid deadlocks...\n",
      "To disable this warning, you can either:\n",
      "\t- Avoid using `tokenizers` before the fork if possible\n",
      "\t- Explicitly set the environment variable TOKENIZERS_PARALLELISM=(true | false)\n",
      "Training Epoch 43/100: 100%|██████████| 42/42 [00:20<00:00,  2.09it/s, loss=0.6390, acc=0.6562, lr=0.00000633]\n"
     ]
    },
    {
     "name": "stdout",
     "output_type": "stream",
     "text": [
      "\n",
      "Training Metrics:\n",
      "Loss: 0.6490\n",
      "Accuracy: 0.6272\n",
      "Precision: 0.6233\n",
      "Recall: 0.5703\n",
      "F1: 0.5956\n"
     ]
    },
    {
     "name": "stderr",
     "output_type": "stream",
     "text": [
      "Validation Epoch 43/100:   0%|          | 0/10 [00:00<?, ?it/s]huggingface/tokenizers: The current process just got forked, after parallelism has already been used. Disabling parallelism to avoid deadlocks...\n",
      "To disable this warning, you can either:\n",
      "\t- Avoid using `tokenizers` before the fork if possible\n",
      "\t- Explicitly set the environment variable TOKENIZERS_PARALLELISM=(true | false)\n",
      "huggingface/tokenizers: The current process just got forked, after parallelism has already been used. Disabling parallelism to avoid deadlocks...\n",
      "To disable this warning, you can either:\n",
      "\t- Avoid using `tokenizers` before the fork if possible\n",
      "\t- Explicitly set the environment variable TOKENIZERS_PARALLELISM=(true | false)\n",
      "Validation Epoch 43/100: 100%|██████████| 10/10 [00:01<00:00,  5.05it/s, loss=0.2785, acc=1.0000]\n"
     ]
    },
    {
     "name": "stdout",
     "output_type": "stream",
     "text": [
      "\n",
      "Prediction Distribution: {0: 157, 1: 133}\n",
      "\n",
      "Confusion Matrix:\n",
      "[[80 53]\n",
      " [77 80]]\n",
      "\n",
      "Validation Metrics:\n",
      "Loss: 0.6942\n",
      "Accuracy: 0.5517\n",
      "Precision: 0.6015\n",
      "Recall: 0.5096\n",
      "F1: 0.5517\n",
      "Auc: 0.5551\n",
      "\n",
      "Epoch 44/100\n"
     ]
    },
    {
     "name": "stderr",
     "output_type": "stream",
     "text": [
      "Training Epoch 44/100:   0%|          | 0/42 [00:00<?, ?it/s]huggingface/tokenizers: The current process just got forked, after parallelism has already been used. Disabling parallelism to avoid deadlocks...\n",
      "To disable this warning, you can either:\n",
      "\t- Avoid using `tokenizers` before the fork if possible\n",
      "\t- Explicitly set the environment variable TOKENIZERS_PARALLELISM=(true | false)\n",
      "huggingface/tokenizers: The current process just got forked, after parallelism has already been used. Disabling parallelism to avoid deadlocks...\n",
      "To disable this warning, you can either:\n",
      "\t- Avoid using `tokenizers` before the fork if possible\n",
      "\t- Explicitly set the environment variable TOKENIZERS_PARALLELISM=(true | false)\n",
      "Training Epoch 44/100: 100%|██████████| 42/42 [00:20<00:00,  2.09it/s, loss=0.5760, acc=0.7812, lr=0.00000622]\n"
     ]
    },
    {
     "name": "stdout",
     "output_type": "stream",
     "text": [
      "\n",
      "Training Metrics:\n",
      "Loss: 0.6465\n",
      "Accuracy: 0.6317\n",
      "Precision: 0.6147\n",
      "Recall: 0.6327\n",
      "F1: 0.6236\n"
     ]
    },
    {
     "name": "stderr",
     "output_type": "stream",
     "text": [
      "Validation Epoch 44/100:   0%|          | 0/10 [00:00<?, ?it/s]huggingface/tokenizers: The current process just got forked, after parallelism has already been used. Disabling parallelism to avoid deadlocks...\n",
      "To disable this warning, you can either:\n",
      "\t- Avoid using `tokenizers` before the fork if possible\n",
      "\t- Explicitly set the environment variable TOKENIZERS_PARALLELISM=(true | false)\n",
      "huggingface/tokenizers: The current process just got forked, after parallelism has already been used. Disabling parallelism to avoid deadlocks...\n",
      "To disable this warning, you can either:\n",
      "\t- Avoid using `tokenizers` before the fork if possible\n",
      "\t- Explicitly set the environment variable TOKENIZERS_PARALLELISM=(true | false)\n",
      "Validation Epoch 44/100: 100%|██████████| 10/10 [00:01<00:00,  5.05it/s, loss=0.4467, acc=1.0000]\n"
     ]
    },
    {
     "name": "stdout",
     "output_type": "stream",
     "text": [
      "\n",
      "Prediction Distribution: {0: 222, 1: 68}\n",
      "\n",
      "Confusion Matrix:\n",
      "[[103  30]\n",
      " [119  38]]\n",
      "\n",
      "Validation Metrics:\n",
      "Loss: 0.7441\n",
      "Accuracy: 0.4862\n",
      "Precision: 0.5588\n",
      "Recall: 0.2420\n",
      "F1: 0.3378\n",
      "Auc: 0.5548\n",
      "\n",
      "Epoch 45/100\n"
     ]
    },
    {
     "name": "stderr",
     "output_type": "stream",
     "text": [
      "Training Epoch 45/100:   0%|          | 0/42 [00:00<?, ?it/s]huggingface/tokenizers: The current process just got forked, after parallelism has already been used. Disabling parallelism to avoid deadlocks...\n",
      "To disable this warning, you can either:\n",
      "\t- Avoid using `tokenizers` before the fork if possible\n",
      "\t- Explicitly set the environment variable TOKENIZERS_PARALLELISM=(true | false)\n",
      "huggingface/tokenizers: The current process just got forked, after parallelism has already been used. Disabling parallelism to avoid deadlocks...\n",
      "To disable this warning, you can either:\n",
      "\t- Avoid using `tokenizers` before the fork if possible\n",
      "\t- Explicitly set the environment variable TOKENIZERS_PARALLELISM=(true | false)\n",
      "Training Epoch 45/100: 100%|██████████| 42/42 [00:20<00:00,  2.09it/s, loss=0.6774, acc=0.5625, lr=0.00000611]\n"
     ]
    },
    {
     "name": "stdout",
     "output_type": "stream",
     "text": [
      "\n",
      "Training Metrics:\n",
      "Loss: 0.6498\n",
      "Accuracy: 0.6176\n",
      "Precision: 0.6122\n",
      "Recall: 0.5573\n",
      "F1: 0.5835\n"
     ]
    },
    {
     "name": "stderr",
     "output_type": "stream",
     "text": [
      "Validation Epoch 45/100:   0%|          | 0/10 [00:00<?, ?it/s]huggingface/tokenizers: The current process just got forked, after parallelism has already been used. Disabling parallelism to avoid deadlocks...\n",
      "To disable this warning, you can either:\n",
      "\t- Avoid using `tokenizers` before the fork if possible\n",
      "\t- Explicitly set the environment variable TOKENIZERS_PARALLELISM=(true | false)\n",
      "huggingface/tokenizers: The current process just got forked, after parallelism has already been used. Disabling parallelism to avoid deadlocks...\n",
      "To disable this warning, you can either:\n",
      "\t- Avoid using `tokenizers` before the fork if possible\n",
      "\t- Explicitly set the environment variable TOKENIZERS_PARALLELISM=(true | false)\n",
      "Validation Epoch 45/100: 100%|██████████| 10/10 [00:01<00:00,  5.05it/s, loss=0.5581, acc=1.0000]\n"
     ]
    },
    {
     "name": "stdout",
     "output_type": "stream",
     "text": [
      "\n",
      "Prediction Distribution: {0: 227, 1: 63}\n",
      "\n",
      "Confusion Matrix:\n",
      "[[104  29]\n",
      " [123  34]]\n",
      "\n",
      "Validation Metrics:\n",
      "Loss: 0.7525\n",
      "Accuracy: 0.4759\n",
      "Precision: 0.5397\n",
      "Recall: 0.2166\n",
      "F1: 0.3091\n",
      "Auc: 0.5518\n",
      "\n",
      "Epoch 46/100\n"
     ]
    },
    {
     "name": "stderr",
     "output_type": "stream",
     "text": [
      "Training Epoch 46/100:   0%|          | 0/42 [00:00<?, ?it/s]huggingface/tokenizers: The current process just got forked, after parallelism has already been used. Disabling parallelism to avoid deadlocks...\n",
      "To disable this warning, you can either:\n",
      "\t- Avoid using `tokenizers` before the fork if possible\n",
      "\t- Explicitly set the environment variable TOKENIZERS_PARALLELISM=(true | false)\n",
      "huggingface/tokenizers: The current process just got forked, after parallelism has already been used. Disabling parallelism to avoid deadlocks...\n",
      "To disable this warning, you can either:\n",
      "\t- Avoid using `tokenizers` before the fork if possible\n",
      "\t- Explicitly set the environment variable TOKENIZERS_PARALLELISM=(true | false)\n",
      "Training Epoch 46/100: 100%|██████████| 42/42 [00:20<00:00,  2.08it/s, loss=0.6639, acc=0.5625, lr=0.00000600]\n"
     ]
    },
    {
     "name": "stdout",
     "output_type": "stream",
     "text": [
      "\n",
      "Training Metrics:\n",
      "Loss: 0.6481\n",
      "Accuracy: 0.6071\n",
      "Precision: 0.5876\n",
      "Recall: 0.6292\n",
      "F1: 0.6077\n"
     ]
    },
    {
     "name": "stderr",
     "output_type": "stream",
     "text": [
      "Validation Epoch 46/100:   0%|          | 0/10 [00:00<?, ?it/s]huggingface/tokenizers: The current process just got forked, after parallelism has already been used. Disabling parallelism to avoid deadlocks...\n",
      "To disable this warning, you can either:\n",
      "\t- Avoid using `tokenizers` before the fork if possible\n",
      "\t- Explicitly set the environment variable TOKENIZERS_PARALLELISM=(true | false)\n",
      "huggingface/tokenizers: The current process just got forked, after parallelism has already been used. Disabling parallelism to avoid deadlocks...\n",
      "To disable this warning, you can either:\n",
      "\t- Avoid using `tokenizers` before the fork if possible\n",
      "\t- Explicitly set the environment variable TOKENIZERS_PARALLELISM=(true | false)\n",
      "Validation Epoch 46/100: 100%|██████████| 10/10 [00:01<00:00,  5.05it/s, loss=0.5385, acc=1.0000]\n"
     ]
    },
    {
     "name": "stdout",
     "output_type": "stream",
     "text": [
      "\n",
      "Prediction Distribution: {0: 207, 1: 83}\n",
      "\n",
      "Confusion Matrix:\n",
      "[[ 96  37]\n",
      " [111  46]]\n",
      "\n",
      "Validation Metrics:\n",
      "Loss: 0.7230\n",
      "Accuracy: 0.4897\n",
      "Precision: 0.5542\n",
      "Recall: 0.2930\n",
      "F1: 0.3833\n",
      "Auc: 0.5540\n",
      "\n",
      "Epoch 47/100\n"
     ]
    },
    {
     "name": "stderr",
     "output_type": "stream",
     "text": [
      "Training Epoch 47/100:   0%|          | 0/42 [00:00<?, ?it/s]huggingface/tokenizers: The current process just got forked, after parallelism has already been used. Disabling parallelism to avoid deadlocks...\n",
      "To disable this warning, you can either:\n",
      "\t- Avoid using `tokenizers` before the fork if possible\n",
      "\t- Explicitly set the environment variable TOKENIZERS_PARALLELISM=(true | false)\n",
      "huggingface/tokenizers: The current process just got forked, after parallelism has already been used. Disabling parallelism to avoid deadlocks...\n",
      "To disable this warning, you can either:\n",
      "\t- Avoid using `tokenizers` before the fork if possible\n",
      "\t- Explicitly set the environment variable TOKENIZERS_PARALLELISM=(true | false)\n",
      "Training Epoch 47/100: 100%|██████████| 42/42 [00:20<00:00,  2.08it/s, loss=0.6395, acc=0.5938, lr=0.00000589]\n"
     ]
    },
    {
     "name": "stdout",
     "output_type": "stream",
     "text": [
      "\n",
      "Training Metrics:\n",
      "Loss: 0.6405\n",
      "Accuracy: 0.6354\n",
      "Precision: 0.6315\n",
      "Recall: 0.5827\n",
      "F1: 0.6061\n"
     ]
    },
    {
     "name": "stderr",
     "output_type": "stream",
     "text": [
      "Validation Epoch 47/100:   0%|          | 0/10 [00:00<?, ?it/s]huggingface/tokenizers: The current process just got forked, after parallelism has already been used. Disabling parallelism to avoid deadlocks...\n",
      "To disable this warning, you can either:\n",
      "\t- Avoid using `tokenizers` before the fork if possible\n",
      "\t- Explicitly set the environment variable TOKENIZERS_PARALLELISM=(true | false)\n",
      "huggingface/tokenizers: The current process just got forked, after parallelism has already been used. Disabling parallelism to avoid deadlocks...\n",
      "To disable this warning, you can either:\n",
      "\t- Avoid using `tokenizers` before the fork if possible\n",
      "\t- Explicitly set the environment variable TOKENIZERS_PARALLELISM=(true | false)\n",
      "Validation Epoch 47/100: 100%|██████████| 10/10 [00:01<00:00,  5.03it/s, loss=0.5111, acc=1.0000]\n"
     ]
    },
    {
     "name": "stdout",
     "output_type": "stream",
     "text": [
      "\n",
      "Prediction Distribution: {0: 210, 1: 80}\n",
      "\n",
      "Confusion Matrix:\n",
      "[[ 97  36]\n",
      " [113  44]]\n",
      "\n",
      "Validation Metrics:\n",
      "Loss: 0.7428\n",
      "Accuracy: 0.4862\n",
      "Precision: 0.5500\n",
      "Recall: 0.2803\n",
      "F1: 0.3713\n",
      "Auc: 0.5538\n",
      "\n",
      "Epoch 48/100\n"
     ]
    },
    {
     "name": "stderr",
     "output_type": "stream",
     "text": [
      "Training Epoch 48/100:   0%|          | 0/42 [00:00<?, ?it/s]huggingface/tokenizers: The current process just got forked, after parallelism has already been used. Disabling parallelism to avoid deadlocks...\n",
      "To disable this warning, you can either:\n",
      "\t- Avoid using `tokenizers` before the fork if possible\n",
      "\t- Explicitly set the environment variable TOKENIZERS_PARALLELISM=(true | false)\n",
      "huggingface/tokenizers: The current process just got forked, after parallelism has already been used. Disabling parallelism to avoid deadlocks...\n",
      "To disable this warning, you can either:\n",
      "\t- Avoid using `tokenizers` before the fork if possible\n",
      "\t- Explicitly set the environment variable TOKENIZERS_PARALLELISM=(true | false)\n",
      "Training Epoch 48/100: 100%|██████████| 42/42 [00:20<00:00,  2.08it/s, loss=0.6773, acc=0.4688, lr=0.00000578]\n"
     ]
    },
    {
     "name": "stdout",
     "output_type": "stream",
     "text": [
      "\n",
      "Training Metrics:\n",
      "Loss: 0.6433\n",
      "Accuracy: 0.6213\n",
      "Precision: 0.6118\n",
      "Recall: 0.5901\n",
      "F1: 0.6008\n"
     ]
    },
    {
     "name": "stderr",
     "output_type": "stream",
     "text": [
      "Validation Epoch 48/100:   0%|          | 0/10 [00:00<?, ?it/s]huggingface/tokenizers: The current process just got forked, after parallelism has already been used. Disabling parallelism to avoid deadlocks...\n",
      "To disable this warning, you can either:\n",
      "\t- Avoid using `tokenizers` before the fork if possible\n",
      "\t- Explicitly set the environment variable TOKENIZERS_PARALLELISM=(true | false)\n",
      "huggingface/tokenizers: The current process just got forked, after parallelism has already been used. Disabling parallelism to avoid deadlocks...\n",
      "To disable this warning, you can either:\n",
      "\t- Avoid using `tokenizers` before the fork if possible\n",
      "\t- Explicitly set the environment variable TOKENIZERS_PARALLELISM=(true | false)\n",
      "Validation Epoch 48/100: 100%|██████████| 10/10 [00:01<00:00,  5.06it/s, loss=0.4433, acc=1.0000]\n"
     ]
    },
    {
     "name": "stdout",
     "output_type": "stream",
     "text": [
      "\n",
      "Prediction Distribution: {0: 193, 1: 97}\n",
      "\n",
      "Confusion Matrix:\n",
      "[[ 90  43]\n",
      " [103  54]]\n",
      "\n",
      "Validation Metrics:\n",
      "Loss: 0.7176\n",
      "Accuracy: 0.4966\n",
      "Precision: 0.5567\n",
      "Recall: 0.3439\n",
      "F1: 0.4252\n",
      "Auc: 0.5513\n",
      "\n",
      "Epoch 49/100\n"
     ]
    },
    {
     "name": "stderr",
     "output_type": "stream",
     "text": [
      "Training Epoch 49/100:   0%|          | 0/42 [00:00<?, ?it/s]huggingface/tokenizers: The current process just got forked, after parallelism has already been used. Disabling parallelism to avoid deadlocks...\n",
      "To disable this warning, you can either:\n",
      "\t- Avoid using `tokenizers` before the fork if possible\n",
      "\t- Explicitly set the environment variable TOKENIZERS_PARALLELISM=(true | false)\n",
      "huggingface/tokenizers: The current process just got forked, after parallelism has already been used. Disabling parallelism to avoid deadlocks...\n",
      "To disable this warning, you can either:\n",
      "\t- Avoid using `tokenizers` before the fork if possible\n",
      "\t- Explicitly set the environment variable TOKENIZERS_PARALLELISM=(true | false)\n",
      "Training Epoch 49/100: 100%|██████████| 42/42 [00:20<00:00,  2.09it/s, loss=0.6152, acc=0.6250, lr=0.00000567]\n"
     ]
    },
    {
     "name": "stdout",
     "output_type": "stream",
     "text": [
      "\n",
      "Training Metrics:\n",
      "Loss: 0.6401\n",
      "Accuracy: 0.6310\n",
      "Precision: 0.6176\n",
      "Recall: 0.6157\n",
      "F1: 0.6167\n"
     ]
    },
    {
     "name": "stderr",
     "output_type": "stream",
     "text": [
      "Validation Epoch 49/100:   0%|          | 0/10 [00:00<?, ?it/s]huggingface/tokenizers: The current process just got forked, after parallelism has already been used. Disabling parallelism to avoid deadlocks...\n",
      "To disable this warning, you can either:\n",
      "\t- Avoid using `tokenizers` before the fork if possible\n",
      "\t- Explicitly set the environment variable TOKENIZERS_PARALLELISM=(true | false)\n",
      "huggingface/tokenizers: The current process just got forked, after parallelism has already been used. Disabling parallelism to avoid deadlocks...\n",
      "To disable this warning, you can either:\n",
      "\t- Avoid using `tokenizers` before the fork if possible\n",
      "\t- Explicitly set the environment variable TOKENIZERS_PARALLELISM=(true | false)\n",
      "Validation Epoch 49/100: 100%|██████████| 10/10 [00:01<00:00,  5.05it/s, loss=0.4820, acc=1.0000]\n"
     ]
    },
    {
     "name": "stdout",
     "output_type": "stream",
     "text": [
      "\n",
      "Prediction Distribution: {0: 221, 1: 69}\n",
      "\n",
      "Confusion Matrix:\n",
      "[[100  33]\n",
      " [121  36]]\n",
      "\n",
      "Validation Metrics:\n",
      "Loss: 0.7585\n",
      "Accuracy: 0.4690\n",
      "Precision: 0.5217\n",
      "Recall: 0.2293\n",
      "F1: 0.3186\n",
      "Auc: 0.5485\n",
      "\n",
      "Epoch 50/100\n"
     ]
    },
    {
     "name": "stderr",
     "output_type": "stream",
     "text": [
      "Training Epoch 50/100:   0%|          | 0/42 [00:00<?, ?it/s]huggingface/tokenizers: The current process just got forked, after parallelism has already been used. Disabling parallelism to avoid deadlocks...\n",
      "To disable this warning, you can either:\n",
      "\t- Avoid using `tokenizers` before the fork if possible\n",
      "\t- Explicitly set the environment variable TOKENIZERS_PARALLELISM=(true | false)\n",
      "huggingface/tokenizers: The current process just got forked, after parallelism has already been used. Disabling parallelism to avoid deadlocks...\n",
      "To disable this warning, you can either:\n",
      "\t- Avoid using `tokenizers` before the fork if possible\n",
      "\t- Explicitly set the environment variable TOKENIZERS_PARALLELISM=(true | false)\n",
      "Training Epoch 50/100: 100%|██████████| 42/42 [00:20<00:00,  2.09it/s, loss=0.7632, acc=0.5625, lr=0.00000556]\n"
     ]
    },
    {
     "name": "stdout",
     "output_type": "stream",
     "text": [
      "\n",
      "Training Metrics:\n",
      "Loss: 0.6448\n",
      "Accuracy: 0.6354\n",
      "Precision: 0.6234\n",
      "Recall: 0.6157\n",
      "F1: 0.6196\n"
     ]
    },
    {
     "name": "stderr",
     "output_type": "stream",
     "text": [
      "Validation Epoch 50/100:   0%|          | 0/10 [00:00<?, ?it/s]huggingface/tokenizers: The current process just got forked, after parallelism has already been used. Disabling parallelism to avoid deadlocks...\n",
      "To disable this warning, you can either:\n",
      "\t- Avoid using `tokenizers` before the fork if possible\n",
      "\t- Explicitly set the environment variable TOKENIZERS_PARALLELISM=(true | false)\n",
      "huggingface/tokenizers: The current process just got forked, after parallelism has already been used. Disabling parallelism to avoid deadlocks...\n",
      "To disable this warning, you can either:\n",
      "\t- Avoid using `tokenizers` before the fork if possible\n",
      "\t- Explicitly set the environment variable TOKENIZERS_PARALLELISM=(true | false)\n",
      "Validation Epoch 50/100: 100%|██████████| 10/10 [00:01<00:00,  5.05it/s, loss=0.6677, acc=1.0000]\n"
     ]
    },
    {
     "name": "stdout",
     "output_type": "stream",
     "text": [
      "\n",
      "Prediction Distribution: {0: 237, 1: 53}\n",
      "\n",
      "Confusion Matrix:\n",
      "[[109  24]\n",
      " [128  29]]\n",
      "\n",
      "Validation Metrics:\n",
      "Loss: 0.7891\n",
      "Accuracy: 0.4759\n",
      "Precision: 0.5472\n",
      "Recall: 0.1847\n",
      "F1: 0.2762\n",
      "Auc: 0.5467\n",
      "\n",
      "Epoch 51/100\n"
     ]
    },
    {
     "name": "stderr",
     "output_type": "stream",
     "text": [
      "Training Epoch 51/100:   0%|          | 0/42 [00:00<?, ?it/s]huggingface/tokenizers: The current process just got forked, after parallelism has already been used. Disabling parallelism to avoid deadlocks...\n",
      "To disable this warning, you can either:\n",
      "\t- Avoid using `tokenizers` before the fork if possible\n",
      "\t- Explicitly set the environment variable TOKENIZERS_PARALLELISM=(true | false)\n",
      "huggingface/tokenizers: The current process just got forked, after parallelism has already been used. Disabling parallelism to avoid deadlocks...\n",
      "To disable this warning, you can either:\n",
      "\t- Avoid using `tokenizers` before the fork if possible\n",
      "\t- Explicitly set the environment variable TOKENIZERS_PARALLELISM=(true | false)\n",
      "Training Epoch 51/100: 100%|██████████| 42/42 [00:20<00:00,  2.08it/s, loss=0.5987, acc=0.6562, lr=0.00000544]\n"
     ]
    },
    {
     "name": "stdout",
     "output_type": "stream",
     "text": [
      "\n",
      "Training Metrics:\n",
      "Loss: 0.6347\n",
      "Accuracy: 0.6376\n",
      "Precision: 0.6233\n",
      "Recall: 0.6281\n",
      "F1: 0.6257\n"
     ]
    },
    {
     "name": "stderr",
     "output_type": "stream",
     "text": [
      "Validation Epoch 51/100:   0%|          | 0/10 [00:00<?, ?it/s]huggingface/tokenizers: The current process just got forked, after parallelism has already been used. Disabling parallelism to avoid deadlocks...\n",
      "To disable this warning, you can either:\n",
      "\t- Avoid using `tokenizers` before the fork if possible\n",
      "\t- Explicitly set the environment variable TOKENIZERS_PARALLELISM=(true | false)\n",
      "huggingface/tokenizers: The current process just got forked, after parallelism has already been used. Disabling parallelism to avoid deadlocks...\n",
      "To disable this warning, you can either:\n",
      "\t- Avoid using `tokenizers` before the fork if possible\n",
      "\t- Explicitly set the environment variable TOKENIZERS_PARALLELISM=(true | false)\n",
      "Validation Epoch 51/100: 100%|██████████| 10/10 [00:01<00:00,  5.05it/s, loss=0.6965, acc=0.5000]\n"
     ]
    },
    {
     "name": "stdout",
     "output_type": "stream",
     "text": [
      "\n",
      "Prediction Distribution: {0: 242, 1: 48}\n",
      "\n",
      "Confusion Matrix:\n",
      "[[111  22]\n",
      " [131  26]]\n",
      "\n",
      "Validation Metrics:\n",
      "Loss: 0.8020\n",
      "Accuracy: 0.4724\n",
      "Precision: 0.5417\n",
      "Recall: 0.1656\n",
      "F1: 0.2537\n",
      "Auc: 0.5471\n",
      "\n",
      "Epoch 52/100\n"
     ]
    },
    {
     "name": "stderr",
     "output_type": "stream",
     "text": [
      "Training Epoch 52/100:   0%|          | 0/42 [00:00<?, ?it/s]huggingface/tokenizers: The current process just got forked, after parallelism has already been used. Disabling parallelism to avoid deadlocks...\n",
      "To disable this warning, you can either:\n",
      "\t- Avoid using `tokenizers` before the fork if possible\n",
      "\t- Explicitly set the environment variable TOKENIZERS_PARALLELISM=(true | false)\n",
      "huggingface/tokenizers: The current process just got forked, after parallelism has already been used. Disabling parallelism to avoid deadlocks...\n",
      "To disable this warning, you can either:\n",
      "\t- Avoid using `tokenizers` before the fork if possible\n",
      "\t- Explicitly set the environment variable TOKENIZERS_PARALLELISM=(true | false)\n",
      "Training Epoch 52/100: 100%|██████████| 42/42 [00:20<00:00,  2.09it/s, loss=0.5773, acc=0.7500, lr=0.00000533]\n"
     ]
    },
    {
     "name": "stdout",
     "output_type": "stream",
     "text": [
      "\n",
      "Training Metrics:\n",
      "Loss: 0.6319\n",
      "Accuracy: 0.6369\n",
      "Precision: 0.6306\n",
      "Recall: 0.6015\n",
      "F1: 0.6157\n"
     ]
    },
    {
     "name": "stderr",
     "output_type": "stream",
     "text": [
      "Validation Epoch 52/100:   0%|          | 0/10 [00:00<?, ?it/s]huggingface/tokenizers: The current process just got forked, after parallelism has already been used. Disabling parallelism to avoid deadlocks...\n",
      "To disable this warning, you can either:\n",
      "\t- Avoid using `tokenizers` before the fork if possible\n",
      "\t- Explicitly set the environment variable TOKENIZERS_PARALLELISM=(true | false)\n",
      "huggingface/tokenizers: The current process just got forked, after parallelism has already been used. Disabling parallelism to avoid deadlocks...\n",
      "To disable this warning, you can either:\n",
      "\t- Avoid using `tokenizers` before the fork if possible\n",
      "\t- Explicitly set the environment variable TOKENIZERS_PARALLELISM=(true | false)\n",
      "Validation Epoch 52/100: 100%|██████████| 10/10 [00:01<00:00,  5.05it/s, loss=0.5498, acc=1.0000]\n"
     ]
    },
    {
     "name": "stdout",
     "output_type": "stream",
     "text": [
      "\n",
      "Prediction Distribution: {0: 224, 1: 66}\n",
      "\n",
      "Confusion Matrix:\n",
      "[[102  31]\n",
      " [122  35]]\n",
      "\n",
      "Validation Metrics:\n",
      "Loss: 0.7731\n",
      "Accuracy: 0.4724\n",
      "Precision: 0.5303\n",
      "Recall: 0.2229\n",
      "F1: 0.3139\n",
      "Auc: 0.5471\n",
      "\n",
      "Epoch 53/100\n"
     ]
    },
    {
     "name": "stderr",
     "output_type": "stream",
     "text": [
      "Training Epoch 53/100:   0%|          | 0/42 [00:00<?, ?it/s]huggingface/tokenizers: The current process just got forked, after parallelism has already been used. Disabling parallelism to avoid deadlocks...\n",
      "To disable this warning, you can either:\n",
      "\t- Avoid using `tokenizers` before the fork if possible\n",
      "\t- Explicitly set the environment variable TOKENIZERS_PARALLELISM=(true | false)\n",
      "huggingface/tokenizers: The current process just got forked, after parallelism has already been used. Disabling parallelism to avoid deadlocks...\n",
      "To disable this warning, you can either:\n",
      "\t- Avoid using `tokenizers` before the fork if possible\n",
      "\t- Explicitly set the environment variable TOKENIZERS_PARALLELISM=(true | false)\n",
      "Training Epoch 53/100: 100%|██████████| 42/42 [00:20<00:00,  2.08it/s, loss=0.5661, acc=0.6562, lr=0.00000522]\n"
     ]
    },
    {
     "name": "stdout",
     "output_type": "stream",
     "text": [
      "\n",
      "Training Metrics:\n",
      "Loss: 0.6456\n",
      "Accuracy: 0.6205\n",
      "Precision: 0.6139\n",
      "Recall: 0.5741\n",
      "F1: 0.5933\n"
     ]
    },
    {
     "name": "stderr",
     "output_type": "stream",
     "text": [
      "Validation Epoch 53/100:   0%|          | 0/10 [00:00<?, ?it/s]huggingface/tokenizers: The current process just got forked, after parallelism has already been used. Disabling parallelism to avoid deadlocks...\n",
      "To disable this warning, you can either:\n",
      "\t- Avoid using `tokenizers` before the fork if possible\n",
      "\t- Explicitly set the environment variable TOKENIZERS_PARALLELISM=(true | false)\n",
      "huggingface/tokenizers: The current process just got forked, after parallelism has already been used. Disabling parallelism to avoid deadlocks...\n",
      "To disable this warning, you can either:\n",
      "\t- Avoid using `tokenizers` before the fork if possible\n",
      "\t- Explicitly set the environment variable TOKENIZERS_PARALLELISM=(true | false)\n",
      "Validation Epoch 53/100: 100%|██████████| 10/10 [00:01<00:00,  5.05it/s, loss=0.3008, acc=1.0000]\n"
     ]
    },
    {
     "name": "stdout",
     "output_type": "stream",
     "text": [
      "\n",
      "Prediction Distribution: {0: 118, 1: 172}\n",
      "\n",
      "Confusion Matrix:\n",
      "[[ 64  69]\n",
      " [ 54 103]]\n",
      "\n",
      "Validation Metrics:\n",
      "Loss: 0.6938\n",
      "Accuracy: 0.5759\n",
      "Precision: 0.5988\n",
      "Recall: 0.6561\n",
      "F1: 0.6261\n",
      "Auc: 0.5457\n",
      "\n",
      "Epoch 54/100\n"
     ]
    },
    {
     "name": "stderr",
     "output_type": "stream",
     "text": [
      "Training Epoch 54/100:   0%|          | 0/42 [00:00<?, ?it/s]huggingface/tokenizers: The current process just got forked, after parallelism has already been used. Disabling parallelism to avoid deadlocks...\n",
      "To disable this warning, you can either:\n",
      "\t- Avoid using `tokenizers` before the fork if possible\n",
      "\t- Explicitly set the environment variable TOKENIZERS_PARALLELISM=(true | false)\n",
      "huggingface/tokenizers: The current process just got forked, after parallelism has already been used. Disabling parallelism to avoid deadlocks...\n",
      "To disable this warning, you can either:\n",
      "\t- Avoid using `tokenizers` before the fork if possible\n",
      "\t- Explicitly set the environment variable TOKENIZERS_PARALLELISM=(true | false)\n",
      "Training Epoch 54/100: 100%|██████████| 42/42 [00:20<00:00,  2.08it/s, loss=0.6800, acc=0.6250, lr=0.00000511]\n"
     ]
    },
    {
     "name": "stdout",
     "output_type": "stream",
     "text": [
      "\n",
      "Training Metrics:\n",
      "Loss: 0.6391\n",
      "Accuracy: 0.6310\n",
      "Precision: 0.6232\n",
      "Recall: 0.6022\n",
      "F1: 0.6125\n"
     ]
    },
    {
     "name": "stderr",
     "output_type": "stream",
     "text": [
      "Validation Epoch 54/100:   0%|          | 0/10 [00:00<?, ?it/s]huggingface/tokenizers: The current process just got forked, after parallelism has already been used. Disabling parallelism to avoid deadlocks...\n",
      "To disable this warning, you can either:\n",
      "\t- Avoid using `tokenizers` before the fork if possible\n",
      "\t- Explicitly set the environment variable TOKENIZERS_PARALLELISM=(true | false)\n",
      "huggingface/tokenizers: The current process just got forked, after parallelism has already been used. Disabling parallelism to avoid deadlocks...\n",
      "To disable this warning, you can either:\n",
      "\t- Avoid using `tokenizers` before the fork if possible\n",
      "\t- Explicitly set the environment variable TOKENIZERS_PARALLELISM=(true | false)\n",
      "Validation Epoch 54/100: 100%|██████████| 10/10 [00:01<00:00,  5.04it/s, loss=0.3203, acc=1.0000]\n"
     ]
    },
    {
     "name": "stdout",
     "output_type": "stream",
     "text": [
      "\n",
      "Prediction Distribution: {0: 137, 1: 153}\n",
      "\n",
      "Confusion Matrix:\n",
      "[[72 61]\n",
      " [65 92]]\n",
      "\n",
      "Validation Metrics:\n",
      "Loss: 0.7104\n",
      "Accuracy: 0.5655\n",
      "Precision: 0.6013\n",
      "Recall: 0.5860\n",
      "F1: 0.5935\n",
      "Auc: 0.5465\n",
      "\n",
      "Epoch 55/100\n"
     ]
    },
    {
     "name": "stderr",
     "output_type": "stream",
     "text": [
      "Training Epoch 55/100:   0%|          | 0/42 [00:00<?, ?it/s]huggingface/tokenizers: The current process just got forked, after parallelism has already been used. Disabling parallelism to avoid deadlocks...\n",
      "To disable this warning, you can either:\n",
      "\t- Avoid using `tokenizers` before the fork if possible\n",
      "\t- Explicitly set the environment variable TOKENIZERS_PARALLELISM=(true | false)\n",
      "huggingface/tokenizers: The current process just got forked, after parallelism has already been used. Disabling parallelism to avoid deadlocks...\n",
      "To disable this warning, you can either:\n",
      "\t- Avoid using `tokenizers` before the fork if possible\n",
      "\t- Explicitly set the environment variable TOKENIZERS_PARALLELISM=(true | false)\n",
      "Training Epoch 55/100: 100%|██████████| 42/42 [00:22<00:00,  1.88it/s, loss=0.6287, acc=0.5938, lr=0.00000500]\n"
     ]
    },
    {
     "name": "stdout",
     "output_type": "stream",
     "text": [
      "\n",
      "Training Metrics:\n",
      "Loss: 0.6372\n",
      "Accuracy: 0.6295\n",
      "Precision: 0.6244\n",
      "Recall: 0.5899\n",
      "F1: 0.6066\n"
     ]
    },
    {
     "name": "stderr",
     "output_type": "stream",
     "text": [
      "Validation Epoch 55/100:   0%|          | 0/10 [00:00<?, ?it/s]huggingface/tokenizers: The current process just got forked, after parallelism has already been used. Disabling parallelism to avoid deadlocks...\n",
      "To disable this warning, you can either:\n",
      "\t- Avoid using `tokenizers` before the fork if possible\n",
      "\t- Explicitly set the environment variable TOKENIZERS_PARALLELISM=(true | false)\n",
      "huggingface/tokenizers: The current process just got forked, after parallelism has already been used. Disabling parallelism to avoid deadlocks...\n",
      "To disable this warning, you can either:\n",
      "\t- Avoid using `tokenizers` before the fork if possible\n",
      "\t- Explicitly set the environment variable TOKENIZERS_PARALLELISM=(true | false)\n",
      "Validation Epoch 55/100: 100%|██████████| 10/10 [00:02<00:00,  4.03it/s, loss=0.5566, acc=1.0000]\n"
     ]
    },
    {
     "name": "stdout",
     "output_type": "stream",
     "text": [
      "\n",
      "Prediction Distribution: {0: 197, 1: 93}\n",
      "\n",
      "Confusion Matrix:\n",
      "[[ 92  41]\n",
      " [105  52]]\n",
      "\n",
      "Validation Metrics:\n",
      "Loss: 0.7593\n",
      "Accuracy: 0.4966\n",
      "Precision: 0.5591\n",
      "Recall: 0.3312\n",
      "F1: 0.4160\n",
      "Auc: 0.5453\n",
      "\n",
      "Epoch 56/100\n"
     ]
    },
    {
     "name": "stderr",
     "output_type": "stream",
     "text": [
      "Training Epoch 56/100:   0%|          | 0/42 [00:00<?, ?it/s]huggingface/tokenizers: The current process just got forked, after parallelism has already been used. Disabling parallelism to avoid deadlocks...\n",
      "To disable this warning, you can either:\n",
      "\t- Avoid using `tokenizers` before the fork if possible\n",
      "\t- Explicitly set the environment variable TOKENIZERS_PARALLELISM=(true | false)\n",
      "huggingface/tokenizers: The current process just got forked, after parallelism has already been used. Disabling parallelism to avoid deadlocks...\n",
      "To disable this warning, you can either:\n",
      "\t- Avoid using `tokenizers` before the fork if possible\n",
      "\t- Explicitly set the environment variable TOKENIZERS_PARALLELISM=(true | false)\n",
      "Training Epoch 56/100: 100%|██████████| 42/42 [00:25<00:00,  1.67it/s, loss=0.5378, acc=0.7812, lr=0.00000489]\n"
     ]
    },
    {
     "name": "stdout",
     "output_type": "stream",
     "text": [
      "\n",
      "Training Metrics:\n",
      "Loss: 0.6413\n",
      "Accuracy: 0.6190\n",
      "Precision: 0.5969\n",
      "Recall: 0.6502\n",
      "F1: 0.6224\n"
     ]
    },
    {
     "name": "stderr",
     "output_type": "stream",
     "text": [
      "Validation Epoch 56/100:   0%|          | 0/10 [00:00<?, ?it/s]huggingface/tokenizers: The current process just got forked, after parallelism has already been used. Disabling parallelism to avoid deadlocks...\n",
      "To disable this warning, you can either:\n",
      "\t- Avoid using `tokenizers` before the fork if possible\n",
      "\t- Explicitly set the environment variable TOKENIZERS_PARALLELISM=(true | false)\n",
      "huggingface/tokenizers: The current process just got forked, after parallelism has already been used. Disabling parallelism to avoid deadlocks...\n",
      "To disable this warning, you can either:\n",
      "\t- Avoid using `tokenizers` before the fork if possible\n",
      "\t- Explicitly set the environment variable TOKENIZERS_PARALLELISM=(true | false)\n",
      "Validation Epoch 56/100: 100%|██████████| 10/10 [00:02<00:00,  4.04it/s, loss=0.5832, acc=1.0000]\n"
     ]
    },
    {
     "name": "stdout",
     "output_type": "stream",
     "text": [
      "\n",
      "Prediction Distribution: {0: 181, 1: 109}\n",
      "\n",
      "Confusion Matrix:\n",
      "[[91 42]\n",
      " [90 67]]\n",
      "\n",
      "Validation Metrics:\n",
      "Loss: 0.7405\n",
      "Accuracy: 0.5448\n",
      "Precision: 0.6147\n",
      "Recall: 0.4268\n",
      "F1: 0.5038\n",
      "Auc: 0.5446\n",
      "\n",
      "Epoch 57/100\n"
     ]
    },
    {
     "name": "stderr",
     "output_type": "stream",
     "text": [
      "Training Epoch 57/100:   0%|          | 0/42 [00:00<?, ?it/s]huggingface/tokenizers: The current process just got forked, after parallelism has already been used. Disabling parallelism to avoid deadlocks...\n",
      "To disable this warning, you can either:\n",
      "\t- Avoid using `tokenizers` before the fork if possible\n",
      "\t- Explicitly set the environment variable TOKENIZERS_PARALLELISM=(true | false)\n",
      "huggingface/tokenizers: The current process just got forked, after parallelism has already been used. Disabling parallelism to avoid deadlocks...\n",
      "To disable this warning, you can either:\n",
      "\t- Avoid using `tokenizers` before the fork if possible\n",
      "\t- Explicitly set the environment variable TOKENIZERS_PARALLELISM=(true | false)\n",
      "Training Epoch 57/100: 100%|██████████| 42/42 [00:25<00:00,  1.67it/s, loss=0.6229, acc=0.6562, lr=0.00000478]\n"
     ]
    },
    {
     "name": "stdout",
     "output_type": "stream",
     "text": [
      "\n",
      "Training Metrics:\n",
      "Loss: 0.6292\n",
      "Accuracy: 0.6406\n",
      "Precision: 0.6440\n",
      "Recall: 0.5694\n",
      "F1: 0.6044\n"
     ]
    },
    {
     "name": "stderr",
     "output_type": "stream",
     "text": [
      "Validation Epoch 57/100:   0%|          | 0/10 [00:00<?, ?it/s]huggingface/tokenizers: The current process just got forked, after parallelism has already been used. Disabling parallelism to avoid deadlocks...\n",
      "To disable this warning, you can either:\n",
      "\t- Avoid using `tokenizers` before the fork if possible\n",
      "\t- Explicitly set the environment variable TOKENIZERS_PARALLELISM=(true | false)\n",
      "huggingface/tokenizers: The current process just got forked, after parallelism has already been used. Disabling parallelism to avoid deadlocks...\n",
      "To disable this warning, you can either:\n",
      "\t- Avoid using `tokenizers` before the fork if possible\n",
      "\t- Explicitly set the environment variable TOKENIZERS_PARALLELISM=(true | false)\n",
      "Validation Epoch 57/100: 100%|██████████| 10/10 [00:02<00:00,  4.05it/s, loss=0.4342, acc=1.0000]\n"
     ]
    },
    {
     "name": "stdout",
     "output_type": "stream",
     "text": [
      "\n",
      "Prediction Distribution: {0: 169, 1: 121}\n",
      "\n",
      "Confusion Matrix:\n",
      "[[84 49]\n",
      " [85 72]]\n",
      "\n",
      "Validation Metrics:\n",
      "Loss: 0.7569\n",
      "Accuracy: 0.5379\n",
      "Precision: 0.5950\n",
      "Recall: 0.4586\n",
      "F1: 0.5180\n",
      "Auc: 0.5437\n",
      "\n",
      "Epoch 58/100\n"
     ]
    },
    {
     "name": "stderr",
     "output_type": "stream",
     "text": [
      "Training Epoch 58/100:   0%|          | 0/42 [00:00<?, ?it/s]huggingface/tokenizers: The current process just got forked, after parallelism has already been used. Disabling parallelism to avoid deadlocks...\n",
      "To disable this warning, you can either:\n",
      "\t- Avoid using `tokenizers` before the fork if possible\n",
      "\t- Explicitly set the environment variable TOKENIZERS_PARALLELISM=(true | false)\n",
      "huggingface/tokenizers: The current process just got forked, after parallelism has already been used. Disabling parallelism to avoid deadlocks...\n",
      "To disable this warning, you can either:\n",
      "\t- Avoid using `tokenizers` before the fork if possible\n",
      "\t- Explicitly set the environment variable TOKENIZERS_PARALLELISM=(true | false)\n",
      "Training Epoch 58/100: 100%|██████████| 42/42 [00:25<00:00,  1.67it/s, loss=0.7336, acc=0.5938, lr=0.00000467]\n"
     ]
    },
    {
     "name": "stdout",
     "output_type": "stream",
     "text": [
      "\n",
      "Training Metrics:\n",
      "Loss: 0.6378\n",
      "Accuracy: 0.6466\n",
      "Precision: 0.6357\n",
      "Recall: 0.6308\n",
      "F1: 0.6332\n"
     ]
    },
    {
     "name": "stderr",
     "output_type": "stream",
     "text": [
      "Validation Epoch 58/100:   0%|          | 0/10 [00:00<?, ?it/s]huggingface/tokenizers: The current process just got forked, after parallelism has already been used. Disabling parallelism to avoid deadlocks...\n",
      "To disable this warning, you can either:\n",
      "\t- Avoid using `tokenizers` before the fork if possible\n",
      "\t- Explicitly set the environment variable TOKENIZERS_PARALLELISM=(true | false)\n",
      "huggingface/tokenizers: The current process just got forked, after parallelism has already been used. Disabling parallelism to avoid deadlocks...\n",
      "To disable this warning, you can either:\n",
      "\t- Avoid using `tokenizers` before the fork if possible\n",
      "\t- Explicitly set the environment variable TOKENIZERS_PARALLELISM=(true | false)\n",
      "Validation Epoch 58/100: 100%|██████████| 10/10 [00:02<00:00,  4.05it/s, loss=0.4517, acc=1.0000]\n"
     ]
    },
    {
     "name": "stdout",
     "output_type": "stream",
     "text": [
      "\n",
      "Prediction Distribution: {0: 160, 1: 130}\n",
      "\n",
      "Confusion Matrix:\n",
      "[[81 52]\n",
      " [79 78]]\n",
      "\n",
      "Validation Metrics:\n",
      "Loss: 0.7372\n",
      "Accuracy: 0.5483\n",
      "Precision: 0.6000\n",
      "Recall: 0.4968\n",
      "F1: 0.5436\n",
      "Auc: 0.5400\n",
      "\n",
      "Epoch 59/100\n"
     ]
    },
    {
     "name": "stderr",
     "output_type": "stream",
     "text": [
      "Training Epoch 59/100:   0%|          | 0/42 [00:00<?, ?it/s]huggingface/tokenizers: The current process just got forked, after parallelism has already been used. Disabling parallelism to avoid deadlocks...\n",
      "To disable this warning, you can either:\n",
      "\t- Avoid using `tokenizers` before the fork if possible\n",
      "\t- Explicitly set the environment variable TOKENIZERS_PARALLELISM=(true | false)\n",
      "huggingface/tokenizers: The current process just got forked, after parallelism has already been used. Disabling parallelism to avoid deadlocks...\n",
      "To disable this warning, you can either:\n",
      "\t- Avoid using `tokenizers` before the fork if possible\n",
      "\t- Explicitly set the environment variable TOKENIZERS_PARALLELISM=(true | false)\n",
      "Training Epoch 59/100: 100%|██████████| 42/42 [00:25<00:00,  1.67it/s, loss=0.5878, acc=0.5625, lr=0.00000456]\n"
     ]
    },
    {
     "name": "stdout",
     "output_type": "stream",
     "text": [
      "\n",
      "Training Metrics:\n",
      "Loss: 0.6290\n",
      "Accuracy: 0.6562\n",
      "Precision: 0.6528\n",
      "Recall: 0.6084\n",
      "F1: 0.6298\n"
     ]
    },
    {
     "name": "stderr",
     "output_type": "stream",
     "text": [
      "Validation Epoch 59/100:   0%|          | 0/10 [00:00<?, ?it/s]huggingface/tokenizers: The current process just got forked, after parallelism has already been used. Disabling parallelism to avoid deadlocks...\n",
      "To disable this warning, you can either:\n",
      "\t- Avoid using `tokenizers` before the fork if possible\n",
      "\t- Explicitly set the environment variable TOKENIZERS_PARALLELISM=(true | false)\n",
      "huggingface/tokenizers: The current process just got forked, after parallelism has already been used. Disabling parallelism to avoid deadlocks...\n",
      "To disable this warning, you can either:\n",
      "\t- Avoid using `tokenizers` before the fork if possible\n",
      "\t- Explicitly set the environment variable TOKENIZERS_PARALLELISM=(true | false)\n",
      "Validation Epoch 59/100: 100%|██████████| 10/10 [00:02<00:00,  4.04it/s, loss=0.4686, acc=1.0000]\n"
     ]
    },
    {
     "name": "stdout",
     "output_type": "stream",
     "text": [
      "\n",
      "Prediction Distribution: {0: 162, 1: 128}\n",
      "\n",
      "Confusion Matrix:\n",
      "[[82 51]\n",
      " [80 77]]\n",
      "\n",
      "Validation Metrics:\n",
      "Loss: 0.7380\n",
      "Accuracy: 0.5483\n",
      "Precision: 0.6016\n",
      "Recall: 0.4904\n",
      "F1: 0.5404\n",
      "Auc: 0.5414\n",
      "\n",
      "Epoch 60/100\n"
     ]
    },
    {
     "name": "stderr",
     "output_type": "stream",
     "text": [
      "Training Epoch 60/100:   0%|          | 0/42 [00:00<?, ?it/s]huggingface/tokenizers: The current process just got forked, after parallelism has already been used. Disabling parallelism to avoid deadlocks...\n",
      "To disable this warning, you can either:\n",
      "\t- Avoid using `tokenizers` before the fork if possible\n",
      "\t- Explicitly set the environment variable TOKENIZERS_PARALLELISM=(true | false)\n",
      "huggingface/tokenizers: The current process just got forked, after parallelism has already been used. Disabling parallelism to avoid deadlocks...\n",
      "To disable this warning, you can either:\n",
      "\t- Avoid using `tokenizers` before the fork if possible\n",
      "\t- Explicitly set the environment variable TOKENIZERS_PARALLELISM=(true | false)\n",
      "Training Epoch 60/100: 100%|██████████| 42/42 [00:25<00:00,  1.67it/s, loss=0.5582, acc=0.7812, lr=0.00000444]\n"
     ]
    },
    {
     "name": "stdout",
     "output_type": "stream",
     "text": [
      "\n",
      "Training Metrics:\n",
      "Loss: 0.6346\n",
      "Accuracy: 0.6391\n",
      "Precision: 0.6279\n",
      "Recall: 0.6231\n",
      "F1: 0.6255\n"
     ]
    },
    {
     "name": "stderr",
     "output_type": "stream",
     "text": [
      "Validation Epoch 60/100:   0%|          | 0/10 [00:00<?, ?it/s]huggingface/tokenizers: The current process just got forked, after parallelism has already been used. Disabling parallelism to avoid deadlocks...\n",
      "To disable this warning, you can either:\n",
      "\t- Avoid using `tokenizers` before the fork if possible\n",
      "\t- Explicitly set the environment variable TOKENIZERS_PARALLELISM=(true | false)\n",
      "huggingface/tokenizers: The current process just got forked, after parallelism has already been used. Disabling parallelism to avoid deadlocks...\n",
      "To disable this warning, you can either:\n",
      "\t- Avoid using `tokenizers` before the fork if possible\n",
      "\t- Explicitly set the environment variable TOKENIZERS_PARALLELISM=(true | false)\n",
      "Validation Epoch 60/100: 100%|██████████| 10/10 [00:02<00:00,  4.05it/s, loss=0.5386, acc=1.0000]\n"
     ]
    },
    {
     "name": "stdout",
     "output_type": "stream",
     "text": [
      "\n",
      "Prediction Distribution: {0: 196, 1: 94}\n",
      "\n",
      "Confusion Matrix:\n",
      "[[ 92  41]\n",
      " [104  53]]\n",
      "\n",
      "Validation Metrics:\n",
      "Loss: 0.7475\n",
      "Accuracy: 0.5000\n",
      "Precision: 0.5638\n",
      "Recall: 0.3376\n",
      "F1: 0.4223\n",
      "Auc: 0.5370\n",
      "\n",
      "Epoch 61/100\n"
     ]
    },
    {
     "name": "stderr",
     "output_type": "stream",
     "text": [
      "Training Epoch 61/100:   0%|          | 0/42 [00:00<?, ?it/s]huggingface/tokenizers: The current process just got forked, after parallelism has already been used. Disabling parallelism to avoid deadlocks...\n",
      "To disable this warning, you can either:\n",
      "\t- Avoid using `tokenizers` before the fork if possible\n",
      "\t- Explicitly set the environment variable TOKENIZERS_PARALLELISM=(true | false)\n",
      "huggingface/tokenizers: The current process just got forked, after parallelism has already been used. Disabling parallelism to avoid deadlocks...\n",
      "To disable this warning, you can either:\n",
      "\t- Avoid using `tokenizers` before the fork if possible\n",
      "\t- Explicitly set the environment variable TOKENIZERS_PARALLELISM=(true | false)\n",
      "Training Epoch 61/100: 100%|██████████| 42/42 [00:25<00:00,  1.67it/s, loss=0.6174, acc=0.6562, lr=0.00000433]\n"
     ]
    },
    {
     "name": "stdout",
     "output_type": "stream",
     "text": [
      "\n",
      "Training Metrics:\n",
      "Loss: 0.6312\n",
      "Accuracy: 0.6421\n",
      "Precision: 0.6334\n",
      "Recall: 0.6090\n",
      "F1: 0.6210\n"
     ]
    },
    {
     "name": "stderr",
     "output_type": "stream",
     "text": [
      "Validation Epoch 61/100:   0%|          | 0/10 [00:00<?, ?it/s]huggingface/tokenizers: The current process just got forked, after parallelism has already been used. Disabling parallelism to avoid deadlocks...\n",
      "To disable this warning, you can either:\n",
      "\t- Avoid using `tokenizers` before the fork if possible\n",
      "\t- Explicitly set the environment variable TOKENIZERS_PARALLELISM=(true | false)\n",
      "huggingface/tokenizers: The current process just got forked, after parallelism has already been used. Disabling parallelism to avoid deadlocks...\n",
      "To disable this warning, you can either:\n",
      "\t- Avoid using `tokenizers` before the fork if possible\n",
      "\t- Explicitly set the environment variable TOKENIZERS_PARALLELISM=(true | false)\n",
      "Validation Epoch 61/100: 100%|██████████| 10/10 [00:02<00:00,  4.05it/s, loss=0.4943, acc=1.0000]\n"
     ]
    },
    {
     "name": "stdout",
     "output_type": "stream",
     "text": [
      "\n",
      "Prediction Distribution: {0: 195, 1: 95}\n",
      "\n",
      "Confusion Matrix:\n",
      "[[ 92  41]\n",
      " [103  54]]\n",
      "\n",
      "Validation Metrics:\n",
      "Loss: 0.7538\n",
      "Accuracy: 0.5034\n",
      "Precision: 0.5684\n",
      "Recall: 0.3439\n",
      "F1: 0.4286\n",
      "Auc: 0.5363\n",
      "\n",
      "Epoch 62/100\n"
     ]
    },
    {
     "name": "stderr",
     "output_type": "stream",
     "text": [
      "Training Epoch 62/100:   0%|          | 0/42 [00:00<?, ?it/s]huggingface/tokenizers: The current process just got forked, after parallelism has already been used. Disabling parallelism to avoid deadlocks...\n",
      "To disable this warning, you can either:\n",
      "\t- Avoid using `tokenizers` before the fork if possible\n",
      "\t- Explicitly set the environment variable TOKENIZERS_PARALLELISM=(true | false)\n",
      "huggingface/tokenizers: The current process just got forked, after parallelism has already been used. Disabling parallelism to avoid deadlocks...\n",
      "To disable this warning, you can either:\n",
      "\t- Avoid using `tokenizers` before the fork if possible\n",
      "\t- Explicitly set the environment variable TOKENIZERS_PARALLELISM=(true | false)\n",
      "Training Epoch 62/100: 100%|██████████| 42/42 [00:25<00:00,  1.67it/s, loss=0.6332, acc=0.5938, lr=0.00000422]\n"
     ]
    },
    {
     "name": "stdout",
     "output_type": "stream",
     "text": [
      "\n",
      "Training Metrics:\n",
      "Loss: 0.6320\n",
      "Accuracy: 0.6287\n",
      "Precision: 0.6165\n",
      "Recall: 0.6117\n",
      "F1: 0.6141\n"
     ]
    },
    {
     "name": "stderr",
     "output_type": "stream",
     "text": [
      "Validation Epoch 62/100:   0%|          | 0/10 [00:00<?, ?it/s]huggingface/tokenizers: The current process just got forked, after parallelism has already been used. Disabling parallelism to avoid deadlocks...\n",
      "To disable this warning, you can either:\n",
      "\t- Avoid using `tokenizers` before the fork if possible\n",
      "\t- Explicitly set the environment variable TOKENIZERS_PARALLELISM=(true | false)\n",
      "huggingface/tokenizers: The current process just got forked, after parallelism has already been used. Disabling parallelism to avoid deadlocks...\n",
      "To disable this warning, you can either:\n",
      "\t- Avoid using `tokenizers` before the fork if possible\n",
      "\t- Explicitly set the environment variable TOKENIZERS_PARALLELISM=(true | false)\n",
      "Validation Epoch 62/100: 100%|██████████| 10/10 [00:02<00:00,  4.04it/s, loss=0.6916, acc=0.5000]\n"
     ]
    },
    {
     "name": "stdout",
     "output_type": "stream",
     "text": [
      "\n",
      "Prediction Distribution: {0: 222, 1: 68}\n",
      "\n",
      "Confusion Matrix:\n",
      "[[102  31]\n",
      " [120  37]]\n",
      "\n",
      "Validation Metrics:\n",
      "Loss: 0.7838\n",
      "Accuracy: 0.4793\n",
      "Precision: 0.5441\n",
      "Recall: 0.2357\n",
      "F1: 0.3289\n",
      "Auc: 0.5331\n",
      "\n",
      "Epoch 63/100\n"
     ]
    },
    {
     "name": "stderr",
     "output_type": "stream",
     "text": [
      "Training Epoch 63/100:   0%|          | 0/42 [00:00<?, ?it/s]huggingface/tokenizers: The current process just got forked, after parallelism has already been used. Disabling parallelism to avoid deadlocks...\n",
      "To disable this warning, you can either:\n",
      "\t- Avoid using `tokenizers` before the fork if possible\n",
      "\t- Explicitly set the environment variable TOKENIZERS_PARALLELISM=(true | false)\n",
      "huggingface/tokenizers: The current process just got forked, after parallelism has already been used. Disabling parallelism to avoid deadlocks...\n",
      "To disable this warning, you can either:\n",
      "\t- Avoid using `tokenizers` before the fork if possible\n",
      "\t- Explicitly set the environment variable TOKENIZERS_PARALLELISM=(true | false)\n",
      "Training Epoch 63/100: 100%|██████████| 42/42 [00:25<00:00,  1.67it/s, loss=0.5327, acc=0.7812, lr=0.00000411]\n"
     ]
    },
    {
     "name": "stdout",
     "output_type": "stream",
     "text": [
      "\n",
      "Training Metrics:\n",
      "Loss: 0.6230\n",
      "Accuracy: 0.6615\n",
      "Precision: 0.6509\n",
      "Recall: 0.6399\n",
      "F1: 0.6454\n"
     ]
    },
    {
     "name": "stderr",
     "output_type": "stream",
     "text": [
      "Validation Epoch 63/100:   0%|          | 0/10 [00:00<?, ?it/s]huggingface/tokenizers: The current process just got forked, after parallelism has already been used. Disabling parallelism to avoid deadlocks...\n",
      "To disable this warning, you can either:\n",
      "\t- Avoid using `tokenizers` before the fork if possible\n",
      "\t- Explicitly set the environment variable TOKENIZERS_PARALLELISM=(true | false)\n",
      "huggingface/tokenizers: The current process just got forked, after parallelism has already been used. Disabling parallelism to avoid deadlocks...\n",
      "To disable this warning, you can either:\n",
      "\t- Avoid using `tokenizers` before the fork if possible\n",
      "\t- Explicitly set the environment variable TOKENIZERS_PARALLELISM=(true | false)\n",
      "Validation Epoch 63/100: 100%|██████████| 10/10 [00:02<00:00,  4.05it/s, loss=0.3965, acc=1.0000]\n"
     ]
    },
    {
     "name": "stdout",
     "output_type": "stream",
     "text": [
      "\n",
      "Prediction Distribution: {0: 153, 1: 137}\n",
      "\n",
      "Confusion Matrix:\n",
      "[[75 58]\n",
      " [78 79]]\n",
      "\n",
      "Validation Metrics:\n",
      "Loss: 0.7582\n",
      "Accuracy: 0.5310\n",
      "Precision: 0.5766\n",
      "Recall: 0.5032\n",
      "F1: 0.5374\n",
      "Auc: 0.5392\n",
      "\n",
      "Epoch 64/100\n"
     ]
    },
    {
     "name": "stderr",
     "output_type": "stream",
     "text": [
      "Training Epoch 64/100:   0%|          | 0/42 [00:00<?, ?it/s]huggingface/tokenizers: The current process just got forked, after parallelism has already been used. Disabling parallelism to avoid deadlocks...\n",
      "To disable this warning, you can either:\n",
      "\t- Avoid using `tokenizers` before the fork if possible\n",
      "\t- Explicitly set the environment variable TOKENIZERS_PARALLELISM=(true | false)\n",
      "huggingface/tokenizers: The current process just got forked, after parallelism has already been used. Disabling parallelism to avoid deadlocks...\n",
      "To disable this warning, you can either:\n",
      "\t- Avoid using `tokenizers` before the fork if possible\n",
      "\t- Explicitly set the environment variable TOKENIZERS_PARALLELISM=(true | false)\n",
      "Training Epoch 64/100: 100%|██████████| 42/42 [00:25<00:00,  1.67it/s, loss=0.5922, acc=0.5938, lr=0.00000400]\n"
     ]
    },
    {
     "name": "stdout",
     "output_type": "stream",
     "text": [
      "\n",
      "Training Metrics:\n",
      "Loss: 0.6234\n",
      "Accuracy: 0.6473\n",
      "Precision: 0.6290\n",
      "Recall: 0.6465\n",
      "F1: 0.6376\n"
     ]
    },
    {
     "name": "stderr",
     "output_type": "stream",
     "text": [
      "Validation Epoch 64/100:   0%|          | 0/10 [00:00<?, ?it/s]huggingface/tokenizers: The current process just got forked, after parallelism has already been used. Disabling parallelism to avoid deadlocks...\n",
      "To disable this warning, you can either:\n",
      "\t- Avoid using `tokenizers` before the fork if possible\n",
      "\t- Explicitly set the environment variable TOKENIZERS_PARALLELISM=(true | false)\n",
      "huggingface/tokenizers: The current process just got forked, after parallelism has already been used. Disabling parallelism to avoid deadlocks...\n",
      "To disable this warning, you can either:\n",
      "\t- Avoid using `tokenizers` before the fork if possible\n",
      "\t- Explicitly set the environment variable TOKENIZERS_PARALLELISM=(true | false)\n",
      "Validation Epoch 64/100: 100%|██████████| 10/10 [00:02<00:00,  4.05it/s, loss=0.6821, acc=0.5000]\n"
     ]
    },
    {
     "name": "stdout",
     "output_type": "stream",
     "text": [
      "\n",
      "Prediction Distribution: {0: 227, 1: 63}\n",
      "\n",
      "Confusion Matrix:\n",
      "[[106  27]\n",
      " [121  36]]\n",
      "\n",
      "Validation Metrics:\n",
      "Loss: 0.8336\n",
      "Accuracy: 0.4897\n",
      "Precision: 0.5714\n",
      "Recall: 0.2293\n",
      "F1: 0.3273\n",
      "Auc: 0.5333\n",
      "\n",
      "Epoch 65/100\n"
     ]
    },
    {
     "name": "stderr",
     "output_type": "stream",
     "text": [
      "Training Epoch 65/100:   0%|          | 0/42 [00:00<?, ?it/s]huggingface/tokenizers: The current process just got forked, after parallelism has already been used. Disabling parallelism to avoid deadlocks...\n",
      "To disable this warning, you can either:\n",
      "\t- Avoid using `tokenizers` before the fork if possible\n",
      "\t- Explicitly set the environment variable TOKENIZERS_PARALLELISM=(true | false)\n",
      "huggingface/tokenizers: The current process just got forked, after parallelism has already been used. Disabling parallelism to avoid deadlocks...\n",
      "To disable this warning, you can either:\n",
      "\t- Avoid using `tokenizers` before the fork if possible\n",
      "\t- Explicitly set the environment variable TOKENIZERS_PARALLELISM=(true | false)\n",
      "Training Epoch 65/100: 100%|██████████| 42/42 [00:25<00:00,  1.67it/s, loss=0.7096, acc=0.5625, lr=0.00000389]\n"
     ]
    },
    {
     "name": "stdout",
     "output_type": "stream",
     "text": [
      "\n",
      "Training Metrics:\n",
      "Loss: 0.6280\n",
      "Accuracy: 0.6473\n",
      "Precision: 0.6436\n",
      "Recall: 0.6019\n",
      "F1: 0.6220\n"
     ]
    },
    {
     "name": "stderr",
     "output_type": "stream",
     "text": [
      "Validation Epoch 65/100:   0%|          | 0/10 [00:00<?, ?it/s]huggingface/tokenizers: The current process just got forked, after parallelism has already been used. Disabling parallelism to avoid deadlocks...\n",
      "To disable this warning, you can either:\n",
      "\t- Avoid using `tokenizers` before the fork if possible\n",
      "\t- Explicitly set the environment variable TOKENIZERS_PARALLELISM=(true | false)\n",
      "huggingface/tokenizers: The current process just got forked, after parallelism has already been used. Disabling parallelism to avoid deadlocks...\n",
      "To disable this warning, you can either:\n",
      "\t- Avoid using `tokenizers` before the fork if possible\n",
      "\t- Explicitly set the environment variable TOKENIZERS_PARALLELISM=(true | false)\n",
      "Validation Epoch 65/100: 100%|██████████| 10/10 [00:02<00:00,  4.05it/s, loss=0.6374, acc=1.0000]\n"
     ]
    },
    {
     "name": "stdout",
     "output_type": "stream",
     "text": [
      "\n",
      "Prediction Distribution: {0: 221, 1: 69}\n",
      "\n",
      "Confusion Matrix:\n",
      "[[101  32]\n",
      " [120  37]]\n",
      "\n",
      "Validation Metrics:\n",
      "Loss: 0.8118\n",
      "Accuracy: 0.4759\n",
      "Precision: 0.5362\n",
      "Recall: 0.2357\n",
      "F1: 0.3274\n",
      "Auc: 0.5305\n",
      "\n",
      "Epoch 66/100\n"
     ]
    },
    {
     "name": "stderr",
     "output_type": "stream",
     "text": [
      "Training Epoch 66/100:   0%|          | 0/42 [00:00<?, ?it/s]huggingface/tokenizers: The current process just got forked, after parallelism has already been used. Disabling parallelism to avoid deadlocks...\n",
      "To disable this warning, you can either:\n",
      "\t- Avoid using `tokenizers` before the fork if possible\n",
      "\t- Explicitly set the environment variable TOKENIZERS_PARALLELISM=(true | false)\n",
      "huggingface/tokenizers: The current process just got forked, after parallelism has already been used. Disabling parallelism to avoid deadlocks...\n",
      "To disable this warning, you can either:\n",
      "\t- Avoid using `tokenizers` before the fork if possible\n",
      "\t- Explicitly set the environment variable TOKENIZERS_PARALLELISM=(true | false)\n",
      "Training Epoch 66/100: 100%|██████████| 42/42 [00:25<00:00,  1.67it/s, loss=0.7391, acc=0.5625, lr=0.00000378]\n"
     ]
    },
    {
     "name": "stdout",
     "output_type": "stream",
     "text": [
      "\n",
      "Training Metrics:\n",
      "Loss: 0.6172\n",
      "Accuracy: 0.6473\n",
      "Precision: 0.6422\n",
      "Recall: 0.6065\n",
      "F1: 0.6238\n"
     ]
    },
    {
     "name": "stderr",
     "output_type": "stream",
     "text": [
      "Validation Epoch 66/100:   0%|          | 0/10 [00:00<?, ?it/s]huggingface/tokenizers: The current process just got forked, after parallelism has already been used. Disabling parallelism to avoid deadlocks...\n",
      "To disable this warning, you can either:\n",
      "\t- Avoid using `tokenizers` before the fork if possible\n",
      "\t- Explicitly set the environment variable TOKENIZERS_PARALLELISM=(true | false)\n",
      "huggingface/tokenizers: The current process just got forked, after parallelism has already been used. Disabling parallelism to avoid deadlocks...\n",
      "To disable this warning, you can either:\n",
      "\t- Avoid using `tokenizers` before the fork if possible\n",
      "\t- Explicitly set the environment variable TOKENIZERS_PARALLELISM=(true | false)\n",
      "Validation Epoch 66/100: 100%|██████████| 10/10 [00:02<00:00,  4.06it/s, loss=0.4341, acc=1.0000]\n"
     ]
    },
    {
     "name": "stdout",
     "output_type": "stream",
     "text": [
      "\n",
      "Prediction Distribution: {0: 150, 1: 140}\n",
      "\n",
      "Confusion Matrix:\n",
      "[[76 57]\n",
      " [74 83]]\n",
      "\n",
      "Validation Metrics:\n",
      "Loss: 0.7422\n",
      "Accuracy: 0.5483\n",
      "Precision: 0.5929\n",
      "Recall: 0.5287\n",
      "F1: 0.5589\n",
      "Auc: 0.5371\n",
      "\n",
      "Epoch 67/100\n"
     ]
    },
    {
     "name": "stderr",
     "output_type": "stream",
     "text": [
      "Training Epoch 67/100:   0%|          | 0/42 [00:00<?, ?it/s]huggingface/tokenizers: The current process just got forked, after parallelism has already been used. Disabling parallelism to avoid deadlocks...\n",
      "To disable this warning, you can either:\n",
      "\t- Avoid using `tokenizers` before the fork if possible\n",
      "\t- Explicitly set the environment variable TOKENIZERS_PARALLELISM=(true | false)\n",
      "huggingface/tokenizers: The current process just got forked, after parallelism has already been used. Disabling parallelism to avoid deadlocks...\n",
      "To disable this warning, you can either:\n",
      "\t- Avoid using `tokenizers` before the fork if possible\n",
      "\t- Explicitly set the environment variable TOKENIZERS_PARALLELISM=(true | false)\n",
      "Training Epoch 67/100: 100%|██████████| 42/42 [00:25<00:00,  1.67it/s, loss=0.6663, acc=0.5938, lr=0.00000367]\n"
     ]
    },
    {
     "name": "stdout",
     "output_type": "stream",
     "text": [
      "\n",
      "Training Metrics:\n",
      "Loss: 0.6284\n",
      "Accuracy: 0.6369\n",
      "Precision: 0.6317\n",
      "Recall: 0.5867\n",
      "F1: 0.6083\n"
     ]
    },
    {
     "name": "stderr",
     "output_type": "stream",
     "text": [
      "Validation Epoch 67/100:   0%|          | 0/10 [00:00<?, ?it/s]huggingface/tokenizers: The current process just got forked, after parallelism has already been used. Disabling parallelism to avoid deadlocks...\n",
      "To disable this warning, you can either:\n",
      "\t- Avoid using `tokenizers` before the fork if possible\n",
      "\t- Explicitly set the environment variable TOKENIZERS_PARALLELISM=(true | false)\n",
      "huggingface/tokenizers: The current process just got forked, after parallelism has already been used. Disabling parallelism to avoid deadlocks...\n",
      "To disable this warning, you can either:\n",
      "\t- Avoid using `tokenizers` before the fork if possible\n",
      "\t- Explicitly set the environment variable TOKENIZERS_PARALLELISM=(true | false)\n",
      "Validation Epoch 67/100: 100%|██████████| 10/10 [00:02<00:00,  4.04it/s, loss=0.7735, acc=0.0000]\n"
     ]
    },
    {
     "name": "stdout",
     "output_type": "stream",
     "text": [
      "\n",
      "Prediction Distribution: {0: 234, 1: 56}\n",
      "\n",
      "Confusion Matrix:\n",
      "[[107  26]\n",
      " [127  30]]\n",
      "\n",
      "Validation Metrics:\n",
      "Loss: 0.8137\n",
      "Accuracy: 0.4724\n",
      "Precision: 0.5357\n",
      "Recall: 0.1911\n",
      "F1: 0.2817\n",
      "Auc: 0.5308\n",
      "\n",
      "Epoch 68/100\n"
     ]
    },
    {
     "name": "stderr",
     "output_type": "stream",
     "text": [
      "Training Epoch 68/100:   0%|          | 0/42 [00:00<?, ?it/s]huggingface/tokenizers: The current process just got forked, after parallelism has already been used. Disabling parallelism to avoid deadlocks...\n",
      "To disable this warning, you can either:\n",
      "\t- Avoid using `tokenizers` before the fork if possible\n",
      "\t- Explicitly set the environment variable TOKENIZERS_PARALLELISM=(true | false)\n",
      "huggingface/tokenizers: The current process just got forked, after parallelism has already been used. Disabling parallelism to avoid deadlocks...\n",
      "To disable this warning, you can either:\n",
      "\t- Avoid using `tokenizers` before the fork if possible\n",
      "\t- Explicitly set the environment variable TOKENIZERS_PARALLELISM=(true | false)\n",
      "Training Epoch 68/100: 100%|██████████| 42/42 [00:25<00:00,  1.67it/s, loss=0.5762, acc=0.6562, lr=0.00000356]\n"
     ]
    },
    {
     "name": "stdout",
     "output_type": "stream",
     "text": [
      "\n",
      "Training Metrics:\n",
      "Loss: 0.6111\n",
      "Accuracy: 0.6592\n",
      "Precision: 0.6484\n",
      "Recall: 0.6404\n",
      "F1: 0.6444\n"
     ]
    },
    {
     "name": "stderr",
     "output_type": "stream",
     "text": [
      "Validation Epoch 68/100:   0%|          | 0/10 [00:00<?, ?it/s]huggingface/tokenizers: The current process just got forked, after parallelism has already been used. Disabling parallelism to avoid deadlocks...\n",
      "To disable this warning, you can either:\n",
      "\t- Avoid using `tokenizers` before the fork if possible\n",
      "\t- Explicitly set the environment variable TOKENIZERS_PARALLELISM=(true | false)\n",
      "huggingface/tokenizers: The current process just got forked, after parallelism has already been used. Disabling parallelism to avoid deadlocks...\n",
      "To disable this warning, you can either:\n",
      "\t- Avoid using `tokenizers` before the fork if possible\n",
      "\t- Explicitly set the environment variable TOKENIZERS_PARALLELISM=(true | false)\n",
      "Validation Epoch 68/100: 100%|██████████| 10/10 [00:02<00:00,  4.05it/s, loss=0.7704, acc=0.0000]\n"
     ]
    },
    {
     "name": "stdout",
     "output_type": "stream",
     "text": [
      "\n",
      "Prediction Distribution: {0: 233, 1: 57}\n",
      "\n",
      "Confusion Matrix:\n",
      "[[107  26]\n",
      " [126  31]]\n",
      "\n",
      "Validation Metrics:\n",
      "Loss: 0.8445\n",
      "Accuracy: 0.4759\n",
      "Precision: 0.5439\n",
      "Recall: 0.1975\n",
      "F1: 0.2897\n",
      "Auc: 0.5329\n",
      "\n",
      "Epoch 69/100\n"
     ]
    },
    {
     "name": "stderr",
     "output_type": "stream",
     "text": [
      "Training Epoch 69/100:   0%|          | 0/42 [00:00<?, ?it/s]huggingface/tokenizers: The current process just got forked, after parallelism has already been used. Disabling parallelism to avoid deadlocks...\n",
      "To disable this warning, you can either:\n",
      "\t- Avoid using `tokenizers` before the fork if possible\n",
      "\t- Explicitly set the environment variable TOKENIZERS_PARALLELISM=(true | false)\n",
      "huggingface/tokenizers: The current process just got forked, after parallelism has already been used. Disabling parallelism to avoid deadlocks...\n",
      "To disable this warning, you can either:\n",
      "\t- Avoid using `tokenizers` before the fork if possible\n",
      "\t- Explicitly set the environment variable TOKENIZERS_PARALLELISM=(true | false)\n",
      "Training Epoch 69/100: 100%|██████████| 42/42 [00:25<00:00,  1.67it/s, loss=0.5650, acc=0.7188, lr=0.00000344]\n"
     ]
    },
    {
     "name": "stdout",
     "output_type": "stream",
     "text": [
      "\n",
      "Training Metrics:\n",
      "Loss: 0.6234\n",
      "Accuracy: 0.6577\n",
      "Precision: 0.6604\n",
      "Recall: 0.5951\n",
      "F1: 0.6260\n"
     ]
    },
    {
     "name": "stderr",
     "output_type": "stream",
     "text": [
      "Validation Epoch 69/100:   0%|          | 0/10 [00:00<?, ?it/s]huggingface/tokenizers: The current process just got forked, after parallelism has already been used. Disabling parallelism to avoid deadlocks...\n",
      "To disable this warning, you can either:\n",
      "\t- Avoid using `tokenizers` before the fork if possible\n",
      "\t- Explicitly set the environment variable TOKENIZERS_PARALLELISM=(true | false)\n",
      "huggingface/tokenizers: The current process just got forked, after parallelism has already been used. Disabling parallelism to avoid deadlocks...\n",
      "To disable this warning, you can either:\n",
      "\t- Avoid using `tokenizers` before the fork if possible\n",
      "\t- Explicitly set the environment variable TOKENIZERS_PARALLELISM=(true | false)\n",
      "Validation Epoch 69/100: 100%|██████████| 10/10 [00:02<00:00,  4.06it/s, loss=0.3669, acc=1.0000]\n"
     ]
    },
    {
     "name": "stdout",
     "output_type": "stream",
     "text": [
      "\n",
      "Prediction Distribution: {0: 147, 1: 143}\n",
      "\n",
      "Confusion Matrix:\n",
      "[[73 60]\n",
      " [74 83]]\n",
      "\n",
      "Validation Metrics:\n",
      "Loss: 0.7401\n",
      "Accuracy: 0.5379\n",
      "Precision: 0.5804\n",
      "Recall: 0.5287\n",
      "F1: 0.5533\n",
      "Auc: 0.5347\n",
      "\n",
      "Epoch 70/100\n"
     ]
    },
    {
     "name": "stderr",
     "output_type": "stream",
     "text": [
      "Training Epoch 70/100:   0%|          | 0/42 [00:00<?, ?it/s]huggingface/tokenizers: The current process just got forked, after parallelism has already been used. Disabling parallelism to avoid deadlocks...\n",
      "To disable this warning, you can either:\n",
      "\t- Avoid using `tokenizers` before the fork if possible\n",
      "\t- Explicitly set the environment variable TOKENIZERS_PARALLELISM=(true | false)\n",
      "huggingface/tokenizers: The current process just got forked, after parallelism has already been used. Disabling parallelism to avoid deadlocks...\n",
      "To disable this warning, you can either:\n",
      "\t- Avoid using `tokenizers` before the fork if possible\n",
      "\t- Explicitly set the environment variable TOKENIZERS_PARALLELISM=(true | false)\n",
      "Training Epoch 70/100: 100%|██████████| 42/42 [00:25<00:00,  1.67it/s, loss=0.6268, acc=0.6250, lr=0.00000333]\n"
     ]
    },
    {
     "name": "stdout",
     "output_type": "stream",
     "text": [
      "\n",
      "Training Metrics:\n",
      "Loss: 0.6161\n",
      "Accuracy: 0.6518\n",
      "Precision: 0.6468\n",
      "Recall: 0.6169\n",
      "F1: 0.6315\n"
     ]
    },
    {
     "name": "stderr",
     "output_type": "stream",
     "text": [
      "Validation Epoch 70/100:   0%|          | 0/10 [00:00<?, ?it/s]huggingface/tokenizers: The current process just got forked, after parallelism has already been used. Disabling parallelism to avoid deadlocks...\n",
      "To disable this warning, you can either:\n",
      "\t- Avoid using `tokenizers` before the fork if possible\n",
      "\t- Explicitly set the environment variable TOKENIZERS_PARALLELISM=(true | false)\n",
      "huggingface/tokenizers: The current process just got forked, after parallelism has already been used. Disabling parallelism to avoid deadlocks...\n",
      "To disable this warning, you can either:\n",
      "\t- Avoid using `tokenizers` before the fork if possible\n",
      "\t- Explicitly set the environment variable TOKENIZERS_PARALLELISM=(true | false)\n",
      "Validation Epoch 70/100: 100%|██████████| 10/10 [00:02<00:00,  4.04it/s, loss=0.5792, acc=1.0000]\n"
     ]
    },
    {
     "name": "stdout",
     "output_type": "stream",
     "text": [
      "\n",
      "Prediction Distribution: {0: 205, 1: 85}\n",
      "\n",
      "Confusion Matrix:\n",
      "[[ 96  37]\n",
      " [109  48]]\n",
      "\n",
      "Validation Metrics:\n",
      "Loss: 0.7964\n",
      "Accuracy: 0.4966\n",
      "Precision: 0.5647\n",
      "Recall: 0.3057\n",
      "F1: 0.3967\n",
      "Auc: 0.5323\n",
      "\n",
      "Epoch 71/100\n"
     ]
    },
    {
     "name": "stderr",
     "output_type": "stream",
     "text": [
      "Training Epoch 71/100:   0%|          | 0/42 [00:00<?, ?it/s]huggingface/tokenizers: The current process just got forked, after parallelism has already been used. Disabling parallelism to avoid deadlocks...\n",
      "To disable this warning, you can either:\n",
      "\t- Avoid using `tokenizers` before the fork if possible\n",
      "\t- Explicitly set the environment variable TOKENIZERS_PARALLELISM=(true | false)\n",
      "huggingface/tokenizers: The current process just got forked, after parallelism has already been used. Disabling parallelism to avoid deadlocks...\n",
      "To disable this warning, you can either:\n",
      "\t- Avoid using `tokenizers` before the fork if possible\n",
      "\t- Explicitly set the environment variable TOKENIZERS_PARALLELISM=(true | false)\n",
      "Training Epoch 71/100: 100%|██████████| 42/42 [00:25<00:00,  1.67it/s, loss=0.5773, acc=0.7500, lr=0.00000322]\n"
     ]
    },
    {
     "name": "stdout",
     "output_type": "stream",
     "text": [
      "\n",
      "Training Metrics:\n",
      "Loss: 0.6187\n",
      "Accuracy: 0.6369\n",
      "Precision: 0.6272\n",
      "Recall: 0.6117\n",
      "F1: 0.6193\n"
     ]
    },
    {
     "name": "stderr",
     "output_type": "stream",
     "text": [
      "Validation Epoch 71/100:   0%|          | 0/10 [00:00<?, ?it/s]huggingface/tokenizers: The current process just got forked, after parallelism has already been used. Disabling parallelism to avoid deadlocks...\n",
      "To disable this warning, you can either:\n",
      "\t- Avoid using `tokenizers` before the fork if possible\n",
      "\t- Explicitly set the environment variable TOKENIZERS_PARALLELISM=(true | false)\n",
      "huggingface/tokenizers: The current process just got forked, after parallelism has already been used. Disabling parallelism to avoid deadlocks...\n",
      "To disable this warning, you can either:\n",
      "\t- Avoid using `tokenizers` before the fork if possible\n",
      "\t- Explicitly set the environment variable TOKENIZERS_PARALLELISM=(true | false)\n",
      "Validation Epoch 71/100: 100%|██████████| 10/10 [00:02<00:00,  4.05it/s, loss=0.7236, acc=0.0000]\n"
     ]
    },
    {
     "name": "stdout",
     "output_type": "stream",
     "text": [
      "\n",
      "Prediction Distribution: {0: 222, 1: 68}\n",
      "\n",
      "Confusion Matrix:\n",
      "[[103  30]\n",
      " [119  38]]\n",
      "\n",
      "Validation Metrics:\n",
      "Loss: 0.7924\n",
      "Accuracy: 0.4862\n",
      "Precision: 0.5588\n",
      "Recall: 0.2420\n",
      "F1: 0.3378\n",
      "Auc: 0.5294\n",
      "\n",
      "Epoch 72/100\n"
     ]
    },
    {
     "name": "stderr",
     "output_type": "stream",
     "text": [
      "Training Epoch 72/100:   0%|          | 0/42 [00:00<?, ?it/s]huggingface/tokenizers: The current process just got forked, after parallelism has already been used. Disabling parallelism to avoid deadlocks...\n",
      "To disable this warning, you can either:\n",
      "\t- Avoid using `tokenizers` before the fork if possible\n",
      "\t- Explicitly set the environment variable TOKENIZERS_PARALLELISM=(true | false)\n",
      "huggingface/tokenizers: The current process just got forked, after parallelism has already been used. Disabling parallelism to avoid deadlocks...\n",
      "To disable this warning, you can either:\n",
      "\t- Avoid using `tokenizers` before the fork if possible\n",
      "\t- Explicitly set the environment variable TOKENIZERS_PARALLELISM=(true | false)\n",
      "Training Epoch 72/100: 100%|██████████| 42/42 [00:25<00:00,  1.67it/s, loss=0.6222, acc=0.6562, lr=0.00000311]\n"
     ]
    },
    {
     "name": "stdout",
     "output_type": "stream",
     "text": [
      "\n",
      "Training Metrics:\n",
      "Loss: 0.6206\n",
      "Accuracy: 0.6540\n",
      "Precision: 0.6459\n",
      "Recall: 0.6250\n",
      "F1: 0.6353\n"
     ]
    },
    {
     "name": "stderr",
     "output_type": "stream",
     "text": [
      "Validation Epoch 72/100:   0%|          | 0/10 [00:00<?, ?it/s]huggingface/tokenizers: The current process just got forked, after parallelism has already been used. Disabling parallelism to avoid deadlocks...\n",
      "To disable this warning, you can either:\n",
      "\t- Avoid using `tokenizers` before the fork if possible\n",
      "\t- Explicitly set the environment variable TOKENIZERS_PARALLELISM=(true | false)\n",
      "huggingface/tokenizers: The current process just got forked, after parallelism has already been used. Disabling parallelism to avoid deadlocks...\n",
      "To disable this warning, you can either:\n",
      "\t- Avoid using `tokenizers` before the fork if possible\n",
      "\t- Explicitly set the environment variable TOKENIZERS_PARALLELISM=(true | false)\n",
      "Validation Epoch 72/100: 100%|██████████| 10/10 [00:02<00:00,  4.05it/s, loss=0.6831, acc=0.5000]\n"
     ]
    },
    {
     "name": "stdout",
     "output_type": "stream",
     "text": [
      "\n",
      "Prediction Distribution: {0: 227, 1: 63}\n",
      "\n",
      "Confusion Matrix:\n",
      "[[105  28]\n",
      " [122  35]]\n",
      "\n",
      "Validation Metrics:\n",
      "Loss: 0.8266\n",
      "Accuracy: 0.4828\n",
      "Precision: 0.5556\n",
      "Recall: 0.2229\n",
      "F1: 0.3182\n",
      "Auc: 0.5297\n",
      "\n",
      "Epoch 73/100\n"
     ]
    },
    {
     "name": "stderr",
     "output_type": "stream",
     "text": [
      "Training Epoch 73/100:   0%|          | 0/42 [00:00<?, ?it/s]huggingface/tokenizers: The current process just got forked, after parallelism has already been used. Disabling parallelism to avoid deadlocks...\n",
      "To disable this warning, you can either:\n",
      "\t- Avoid using `tokenizers` before the fork if possible\n",
      "\t- Explicitly set the environment variable TOKENIZERS_PARALLELISM=(true | false)\n",
      "huggingface/tokenizers: The current process just got forked, after parallelism has already been used. Disabling parallelism to avoid deadlocks...\n",
      "To disable this warning, you can either:\n",
      "\t- Avoid using `tokenizers` before the fork if possible\n",
      "\t- Explicitly set the environment variable TOKENIZERS_PARALLELISM=(true | false)\n",
      "Training Epoch 73/100: 100%|██████████| 42/42 [00:25<00:00,  1.67it/s, loss=0.6731, acc=0.5312, lr=0.00000300]\n"
     ]
    },
    {
     "name": "stdout",
     "output_type": "stream",
     "text": [
      "\n",
      "Training Metrics:\n",
      "Loss: 0.6194\n",
      "Accuracy: 0.6481\n",
      "Precision: 0.6511\n",
      "Recall: 0.5818\n",
      "F1: 0.6145\n"
     ]
    },
    {
     "name": "stderr",
     "output_type": "stream",
     "text": [
      "Validation Epoch 73/100:   0%|          | 0/10 [00:00<?, ?it/s]huggingface/tokenizers: The current process just got forked, after parallelism has already been used. Disabling parallelism to avoid deadlocks...\n",
      "To disable this warning, you can either:\n",
      "\t- Avoid using `tokenizers` before the fork if possible\n",
      "\t- Explicitly set the environment variable TOKENIZERS_PARALLELISM=(true | false)\n",
      "huggingface/tokenizers: The current process just got forked, after parallelism has already been used. Disabling parallelism to avoid deadlocks...\n",
      "To disable this warning, you can either:\n",
      "\t- Avoid using `tokenizers` before the fork if possible\n",
      "\t- Explicitly set the environment variable TOKENIZERS_PARALLELISM=(true | false)\n",
      "Validation Epoch 73/100: 100%|██████████| 10/10 [00:02<00:00,  4.05it/s, loss=0.3450, acc=1.0000]\n"
     ]
    },
    {
     "name": "stdout",
     "output_type": "stream",
     "text": [
      "\n",
      "Prediction Distribution: {0: 144, 1: 146}\n",
      "\n",
      "Confusion Matrix:\n",
      "[[72 61]\n",
      " [72 85]]\n",
      "\n",
      "Validation Metrics:\n",
      "Loss: 0.7450\n",
      "Accuracy: 0.5414\n",
      "Precision: 0.5822\n",
      "Recall: 0.5414\n",
      "F1: 0.5611\n",
      "Auc: 0.5335\n",
      "\n",
      "Epoch 74/100\n"
     ]
    },
    {
     "name": "stderr",
     "output_type": "stream",
     "text": [
      "Training Epoch 74/100:   0%|          | 0/42 [00:00<?, ?it/s]huggingface/tokenizers: The current process just got forked, after parallelism has already been used. Disabling parallelism to avoid deadlocks...\n",
      "To disable this warning, you can either:\n",
      "\t- Avoid using `tokenizers` before the fork if possible\n",
      "\t- Explicitly set the environment variable TOKENIZERS_PARALLELISM=(true | false)\n",
      "huggingface/tokenizers: The current process just got forked, after parallelism has already been used. Disabling parallelism to avoid deadlocks...\n",
      "To disable this warning, you can either:\n",
      "\t- Avoid using `tokenizers` before the fork if possible\n",
      "\t- Explicitly set the environment variable TOKENIZERS_PARALLELISM=(true | false)\n",
      "Training Epoch 74/100: 100%|██████████| 42/42 [00:25<00:00,  1.67it/s, loss=0.5823, acc=0.6875, lr=0.00000289]\n"
     ]
    },
    {
     "name": "stdout",
     "output_type": "stream",
     "text": [
      "\n",
      "Training Metrics:\n",
      "Loss: 0.6161\n",
      "Accuracy: 0.6644\n",
      "Precision: 0.6443\n",
      "Recall: 0.6713\n",
      "F1: 0.6576\n"
     ]
    },
    {
     "name": "stderr",
     "output_type": "stream",
     "text": [
      "Validation Epoch 74/100:   0%|          | 0/10 [00:00<?, ?it/s]huggingface/tokenizers: The current process just got forked, after parallelism has already been used. Disabling parallelism to avoid deadlocks...\n",
      "To disable this warning, you can either:\n",
      "\t- Avoid using `tokenizers` before the fork if possible\n",
      "\t- Explicitly set the environment variable TOKENIZERS_PARALLELISM=(true | false)\n",
      "huggingface/tokenizers: The current process just got forked, after parallelism has already been used. Disabling parallelism to avoid deadlocks...\n",
      "To disable this warning, you can either:\n",
      "\t- Avoid using `tokenizers` before the fork if possible\n",
      "\t- Explicitly set the environment variable TOKENIZERS_PARALLELISM=(true | false)\n",
      "Validation Epoch 74/100: 100%|██████████| 10/10 [00:02<00:00,  4.06it/s, loss=0.5215, acc=1.0000]\n"
     ]
    },
    {
     "name": "stdout",
     "output_type": "stream",
     "text": [
      "\n",
      "Prediction Distribution: {0: 192, 1: 98}\n",
      "\n",
      "Confusion Matrix:\n",
      "[[93 40]\n",
      " [99 58]]\n",
      "\n",
      "Validation Metrics:\n",
      "Loss: 0.7804\n",
      "Accuracy: 0.5207\n",
      "Precision: 0.5918\n",
      "Recall: 0.3694\n",
      "F1: 0.4549\n",
      "Auc: 0.5316\n",
      "\n",
      "Epoch 75/100\n"
     ]
    },
    {
     "name": "stderr",
     "output_type": "stream",
     "text": [
      "Training Epoch 75/100:   0%|          | 0/42 [00:00<?, ?it/s]huggingface/tokenizers: The current process just got forked, after parallelism has already been used. Disabling parallelism to avoid deadlocks...\n",
      "To disable this warning, you can either:\n",
      "\t- Avoid using `tokenizers` before the fork if possible\n",
      "\t- Explicitly set the environment variable TOKENIZERS_PARALLELISM=(true | false)\n",
      "huggingface/tokenizers: The current process just got forked, after parallelism has already been used. Disabling parallelism to avoid deadlocks...\n",
      "To disable this warning, you can either:\n",
      "\t- Avoid using `tokenizers` before the fork if possible\n",
      "\t- Explicitly set the environment variable TOKENIZERS_PARALLELISM=(true | false)\n",
      "Training Epoch 75/100: 100%|██████████| 42/42 [00:25<00:00,  1.67it/s, loss=0.6632, acc=0.6875, lr=0.00000278]\n"
     ]
    },
    {
     "name": "stdout",
     "output_type": "stream",
     "text": [
      "\n",
      "Training Metrics:\n",
      "Loss: 0.6065\n",
      "Accuracy: 0.6689\n",
      "Precision: 0.6575\n",
      "Recall: 0.6585\n",
      "F1: 0.6580\n"
     ]
    },
    {
     "name": "stderr",
     "output_type": "stream",
     "text": [
      "Validation Epoch 75/100:   0%|          | 0/10 [00:00<?, ?it/s]huggingface/tokenizers: The current process just got forked, after parallelism has already been used. Disabling parallelism to avoid deadlocks...\n",
      "To disable this warning, you can either:\n",
      "\t- Avoid using `tokenizers` before the fork if possible\n",
      "\t- Explicitly set the environment variable TOKENIZERS_PARALLELISM=(true | false)\n",
      "huggingface/tokenizers: The current process just got forked, after parallelism has already been used. Disabling parallelism to avoid deadlocks...\n",
      "To disable this warning, you can either:\n",
      "\t- Avoid using `tokenizers` before the fork if possible\n",
      "\t- Explicitly set the environment variable TOKENIZERS_PARALLELISM=(true | false)\n",
      "Validation Epoch 75/100: 100%|██████████| 10/10 [00:02<00:00,  4.06it/s, loss=0.5115, acc=1.0000]\n"
     ]
    },
    {
     "name": "stdout",
     "output_type": "stream",
     "text": [
      "\n",
      "Prediction Distribution: {0: 181, 1: 109}\n",
      "\n",
      "Confusion Matrix:\n",
      "[[90 43]\n",
      " [91 66]]\n",
      "\n",
      "Validation Metrics:\n",
      "Loss: 0.7795\n",
      "Accuracy: 0.5379\n",
      "Precision: 0.6055\n",
      "Recall: 0.4204\n",
      "F1: 0.4962\n",
      "Auc: 0.5341\n",
      "\n",
      "Epoch 76/100\n"
     ]
    },
    {
     "name": "stderr",
     "output_type": "stream",
     "text": [
      "Training Epoch 76/100:   0%|          | 0/42 [00:00<?, ?it/s]huggingface/tokenizers: The current process just got forked, after parallelism has already been used. Disabling parallelism to avoid deadlocks...\n",
      "To disable this warning, you can either:\n",
      "\t- Avoid using `tokenizers` before the fork if possible\n",
      "\t- Explicitly set the environment variable TOKENIZERS_PARALLELISM=(true | false)\n",
      "huggingface/tokenizers: The current process just got forked, after parallelism has already been used. Disabling parallelism to avoid deadlocks...\n",
      "To disable this warning, you can either:\n",
      "\t- Avoid using `tokenizers` before the fork if possible\n",
      "\t- Explicitly set the environment variable TOKENIZERS_PARALLELISM=(true | false)\n",
      "Training Epoch 76/100: 100%|██████████| 42/42 [00:25<00:00,  1.67it/s, loss=0.6281, acc=0.6250, lr=0.00000267]\n"
     ]
    },
    {
     "name": "stdout",
     "output_type": "stream",
     "text": [
      "\n",
      "Training Metrics:\n",
      "Loss: 0.6073\n",
      "Accuracy: 0.6927\n",
      "Precision: 0.6941\n",
      "Recall: 0.6502\n",
      "F1: 0.6714\n"
     ]
    },
    {
     "name": "stderr",
     "output_type": "stream",
     "text": [
      "Validation Epoch 76/100:   0%|          | 0/10 [00:00<?, ?it/s]huggingface/tokenizers: The current process just got forked, after parallelism has already been used. Disabling parallelism to avoid deadlocks...\n",
      "To disable this warning, you can either:\n",
      "\t- Avoid using `tokenizers` before the fork if possible\n",
      "\t- Explicitly set the environment variable TOKENIZERS_PARALLELISM=(true | false)\n",
      "huggingface/tokenizers: The current process just got forked, after parallelism has already been used. Disabling parallelism to avoid deadlocks...\n",
      "To disable this warning, you can either:\n",
      "\t- Avoid using `tokenizers` before the fork if possible\n",
      "\t- Explicitly set the environment variable TOKENIZERS_PARALLELISM=(true | false)\n",
      "Validation Epoch 76/100: 100%|██████████| 10/10 [00:02<00:00,  4.05it/s, loss=0.4829, acc=1.0000]\n"
     ]
    },
    {
     "name": "stdout",
     "output_type": "stream",
     "text": [
      "\n",
      "Prediction Distribution: {0: 158, 1: 132}\n",
      "\n",
      "Confusion Matrix:\n",
      "[[80 53]\n",
      " [78 79]]\n",
      "\n",
      "Validation Metrics:\n",
      "Loss: 0.7899\n",
      "Accuracy: 0.5483\n",
      "Precision: 0.5985\n",
      "Recall: 0.5032\n",
      "F1: 0.5467\n",
      "Auc: 0.5349\n",
      "\n",
      "Epoch 77/100\n"
     ]
    },
    {
     "name": "stderr",
     "output_type": "stream",
     "text": [
      "Training Epoch 77/100:   0%|          | 0/42 [00:00<?, ?it/s]huggingface/tokenizers: The current process just got forked, after parallelism has already been used. Disabling parallelism to avoid deadlocks...\n",
      "To disable this warning, you can either:\n",
      "\t- Avoid using `tokenizers` before the fork if possible\n",
      "\t- Explicitly set the environment variable TOKENIZERS_PARALLELISM=(true | false)\n",
      "huggingface/tokenizers: The current process just got forked, after parallelism has already been used. Disabling parallelism to avoid deadlocks...\n",
      "To disable this warning, you can either:\n",
      "\t- Avoid using `tokenizers` before the fork if possible\n",
      "\t- Explicitly set the environment variable TOKENIZERS_PARALLELISM=(true | false)\n",
      "Training Epoch 77/100: 100%|██████████| 42/42 [00:25<00:00,  1.67it/s, loss=0.6379, acc=0.6875, lr=0.00000256]\n"
     ]
    },
    {
     "name": "stdout",
     "output_type": "stream",
     "text": [
      "\n",
      "Training Metrics:\n",
      "Loss: 0.6089\n",
      "Accuracy: 0.6689\n",
      "Precision: 0.6563\n",
      "Recall: 0.6553\n",
      "F1: 0.6558\n"
     ]
    },
    {
     "name": "stderr",
     "output_type": "stream",
     "text": [
      "Validation Epoch 77/100:   0%|          | 0/10 [00:00<?, ?it/s]huggingface/tokenizers: The current process just got forked, after parallelism has already been used. Disabling parallelism to avoid deadlocks...\n",
      "To disable this warning, you can either:\n",
      "\t- Avoid using `tokenizers` before the fork if possible\n",
      "\t- Explicitly set the environment variable TOKENIZERS_PARALLELISM=(true | false)\n",
      "huggingface/tokenizers: The current process just got forked, after parallelism has already been used. Disabling parallelism to avoid deadlocks...\n",
      "To disable this warning, you can either:\n",
      "\t- Avoid using `tokenizers` before the fork if possible\n",
      "\t- Explicitly set the environment variable TOKENIZERS_PARALLELISM=(true | false)\n",
      "Validation Epoch 77/100: 100%|██████████| 10/10 [00:02<00:00,  4.05it/s, loss=0.4964, acc=1.0000]\n"
     ]
    },
    {
     "name": "stdout",
     "output_type": "stream",
     "text": [
      "\n",
      "Prediction Distribution: {0: 166, 1: 124}\n",
      "\n",
      "Confusion Matrix:\n",
      "[[83 50]\n",
      " [83 74]]\n",
      "\n",
      "Validation Metrics:\n",
      "Loss: 0.7796\n",
      "Accuracy: 0.5414\n",
      "Precision: 0.5968\n",
      "Recall: 0.4713\n",
      "F1: 0.5267\n",
      "Auc: 0.5318\n",
      "\n",
      "Epoch 78/100\n"
     ]
    },
    {
     "name": "stderr",
     "output_type": "stream",
     "text": [
      "Training Epoch 78/100:   0%|          | 0/42 [00:00<?, ?it/s]huggingface/tokenizers: The current process just got forked, after parallelism has already been used. Disabling parallelism to avoid deadlocks...\n",
      "To disable this warning, you can either:\n",
      "\t- Avoid using `tokenizers` before the fork if possible\n",
      "\t- Explicitly set the environment variable TOKENIZERS_PARALLELISM=(true | false)\n",
      "huggingface/tokenizers: The current process just got forked, after parallelism has already been used. Disabling parallelism to avoid deadlocks...\n",
      "To disable this warning, you can either:\n",
      "\t- Avoid using `tokenizers` before the fork if possible\n",
      "\t- Explicitly set the environment variable TOKENIZERS_PARALLELISM=(true | false)\n",
      "Training Epoch 78/100: 100%|██████████| 42/42 [00:25<00:00,  1.67it/s, loss=0.5523, acc=0.6875, lr=0.00000244]\n"
     ]
    },
    {
     "name": "stdout",
     "output_type": "stream",
     "text": [
      "\n",
      "Training Metrics:\n",
      "Loss: 0.6153\n",
      "Accuracy: 0.6741\n",
      "Precision: 0.6705\n",
      "Recall: 0.6331\n",
      "F1: 0.6513\n"
     ]
    },
    {
     "name": "stderr",
     "output_type": "stream",
     "text": [
      "Validation Epoch 78/100:   0%|          | 0/10 [00:00<?, ?it/s]huggingface/tokenizers: The current process just got forked, after parallelism has already been used. Disabling parallelism to avoid deadlocks...\n",
      "To disable this warning, you can either:\n",
      "\t- Avoid using `tokenizers` before the fork if possible\n",
      "\t- Explicitly set the environment variable TOKENIZERS_PARALLELISM=(true | false)\n",
      "huggingface/tokenizers: The current process just got forked, after parallelism has already been used. Disabling parallelism to avoid deadlocks...\n",
      "To disable this warning, you can either:\n",
      "\t- Avoid using `tokenizers` before the fork if possible\n",
      "\t- Explicitly set the environment variable TOKENIZERS_PARALLELISM=(true | false)\n",
      "Validation Epoch 78/100: 100%|██████████| 10/10 [00:02<00:00,  4.05it/s, loss=0.5560, acc=1.0000]\n"
     ]
    },
    {
     "name": "stdout",
     "output_type": "stream",
     "text": [
      "\n",
      "Prediction Distribution: {0: 185, 1: 105}\n",
      "\n",
      "Confusion Matrix:\n",
      "[[91 42]\n",
      " [94 63]]\n",
      "\n",
      "Validation Metrics:\n",
      "Loss: 0.7914\n",
      "Accuracy: 0.5310\n",
      "Precision: 0.6000\n",
      "Recall: 0.4013\n",
      "F1: 0.4809\n",
      "Auc: 0.5280\n",
      "\n",
      "Epoch 79/100\n"
     ]
    },
    {
     "name": "stderr",
     "output_type": "stream",
     "text": [
      "Training Epoch 79/100:   0%|          | 0/42 [00:00<?, ?it/s]huggingface/tokenizers: The current process just got forked, after parallelism has already been used. Disabling parallelism to avoid deadlocks...\n",
      "To disable this warning, you can either:\n",
      "\t- Avoid using `tokenizers` before the fork if possible\n",
      "\t- Explicitly set the environment variable TOKENIZERS_PARALLELISM=(true | false)\n",
      "huggingface/tokenizers: The current process just got forked, after parallelism has already been used. Disabling parallelism to avoid deadlocks...\n",
      "To disable this warning, you can either:\n",
      "\t- Avoid using `tokenizers` before the fork if possible\n",
      "\t- Explicitly set the environment variable TOKENIZERS_PARALLELISM=(true | false)\n",
      "Training Epoch 79/100: 100%|██████████| 42/42 [00:25<00:00,  1.67it/s, loss=0.5474, acc=0.6250, lr=0.00000233]\n"
     ]
    },
    {
     "name": "stdout",
     "output_type": "stream",
     "text": [
      "\n",
      "Training Metrics:\n",
      "Loss: 0.6131\n",
      "Accuracy: 0.6607\n",
      "Precision: 0.6419\n",
      "Recall: 0.6677\n",
      "F1: 0.6545\n"
     ]
    },
    {
     "name": "stderr",
     "output_type": "stream",
     "text": [
      "Validation Epoch 79/100:   0%|          | 0/10 [00:00<?, ?it/s]huggingface/tokenizers: The current process just got forked, after parallelism has already been used. Disabling parallelism to avoid deadlocks...\n",
      "To disable this warning, you can either:\n",
      "\t- Avoid using `tokenizers` before the fork if possible\n",
      "\t- Explicitly set the environment variable TOKENIZERS_PARALLELISM=(true | false)\n",
      "huggingface/tokenizers: The current process just got forked, after parallelism has already been used. Disabling parallelism to avoid deadlocks...\n",
      "To disable this warning, you can either:\n",
      "\t- Avoid using `tokenizers` before the fork if possible\n",
      "\t- Explicitly set the environment variable TOKENIZERS_PARALLELISM=(true | false)\n",
      "Validation Epoch 79/100: 100%|██████████| 10/10 [00:02<00:00,  4.05it/s, loss=0.4235, acc=1.0000]\n"
     ]
    },
    {
     "name": "stdout",
     "output_type": "stream",
     "text": [
      "\n",
      "Prediction Distribution: {0: 153, 1: 137}\n",
      "\n",
      "Confusion Matrix:\n",
      "[[76 57]\n",
      " [77 80]]\n",
      "\n",
      "Validation Metrics:\n",
      "Loss: 0.7628\n",
      "Accuracy: 0.5379\n",
      "Precision: 0.5839\n",
      "Recall: 0.5096\n",
      "F1: 0.5442\n",
      "Auc: 0.5293\n",
      "\n",
      "Epoch 80/100\n"
     ]
    },
    {
     "name": "stderr",
     "output_type": "stream",
     "text": [
      "Training Epoch 80/100:   0%|          | 0/42 [00:00<?, ?it/s]huggingface/tokenizers: The current process just got forked, after parallelism has already been used. Disabling parallelism to avoid deadlocks...\n",
      "To disable this warning, you can either:\n",
      "\t- Avoid using `tokenizers` before the fork if possible\n",
      "\t- Explicitly set the environment variable TOKENIZERS_PARALLELISM=(true | false)\n",
      "huggingface/tokenizers: The current process just got forked, after parallelism has already been used. Disabling parallelism to avoid deadlocks...\n",
      "To disable this warning, you can either:\n",
      "\t- Avoid using `tokenizers` before the fork if possible\n",
      "\t- Explicitly set the environment variable TOKENIZERS_PARALLELISM=(true | false)\n",
      "Training Epoch 80/100: 100%|██████████| 42/42 [00:25<00:00,  1.67it/s, loss=0.5093, acc=0.7812, lr=0.00000222]\n"
     ]
    },
    {
     "name": "stdout",
     "output_type": "stream",
     "text": [
      "\n",
      "Training Metrics:\n",
      "Loss: 0.6099\n",
      "Accuracy: 0.6652\n",
      "Precision: 0.6602\n",
      "Recall: 0.6296\n",
      "F1: 0.6445\n"
     ]
    },
    {
     "name": "stderr",
     "output_type": "stream",
     "text": [
      "Validation Epoch 80/100:   0%|          | 0/10 [00:00<?, ?it/s]huggingface/tokenizers: The current process just got forked, after parallelism has already been used. Disabling parallelism to avoid deadlocks...\n",
      "To disable this warning, you can either:\n",
      "\t- Avoid using `tokenizers` before the fork if possible\n",
      "\t- Explicitly set the environment variable TOKENIZERS_PARALLELISM=(true | false)\n",
      "huggingface/tokenizers: The current process just got forked, after parallelism has already been used. Disabling parallelism to avoid deadlocks...\n",
      "To disable this warning, you can either:\n",
      "\t- Avoid using `tokenizers` before the fork if possible\n",
      "\t- Explicitly set the environment variable TOKENIZERS_PARALLELISM=(true | false)\n",
      "Validation Epoch 80/100: 100%|██████████| 10/10 [00:02<00:00,  4.05it/s, loss=0.6134, acc=1.0000]\n"
     ]
    },
    {
     "name": "stdout",
     "output_type": "stream",
     "text": [
      "\n",
      "Prediction Distribution: {0: 176, 1: 114}\n",
      "\n",
      "Confusion Matrix:\n",
      "[[90 43]\n",
      " [86 71]]\n",
      "\n",
      "Validation Metrics:\n",
      "Loss: 0.7970\n",
      "Accuracy: 0.5552\n",
      "Precision: 0.6228\n",
      "Recall: 0.4522\n",
      "F1: 0.5240\n",
      "Auc: 0.5312\n",
      "\n",
      "Epoch 81/100\n"
     ]
    },
    {
     "name": "stderr",
     "output_type": "stream",
     "text": [
      "Training Epoch 81/100:   0%|          | 0/42 [00:00<?, ?it/s]huggingface/tokenizers: The current process just got forked, after parallelism has already been used. Disabling parallelism to avoid deadlocks...\n",
      "To disable this warning, you can either:\n",
      "\t- Avoid using `tokenizers` before the fork if possible\n",
      "\t- Explicitly set the environment variable TOKENIZERS_PARALLELISM=(true | false)\n",
      "huggingface/tokenizers: The current process just got forked, after parallelism has already been used. Disabling parallelism to avoid deadlocks...\n",
      "To disable this warning, you can either:\n",
      "\t- Avoid using `tokenizers` before the fork if possible\n",
      "\t- Explicitly set the environment variable TOKENIZERS_PARALLELISM=(true | false)\n",
      "Training Epoch 81/100: 100%|██████████| 42/42 [00:21<00:00,  1.93it/s, loss=0.6647, acc=0.6250, lr=0.00000211]\n"
     ]
    },
    {
     "name": "stdout",
     "output_type": "stream",
     "text": [
      "\n",
      "Training Metrics:\n",
      "Loss: 0.6111\n",
      "Accuracy: 0.6615\n",
      "Precision: 0.6488\n",
      "Recall: 0.6518\n",
      "F1: 0.6503\n"
     ]
    },
    {
     "name": "stderr",
     "output_type": "stream",
     "text": [
      "Validation Epoch 81/100:   0%|          | 0/10 [00:00<?, ?it/s]huggingface/tokenizers: The current process just got forked, after parallelism has already been used. Disabling parallelism to avoid deadlocks...\n",
      "To disable this warning, you can either:\n",
      "\t- Avoid using `tokenizers` before the fork if possible\n",
      "\t- Explicitly set the environment variable TOKENIZERS_PARALLELISM=(true | false)\n",
      "huggingface/tokenizers: The current process just got forked, after parallelism has already been used. Disabling parallelism to avoid deadlocks...\n",
      "To disable this warning, you can either:\n",
      "\t- Avoid using `tokenizers` before the fork if possible\n",
      "\t- Explicitly set the environment variable TOKENIZERS_PARALLELISM=(true | false)\n",
      "Validation Epoch 81/100: 100%|██████████| 10/10 [00:01<00:00,  5.06it/s, loss=0.4365, acc=1.0000]\n"
     ]
    },
    {
     "name": "stdout",
     "output_type": "stream",
     "text": [
      "\n",
      "Prediction Distribution: {0: 151, 1: 139}\n",
      "\n",
      "Confusion Matrix:\n",
      "[[76 57]\n",
      " [75 82]]\n",
      "\n",
      "Validation Metrics:\n",
      "Loss: 0.7747\n",
      "Accuracy: 0.5448\n",
      "Precision: 0.5899\n",
      "Recall: 0.5223\n",
      "F1: 0.5541\n",
      "Auc: 0.5316\n",
      "\n",
      "Epoch 82/100\n"
     ]
    },
    {
     "name": "stderr",
     "output_type": "stream",
     "text": [
      "Training Epoch 82/100:   0%|          | 0/42 [00:00<?, ?it/s]huggingface/tokenizers: The current process just got forked, after parallelism has already been used. Disabling parallelism to avoid deadlocks...\n",
      "To disable this warning, you can either:\n",
      "\t- Avoid using `tokenizers` before the fork if possible\n",
      "\t- Explicitly set the environment variable TOKENIZERS_PARALLELISM=(true | false)\n",
      "huggingface/tokenizers: The current process just got forked, after parallelism has already been used. Disabling parallelism to avoid deadlocks...\n",
      "To disable this warning, you can either:\n",
      "\t- Avoid using `tokenizers` before the fork if possible\n",
      "\t- Explicitly set the environment variable TOKENIZERS_PARALLELISM=(true | false)\n",
      "Training Epoch 82/100: 100%|██████████| 42/42 [00:24<00:00,  1.72it/s, loss=0.5025, acc=0.7188, lr=0.00000200]\n"
     ]
    },
    {
     "name": "stdout",
     "output_type": "stream",
     "text": [
      "\n",
      "Training Metrics:\n",
      "Loss: 0.6054\n",
      "Accuracy: 0.6726\n",
      "Precision: 0.6683\n",
      "Recall: 0.6331\n",
      "F1: 0.6502\n"
     ]
    },
    {
     "name": "stderr",
     "output_type": "stream",
     "text": [
      "Validation Epoch 82/100:   0%|          | 0/10 [00:00<?, ?it/s]huggingface/tokenizers: The current process just got forked, after parallelism has already been used. Disabling parallelism to avoid deadlocks...\n",
      "To disable this warning, you can either:\n",
      "\t- Avoid using `tokenizers` before the fork if possible\n",
      "\t- Explicitly set the environment variable TOKENIZERS_PARALLELISM=(true | false)\n",
      "huggingface/tokenizers: The current process just got forked, after parallelism has already been used. Disabling parallelism to avoid deadlocks...\n",
      "To disable this warning, you can either:\n",
      "\t- Avoid using `tokenizers` before the fork if possible\n",
      "\t- Explicitly set the environment variable TOKENIZERS_PARALLELISM=(true | false)\n",
      "Validation Epoch 82/100: 100%|██████████| 10/10 [00:02<00:00,  4.03it/s, loss=0.4984, acc=1.0000]\n"
     ]
    },
    {
     "name": "stdout",
     "output_type": "stream",
     "text": [
      "\n",
      "Prediction Distribution: {0: 159, 1: 131}\n",
      "\n",
      "Confusion Matrix:\n",
      "[[80 53]\n",
      " [79 78]]\n",
      "\n",
      "Validation Metrics:\n",
      "Loss: 0.7764\n",
      "Accuracy: 0.5448\n",
      "Precision: 0.5954\n",
      "Recall: 0.4968\n",
      "F1: 0.5417\n",
      "Auc: 0.5330\n",
      "\n",
      "Epoch 83/100\n"
     ]
    },
    {
     "name": "stderr",
     "output_type": "stream",
     "text": [
      "Training Epoch 83/100:   0%|          | 0/42 [00:00<?, ?it/s]huggingface/tokenizers: The current process just got forked, after parallelism has already been used. Disabling parallelism to avoid deadlocks...\n",
      "To disable this warning, you can either:\n",
      "\t- Avoid using `tokenizers` before the fork if possible\n",
      "\t- Explicitly set the environment variable TOKENIZERS_PARALLELISM=(true | false)\n",
      "huggingface/tokenizers: The current process just got forked, after parallelism has already been used. Disabling parallelism to avoid deadlocks...\n",
      "To disable this warning, you can either:\n",
      "\t- Avoid using `tokenizers` before the fork if possible\n",
      "\t- Explicitly set the environment variable TOKENIZERS_PARALLELISM=(true | false)\n",
      "Training Epoch 83/100: 100%|██████████| 42/42 [00:23<00:00,  1.75it/s, loss=0.6434, acc=0.7188, lr=0.00000189]\n"
     ]
    },
    {
     "name": "stdout",
     "output_type": "stream",
     "text": [
      "\n",
      "Training Metrics:\n",
      "Loss: 0.6053\n",
      "Accuracy: 0.6667\n",
      "Precision: 0.6544\n",
      "Recall: 0.6564\n",
      "F1: 0.6554\n"
     ]
    },
    {
     "name": "stderr",
     "output_type": "stream",
     "text": [
      "Validation Epoch 83/100:   0%|          | 0/10 [00:00<?, ?it/s]huggingface/tokenizers: The current process just got forked, after parallelism has already been used. Disabling parallelism to avoid deadlocks...\n",
      "To disable this warning, you can either:\n",
      "\t- Avoid using `tokenizers` before the fork if possible\n",
      "\t- Explicitly set the environment variable TOKENIZERS_PARALLELISM=(true | false)\n",
      "huggingface/tokenizers: The current process just got forked, after parallelism has already been used. Disabling parallelism to avoid deadlocks...\n",
      "To disable this warning, you can either:\n",
      "\t- Avoid using `tokenizers` before the fork if possible\n",
      "\t- Explicitly set the environment variable TOKENIZERS_PARALLELISM=(true | false)\n",
      "Validation Epoch 83/100: 100%|██████████| 10/10 [00:02<00:00,  4.04it/s, loss=0.4357, acc=1.0000]\n"
     ]
    },
    {
     "name": "stdout",
     "output_type": "stream",
     "text": [
      "\n",
      "Prediction Distribution: {0: 154, 1: 136}\n",
      "\n",
      "Confusion Matrix:\n",
      "[[78 55]\n",
      " [76 81]]\n",
      "\n",
      "Validation Metrics:\n",
      "Loss: 0.7989\n",
      "Accuracy: 0.5483\n",
      "Precision: 0.5956\n",
      "Recall: 0.5159\n",
      "F1: 0.5529\n",
      "Auc: 0.5333\n",
      "\n",
      "Epoch 84/100\n"
     ]
    },
    {
     "name": "stderr",
     "output_type": "stream",
     "text": [
      "Training Epoch 84/100:   0%|          | 0/42 [00:00<?, ?it/s]huggingface/tokenizers: The current process just got forked, after parallelism has already been used. Disabling parallelism to avoid deadlocks...\n",
      "To disable this warning, you can either:\n",
      "\t- Avoid using `tokenizers` before the fork if possible\n",
      "\t- Explicitly set the environment variable TOKENIZERS_PARALLELISM=(true | false)\n",
      "huggingface/tokenizers: The current process just got forked, after parallelism has already been used. Disabling parallelism to avoid deadlocks...\n",
      "To disable this warning, you can either:\n",
      "\t- Avoid using `tokenizers` before the fork if possible\n",
      "\t- Explicitly set the environment variable TOKENIZERS_PARALLELISM=(true | false)\n",
      "Training Epoch 84/100: 100%|██████████| 42/42 [00:24<00:00,  1.68it/s, loss=0.5242, acc=0.7188, lr=0.00000178]\n"
     ]
    },
    {
     "name": "stdout",
     "output_type": "stream",
     "text": [
      "\n",
      "Training Metrics:\n",
      "Loss: 0.6004\n",
      "Accuracy: 0.6734\n",
      "Precision: 0.6651\n",
      "Recall: 0.6518\n",
      "F1: 0.6584\n"
     ]
    },
    {
     "name": "stderr",
     "output_type": "stream",
     "text": [
      "Validation Epoch 84/100:   0%|          | 0/10 [00:00<?, ?it/s]huggingface/tokenizers: The current process just got forked, after parallelism has already been used. Disabling parallelism to avoid deadlocks...\n",
      "To disable this warning, you can either:\n",
      "\t- Avoid using `tokenizers` before the fork if possible\n",
      "\t- Explicitly set the environment variable TOKENIZERS_PARALLELISM=(true | false)\n",
      "huggingface/tokenizers: The current process just got forked, after parallelism has already been used. Disabling parallelism to avoid deadlocks...\n",
      "To disable this warning, you can either:\n",
      "\t- Avoid using `tokenizers` before the fork if possible\n",
      "\t- Explicitly set the environment variable TOKENIZERS_PARALLELISM=(true | false)\n",
      "Validation Epoch 84/100: 100%|██████████| 10/10 [00:02<00:00,  4.05it/s, loss=0.7405, acc=0.0000]\n"
     ]
    },
    {
     "name": "stdout",
     "output_type": "stream",
     "text": [
      "\n",
      "Prediction Distribution: {0: 208, 1: 82}\n",
      "\n",
      "Confusion Matrix:\n",
      "[[ 98  35]\n",
      " [110  47]]\n",
      "\n",
      "Validation Metrics:\n",
      "Loss: 0.8379\n",
      "Accuracy: 0.5000\n",
      "Precision: 0.5732\n",
      "Recall: 0.2994\n",
      "F1: 0.3933\n",
      "Auc: 0.5289\n",
      "\n",
      "Epoch 85/100\n"
     ]
    },
    {
     "name": "stderr",
     "output_type": "stream",
     "text": [
      "Training Epoch 85/100:   0%|          | 0/42 [00:00<?, ?it/s]huggingface/tokenizers: The current process just got forked, after parallelism has already been used. Disabling parallelism to avoid deadlocks...\n",
      "To disable this warning, you can either:\n",
      "\t- Avoid using `tokenizers` before the fork if possible\n",
      "\t- Explicitly set the environment variable TOKENIZERS_PARALLELISM=(true | false)\n",
      "huggingface/tokenizers: The current process just got forked, after parallelism has already been used. Disabling parallelism to avoid deadlocks...\n",
      "To disable this warning, you can either:\n",
      "\t- Avoid using `tokenizers` before the fork if possible\n",
      "\t- Explicitly set the environment variable TOKENIZERS_PARALLELISM=(true | false)\n",
      "Training Epoch 85/100: 100%|██████████| 42/42 [00:24<00:00,  1.68it/s, loss=0.4883, acc=0.6875, lr=0.00000167]\n"
     ]
    },
    {
     "name": "stdout",
     "output_type": "stream",
     "text": [
      "\n",
      "Training Metrics:\n",
      "Loss: 0.6122\n",
      "Accuracy: 0.6548\n",
      "Precision: 0.6479\n",
      "Recall: 0.6219\n",
      "F1: 0.6346\n"
     ]
    },
    {
     "name": "stderr",
     "output_type": "stream",
     "text": [
      "Validation Epoch 85/100:   0%|          | 0/10 [00:00<?, ?it/s]huggingface/tokenizers: The current process just got forked, after parallelism has already been used. Disabling parallelism to avoid deadlocks...\n",
      "To disable this warning, you can either:\n",
      "\t- Avoid using `tokenizers` before the fork if possible\n",
      "\t- Explicitly set the environment variable TOKENIZERS_PARALLELISM=(true | false)\n",
      "huggingface/tokenizers: The current process just got forked, after parallelism has already been used. Disabling parallelism to avoid deadlocks...\n",
      "To disable this warning, you can either:\n",
      "\t- Avoid using `tokenizers` before the fork if possible\n",
      "\t- Explicitly set the environment variable TOKENIZERS_PARALLELISM=(true | false)\n",
      "Validation Epoch 85/100: 100%|██████████| 10/10 [00:02<00:00,  4.05it/s, loss=0.5581, acc=1.0000]\n"
     ]
    },
    {
     "name": "stdout",
     "output_type": "stream",
     "text": [
      "\n",
      "Prediction Distribution: {0: 167, 1: 123}\n",
      "\n",
      "Confusion Matrix:\n",
      "[[84 49]\n",
      " [83 74]]\n",
      "\n",
      "Validation Metrics:\n",
      "Loss: 0.7865\n",
      "Accuracy: 0.5448\n",
      "Precision: 0.6016\n",
      "Recall: 0.4713\n",
      "F1: 0.5286\n",
      "Auc: 0.5310\n",
      "\n",
      "Epoch 86/100\n"
     ]
    },
    {
     "name": "stderr",
     "output_type": "stream",
     "text": [
      "Training Epoch 86/100:   0%|          | 0/42 [00:00<?, ?it/s]huggingface/tokenizers: The current process just got forked, after parallelism has already been used. Disabling parallelism to avoid deadlocks...\n",
      "To disable this warning, you can either:\n",
      "\t- Avoid using `tokenizers` before the fork if possible\n",
      "\t- Explicitly set the environment variable TOKENIZERS_PARALLELISM=(true | false)\n",
      "huggingface/tokenizers: The current process just got forked, after parallelism has already been used. Disabling parallelism to avoid deadlocks...\n",
      "To disable this warning, you can either:\n",
      "\t- Avoid using `tokenizers` before the fork if possible\n",
      "\t- Explicitly set the environment variable TOKENIZERS_PARALLELISM=(true | false)\n",
      "Training Epoch 86/100: 100%|██████████| 42/42 [00:24<00:00,  1.71it/s, loss=0.6173, acc=0.6562, lr=0.00000156]\n"
     ]
    },
    {
     "name": "stdout",
     "output_type": "stream",
     "text": [
      "\n",
      "Training Metrics:\n",
      "Loss: 0.6055\n",
      "Accuracy: 0.6629\n",
      "Precision: 0.6590\n",
      "Recall: 0.6192\n",
      "F1: 0.6385\n"
     ]
    },
    {
     "name": "stderr",
     "output_type": "stream",
     "text": [
      "Validation Epoch 86/100:   0%|          | 0/10 [00:00<?, ?it/s]huggingface/tokenizers: The current process just got forked, after parallelism has already been used. Disabling parallelism to avoid deadlocks...\n",
      "To disable this warning, you can either:\n",
      "\t- Avoid using `tokenizers` before the fork if possible\n",
      "\t- Explicitly set the environment variable TOKENIZERS_PARALLELISM=(true | false)\n",
      "huggingface/tokenizers: The current process just got forked, after parallelism has already been used. Disabling parallelism to avoid deadlocks...\n",
      "To disable this warning, you can either:\n",
      "\t- Avoid using `tokenizers` before the fork if possible\n",
      "\t- Explicitly set the environment variable TOKENIZERS_PARALLELISM=(true | false)\n",
      "Validation Epoch 86/100: 100%|██████████| 10/10 [00:01<00:00,  5.05it/s, loss=0.5723, acc=1.0000]\n"
     ]
    },
    {
     "name": "stdout",
     "output_type": "stream",
     "text": [
      "\n",
      "Prediction Distribution: {0: 173, 1: 117}\n",
      "\n",
      "Confusion Matrix:\n",
      "[[88 45]\n",
      " [85 72]]\n",
      "\n",
      "Validation Metrics:\n",
      "Loss: 0.8048\n",
      "Accuracy: 0.5517\n",
      "Precision: 0.6154\n",
      "Recall: 0.4586\n",
      "F1: 0.5255\n",
      "Auc: 0.5305\n",
      "\n",
      "Epoch 87/100\n"
     ]
    },
    {
     "name": "stderr",
     "output_type": "stream",
     "text": [
      "Training Epoch 87/100:   0%|          | 0/42 [00:00<?, ?it/s]huggingface/tokenizers: The current process just got forked, after parallelism has already been used. Disabling parallelism to avoid deadlocks...\n",
      "To disable this warning, you can either:\n",
      "\t- Avoid using `tokenizers` before the fork if possible\n",
      "\t- Explicitly set the environment variable TOKENIZERS_PARALLELISM=(true | false)\n",
      "huggingface/tokenizers: The current process just got forked, after parallelism has already been used. Disabling parallelism to avoid deadlocks...\n",
      "To disable this warning, you can either:\n",
      "\t- Avoid using `tokenizers` before the fork if possible\n",
      "\t- Explicitly set the environment variable TOKENIZERS_PARALLELISM=(true | false)\n",
      "Training Epoch 87/100: 100%|██████████| 42/42 [00:24<00:00,  1.69it/s, loss=0.5597, acc=0.7188, lr=0.00000144]\n"
     ]
    },
    {
     "name": "stdout",
     "output_type": "stream",
     "text": [
      "\n",
      "Training Metrics:\n",
      "Loss: 0.6041\n",
      "Accuracy: 0.6741\n",
      "Precision: 0.6672\n",
      "Recall: 0.6466\n",
      "F1: 0.6567\n"
     ]
    },
    {
     "name": "stderr",
     "output_type": "stream",
     "text": [
      "Validation Epoch 87/100:   0%|          | 0/10 [00:00<?, ?it/s]huggingface/tokenizers: The current process just got forked, after parallelism has already been used. Disabling parallelism to avoid deadlocks...\n",
      "To disable this warning, you can either:\n",
      "\t- Avoid using `tokenizers` before the fork if possible\n",
      "\t- Explicitly set the environment variable TOKENIZERS_PARALLELISM=(true | false)\n",
      "huggingface/tokenizers: The current process just got forked, after parallelism has already been used. Disabling parallelism to avoid deadlocks...\n",
      "To disable this warning, you can either:\n",
      "\t- Avoid using `tokenizers` before the fork if possible\n",
      "\t- Explicitly set the environment variable TOKENIZERS_PARALLELISM=(true | false)\n",
      "Validation Epoch 87/100: 100%|██████████| 10/10 [00:02<00:00,  4.06it/s, loss=0.5141, acc=1.0000]\n"
     ]
    },
    {
     "name": "stdout",
     "output_type": "stream",
     "text": [
      "\n",
      "Prediction Distribution: {0: 156, 1: 134}\n",
      "\n",
      "Confusion Matrix:\n",
      "[[77 56]\n",
      " [79 78]]\n",
      "\n",
      "Validation Metrics:\n",
      "Loss: 0.7841\n",
      "Accuracy: 0.5345\n",
      "Precision: 0.5821\n",
      "Recall: 0.4968\n",
      "F1: 0.5361\n",
      "Auc: 0.5313\n",
      "\n",
      "Epoch 88/100\n"
     ]
    },
    {
     "name": "stderr",
     "output_type": "stream",
     "text": [
      "Training Epoch 88/100:   0%|          | 0/42 [00:00<?, ?it/s]huggingface/tokenizers: The current process just got forked, after parallelism has already been used. Disabling parallelism to avoid deadlocks...\n",
      "To disable this warning, you can either:\n",
      "\t- Avoid using `tokenizers` before the fork if possible\n",
      "\t- Explicitly set the environment variable TOKENIZERS_PARALLELISM=(true | false)\n",
      "huggingface/tokenizers: The current process just got forked, after parallelism has already been used. Disabling parallelism to avoid deadlocks...\n",
      "To disable this warning, you can either:\n",
      "\t- Avoid using `tokenizers` before the fork if possible\n",
      "\t- Explicitly set the environment variable TOKENIZERS_PARALLELISM=(true | false)\n",
      "Training Epoch 88/100: 100%|██████████| 42/42 [00:24<00:00,  1.68it/s, loss=0.6817, acc=0.6875, lr=0.00000133]\n"
     ]
    },
    {
     "name": "stdout",
     "output_type": "stream",
     "text": [
      "\n",
      "Training Metrics:\n",
      "Loss: 0.6049\n",
      "Accuracy: 0.6696\n",
      "Precision: 0.6614\n",
      "Recall: 0.6451\n",
      "F1: 0.6531\n"
     ]
    },
    {
     "name": "stderr",
     "output_type": "stream",
     "text": [
      "Validation Epoch 88/100:   0%|          | 0/10 [00:00<?, ?it/s]huggingface/tokenizers: The current process just got forked, after parallelism has already been used. Disabling parallelism to avoid deadlocks...\n",
      "To disable this warning, you can either:\n",
      "\t- Avoid using `tokenizers` before the fork if possible\n",
      "\t- Explicitly set the environment variable TOKENIZERS_PARALLELISM=(true | false)\n",
      "huggingface/tokenizers: The current process just got forked, after parallelism has already been used. Disabling parallelism to avoid deadlocks...\n",
      "To disable this warning, you can either:\n",
      "\t- Avoid using `tokenizers` before the fork if possible\n",
      "\t- Explicitly set the environment variable TOKENIZERS_PARALLELISM=(true | false)\n",
      "Validation Epoch 88/100: 100%|██████████| 10/10 [00:02<00:00,  4.15it/s, loss=0.5891, acc=1.0000]\n"
     ]
    },
    {
     "name": "stdout",
     "output_type": "stream",
     "text": [
      "\n",
      "Prediction Distribution: {0: 167, 1: 123}\n",
      "\n",
      "Confusion Matrix:\n",
      "[[83 50]\n",
      " [84 73]]\n",
      "\n",
      "Validation Metrics:\n",
      "Loss: 0.7943\n",
      "Accuracy: 0.5379\n",
      "Precision: 0.5935\n",
      "Recall: 0.4650\n",
      "F1: 0.5214\n",
      "Auc: 0.5296\n",
      "\n",
      "Epoch 89/100\n"
     ]
    },
    {
     "name": "stderr",
     "output_type": "stream",
     "text": [
      "Training Epoch 89/100:   0%|          | 0/42 [00:00<?, ?it/s]huggingface/tokenizers: The current process just got forked, after parallelism has already been used. Disabling parallelism to avoid deadlocks...\n",
      "To disable this warning, you can either:\n",
      "\t- Avoid using `tokenizers` before the fork if possible\n",
      "\t- Explicitly set the environment variable TOKENIZERS_PARALLELISM=(true | false)\n",
      "huggingface/tokenizers: The current process just got forked, after parallelism has already been used. Disabling parallelism to avoid deadlocks...\n",
      "To disable this warning, you can either:\n",
      "\t- Avoid using `tokenizers` before the fork if possible\n",
      "\t- Explicitly set the environment variable TOKENIZERS_PARALLELISM=(true | false)\n",
      "Training Epoch 89/100: 100%|██████████| 42/42 [00:20<00:00,  2.03it/s, loss=0.6282, acc=0.6875, lr=0.00000122]\n"
     ]
    },
    {
     "name": "stdout",
     "output_type": "stream",
     "text": [
      "\n",
      "Training Metrics:\n",
      "Loss: 0.6086\n",
      "Accuracy: 0.6577\n",
      "Precision: 0.6540\n",
      "Recall: 0.6136\n",
      "F1: 0.6332\n"
     ]
    },
    {
     "name": "stderr",
     "output_type": "stream",
     "text": [
      "Validation Epoch 89/100:   0%|          | 0/10 [00:00<?, ?it/s]huggingface/tokenizers: The current process just got forked, after parallelism has already been used. Disabling parallelism to avoid deadlocks...\n",
      "To disable this warning, you can either:\n",
      "\t- Avoid using `tokenizers` before the fork if possible\n",
      "\t- Explicitly set the environment variable TOKENIZERS_PARALLELISM=(true | false)\n",
      "huggingface/tokenizers: The current process just got forked, after parallelism has already been used. Disabling parallelism to avoid deadlocks...\n",
      "To disable this warning, you can either:\n",
      "\t- Avoid using `tokenizers` before the fork if possible\n",
      "\t- Explicitly set the environment variable TOKENIZERS_PARALLELISM=(true | false)\n",
      "Validation Epoch 89/100: 100%|██████████| 10/10 [00:01<00:00,  5.06it/s, loss=0.5723, acc=1.0000]\n"
     ]
    },
    {
     "name": "stdout",
     "output_type": "stream",
     "text": [
      "\n",
      "Prediction Distribution: {0: 169, 1: 121}\n",
      "\n",
      "Confusion Matrix:\n",
      "[[85 48]\n",
      " [84 73]]\n",
      "\n",
      "Validation Metrics:\n",
      "Loss: 0.7972\n",
      "Accuracy: 0.5448\n",
      "Precision: 0.6033\n",
      "Recall: 0.4650\n",
      "F1: 0.5252\n",
      "Auc: 0.5287\n",
      "\n",
      "Epoch 90/100\n"
     ]
    },
    {
     "name": "stderr",
     "output_type": "stream",
     "text": [
      "Training Epoch 90/100:   0%|          | 0/42 [00:00<?, ?it/s]huggingface/tokenizers: The current process just got forked, after parallelism has already been used. Disabling parallelism to avoid deadlocks...\n",
      "To disable this warning, you can either:\n",
      "\t- Avoid using `tokenizers` before the fork if possible\n",
      "\t- Explicitly set the environment variable TOKENIZERS_PARALLELISM=(true | false)\n",
      "huggingface/tokenizers: The current process just got forked, after parallelism has already been used. Disabling parallelism to avoid deadlocks...\n",
      "To disable this warning, you can either:\n",
      "\t- Avoid using `tokenizers` before the fork if possible\n",
      "\t- Explicitly set the environment variable TOKENIZERS_PARALLELISM=(true | false)\n",
      "Training Epoch 90/100: 100%|██████████| 42/42 [00:20<00:00,  2.09it/s, loss=0.6278, acc=0.6562, lr=0.00000111]\n"
     ]
    },
    {
     "name": "stdout",
     "output_type": "stream",
     "text": [
      "\n",
      "Training Metrics:\n",
      "Loss: 0.6099\n",
      "Accuracy: 0.6600\n",
      "Precision: 0.6537\n",
      "Recall: 0.6223\n",
      "F1: 0.6376\n"
     ]
    },
    {
     "name": "stderr",
     "output_type": "stream",
     "text": [
      "Validation Epoch 90/100:   0%|          | 0/10 [00:00<?, ?it/s]huggingface/tokenizers: The current process just got forked, after parallelism has already been used. Disabling parallelism to avoid deadlocks...\n",
      "To disable this warning, you can either:\n",
      "\t- Avoid using `tokenizers` before the fork if possible\n",
      "\t- Explicitly set the environment variable TOKENIZERS_PARALLELISM=(true | false)\n",
      "huggingface/tokenizers: The current process just got forked, after parallelism has already been used. Disabling parallelism to avoid deadlocks...\n",
      "To disable this warning, you can either:\n",
      "\t- Avoid using `tokenizers` before the fork if possible\n",
      "\t- Explicitly set the environment variable TOKENIZERS_PARALLELISM=(true | false)\n",
      "Validation Epoch 90/100: 100%|██████████| 10/10 [00:01<00:00,  5.06it/s, loss=0.6921, acc=0.5000]\n"
     ]
    },
    {
     "name": "stdout",
     "output_type": "stream",
     "text": [
      "\n",
      "Prediction Distribution: {0: 198, 1: 92}\n",
      "\n",
      "Confusion Matrix:\n",
      "[[ 96  37]\n",
      " [102  55]]\n",
      "\n",
      "Validation Metrics:\n",
      "Loss: 0.8167\n",
      "Accuracy: 0.5207\n",
      "Precision: 0.5978\n",
      "Recall: 0.3503\n",
      "F1: 0.4418\n",
      "Auc: 0.5275\n",
      "\n",
      "Epoch 91/100\n"
     ]
    },
    {
     "name": "stderr",
     "output_type": "stream",
     "text": [
      "Training Epoch 91/100:   0%|          | 0/42 [00:00<?, ?it/s]huggingface/tokenizers: The current process just got forked, after parallelism has already been used. Disabling parallelism to avoid deadlocks...\n",
      "To disable this warning, you can either:\n",
      "\t- Avoid using `tokenizers` before the fork if possible\n",
      "\t- Explicitly set the environment variable TOKENIZERS_PARALLELISM=(true | false)\n",
      "huggingface/tokenizers: The current process just got forked, after parallelism has already been used. Disabling parallelism to avoid deadlocks...\n",
      "To disable this warning, you can either:\n",
      "\t- Avoid using `tokenizers` before the fork if possible\n",
      "\t- Explicitly set the environment variable TOKENIZERS_PARALLELISM=(true | false)\n",
      "Training Epoch 91/100: 100%|██████████| 42/42 [00:20<00:00,  2.09it/s, loss=0.5651, acc=0.7188, lr=0.00000100]\n"
     ]
    },
    {
     "name": "stdout",
     "output_type": "stream",
     "text": [
      "\n",
      "Training Metrics:\n",
      "Loss: 0.6015\n",
      "Accuracy: 0.6756\n",
      "Precision: 0.6828\n",
      "Recall: 0.6090\n",
      "F1: 0.6438\n"
     ]
    },
    {
     "name": "stderr",
     "output_type": "stream",
     "text": [
      "Validation Epoch 91/100:   0%|          | 0/10 [00:00<?, ?it/s]huggingface/tokenizers: The current process just got forked, after parallelism has already been used. Disabling parallelism to avoid deadlocks...\n",
      "To disable this warning, you can either:\n",
      "\t- Avoid using `tokenizers` before the fork if possible\n",
      "\t- Explicitly set the environment variable TOKENIZERS_PARALLELISM=(true | false)\n",
      "huggingface/tokenizers: The current process just got forked, after parallelism has already been used. Disabling parallelism to avoid deadlocks...\n",
      "To disable this warning, you can either:\n",
      "\t- Avoid using `tokenizers` before the fork if possible\n",
      "\t- Explicitly set the environment variable TOKENIZERS_PARALLELISM=(true | false)\n",
      "Validation Epoch 91/100: 100%|██████████| 10/10 [00:01<00:00,  5.07it/s, loss=0.5850, acc=1.0000]\n"
     ]
    },
    {
     "name": "stdout",
     "output_type": "stream",
     "text": [
      "\n",
      "Prediction Distribution: {0: 177, 1: 113}\n",
      "\n",
      "Confusion Matrix:\n",
      "[[89 44]\n",
      " [88 69]]\n",
      "\n",
      "Validation Metrics:\n",
      "Loss: 0.8024\n",
      "Accuracy: 0.5448\n",
      "Precision: 0.6106\n",
      "Recall: 0.4395\n",
      "F1: 0.5111\n",
      "Auc: 0.5306\n",
      "\n",
      "Epoch 92/100\n"
     ]
    },
    {
     "name": "stderr",
     "output_type": "stream",
     "text": [
      "Training Epoch 92/100:   0%|          | 0/42 [00:00<?, ?it/s]huggingface/tokenizers: The current process just got forked, after parallelism has already been used. Disabling parallelism to avoid deadlocks...\n",
      "To disable this warning, you can either:\n",
      "\t- Avoid using `tokenizers` before the fork if possible\n",
      "\t- Explicitly set the environment variable TOKENIZERS_PARALLELISM=(true | false)\n",
      "huggingface/tokenizers: The current process just got forked, after parallelism has already been used. Disabling parallelism to avoid deadlocks...\n",
      "To disable this warning, you can either:\n",
      "\t- Avoid using `tokenizers` before the fork if possible\n",
      "\t- Explicitly set the environment variable TOKENIZERS_PARALLELISM=(true | false)\n",
      "Training Epoch 92/100: 100%|██████████| 42/42 [00:20<00:00,  2.09it/s, loss=0.5963, acc=0.7188, lr=0.00000089]\n"
     ]
    },
    {
     "name": "stdout",
     "output_type": "stream",
     "text": [
      "\n",
      "Training Metrics:\n",
      "Loss: 0.6051\n",
      "Accuracy: 0.6786\n",
      "Precision: 0.6622\n",
      "Recall: 0.6846\n",
      "F1: 0.6732\n"
     ]
    },
    {
     "name": "stderr",
     "output_type": "stream",
     "text": [
      "Validation Epoch 92/100:   0%|          | 0/10 [00:00<?, ?it/s]huggingface/tokenizers: The current process just got forked, after parallelism has already been used. Disabling parallelism to avoid deadlocks...\n",
      "To disable this warning, you can either:\n",
      "\t- Avoid using `tokenizers` before the fork if possible\n",
      "\t- Explicitly set the environment variable TOKENIZERS_PARALLELISM=(true | false)\n",
      "huggingface/tokenizers: The current process just got forked, after parallelism has already been used. Disabling parallelism to avoid deadlocks...\n",
      "To disable this warning, you can either:\n",
      "\t- Avoid using `tokenizers` before the fork if possible\n",
      "\t- Explicitly set the environment variable TOKENIZERS_PARALLELISM=(true | false)\n",
      "Validation Epoch 92/100: 100%|██████████| 10/10 [00:01<00:00,  5.05it/s, loss=0.5183, acc=1.0000]\n"
     ]
    },
    {
     "name": "stdout",
     "output_type": "stream",
     "text": [
      "\n",
      "Prediction Distribution: {0: 166, 1: 124}\n",
      "\n",
      "Confusion Matrix:\n",
      "[[82 51]\n",
      " [84 73]]\n",
      "\n",
      "Validation Metrics:\n",
      "Loss: 0.7863\n",
      "Accuracy: 0.5345\n",
      "Precision: 0.5887\n",
      "Recall: 0.4650\n",
      "F1: 0.5196\n",
      "Auc: 0.5285\n",
      "\n",
      "Epoch 93/100\n"
     ]
    },
    {
     "name": "stderr",
     "output_type": "stream",
     "text": [
      "Training Epoch 93/100:   0%|          | 0/42 [00:00<?, ?it/s]huggingface/tokenizers: The current process just got forked, after parallelism has already been used. Disabling parallelism to avoid deadlocks...\n",
      "To disable this warning, you can either:\n",
      "\t- Avoid using `tokenizers` before the fork if possible\n",
      "\t- Explicitly set the environment variable TOKENIZERS_PARALLELISM=(true | false)\n",
      "huggingface/tokenizers: The current process just got forked, after parallelism has already been used. Disabling parallelism to avoid deadlocks...\n",
      "To disable this warning, you can either:\n",
      "\t- Avoid using `tokenizers` before the fork if possible\n",
      "\t- Explicitly set the environment variable TOKENIZERS_PARALLELISM=(true | false)\n",
      "Training Epoch 93/100: 100%|██████████| 42/42 [00:20<00:00,  2.09it/s, loss=0.5723, acc=0.7500, lr=0.00000078]\n"
     ]
    },
    {
     "name": "stdout",
     "output_type": "stream",
     "text": [
      "\n",
      "Training Metrics:\n",
      "Loss: 0.6106\n",
      "Accuracy: 0.6652\n",
      "Precision: 0.6656\n",
      "Recall: 0.6142\n",
      "F1: 0.6388\n"
     ]
    },
    {
     "name": "stderr",
     "output_type": "stream",
     "text": [
      "Validation Epoch 93/100:   0%|          | 0/10 [00:00<?, ?it/s]huggingface/tokenizers: The current process just got forked, after parallelism has already been used. Disabling parallelism to avoid deadlocks...\n",
      "To disable this warning, you can either:\n",
      "\t- Avoid using `tokenizers` before the fork if possible\n",
      "\t- Explicitly set the environment variable TOKENIZERS_PARALLELISM=(true | false)\n",
      "huggingface/tokenizers: The current process just got forked, after parallelism has already been used. Disabling parallelism to avoid deadlocks...\n",
      "To disable this warning, you can either:\n",
      "\t- Avoid using `tokenizers` before the fork if possible\n",
      "\t- Explicitly set the environment variable TOKENIZERS_PARALLELISM=(true | false)\n",
      "Validation Epoch 93/100: 100%|██████████| 10/10 [00:01<00:00,  5.05it/s, loss=0.4797, acc=1.0000]\n"
     ]
    },
    {
     "name": "stdout",
     "output_type": "stream",
     "text": [
      "\n",
      "Prediction Distribution: {0: 162, 1: 128}\n",
      "\n",
      "Confusion Matrix:\n",
      "[[79 54]\n",
      " [83 74]]\n",
      "\n",
      "Validation Metrics:\n",
      "Loss: 0.7832\n",
      "Accuracy: 0.5276\n",
      "Precision: 0.5781\n",
      "Recall: 0.4713\n",
      "F1: 0.5193\n",
      "Auc: 0.5264\n",
      "\n",
      "Epoch 94/100\n"
     ]
    },
    {
     "name": "stderr",
     "output_type": "stream",
     "text": [
      "Training Epoch 94/100:   0%|          | 0/42 [00:00<?, ?it/s]huggingface/tokenizers: The current process just got forked, after parallelism has already been used. Disabling parallelism to avoid deadlocks...\n",
      "To disable this warning, you can either:\n",
      "\t- Avoid using `tokenizers` before the fork if possible\n",
      "\t- Explicitly set the environment variable TOKENIZERS_PARALLELISM=(true | false)\n",
      "huggingface/tokenizers: The current process just got forked, after parallelism has already been used. Disabling parallelism to avoid deadlocks...\n",
      "To disable this warning, you can either:\n",
      "\t- Avoid using `tokenizers` before the fork if possible\n",
      "\t- Explicitly set the environment variable TOKENIZERS_PARALLELISM=(true | false)\n",
      "Training Epoch 94/100: 100%|██████████| 42/42 [00:20<00:00,  2.09it/s, loss=0.7095, acc=0.5312, lr=0.00000067]\n"
     ]
    },
    {
     "name": "stdout",
     "output_type": "stream",
     "text": [
      "\n",
      "Training Metrics:\n",
      "Loss: 0.6071\n",
      "Accuracy: 0.6570\n",
      "Precision: 0.6517\n",
      "Recall: 0.6246\n",
      "F1: 0.6379\n"
     ]
    },
    {
     "name": "stderr",
     "output_type": "stream",
     "text": [
      "Validation Epoch 94/100:   0%|          | 0/10 [00:00<?, ?it/s]huggingface/tokenizers: The current process just got forked, after parallelism has already been used. Disabling parallelism to avoid deadlocks...\n",
      "To disable this warning, you can either:\n",
      "\t- Avoid using `tokenizers` before the fork if possible\n",
      "\t- Explicitly set the environment variable TOKENIZERS_PARALLELISM=(true | false)\n",
      "huggingface/tokenizers: The current process just got forked, after parallelism has already been used. Disabling parallelism to avoid deadlocks...\n",
      "To disable this warning, you can either:\n",
      "\t- Avoid using `tokenizers` before the fork if possible\n",
      "\t- Explicitly set the environment variable TOKENIZERS_PARALLELISM=(true | false)\n",
      "Validation Epoch 94/100: 100%|██████████| 10/10 [00:01<00:00,  5.04it/s, loss=0.5390, acc=1.0000]\n"
     ]
    },
    {
     "name": "stdout",
     "output_type": "stream",
     "text": [
      "\n",
      "Prediction Distribution: {0: 171, 1: 119}\n",
      "\n",
      "Confusion Matrix:\n",
      "[[86 47]\n",
      " [85 72]]\n",
      "\n",
      "Validation Metrics:\n",
      "Loss: 0.7958\n",
      "Accuracy: 0.5448\n",
      "Precision: 0.6050\n",
      "Recall: 0.4586\n",
      "F1: 0.5217\n",
      "Auc: 0.5271\n",
      "\n",
      "Epoch 95/100\n"
     ]
    },
    {
     "name": "stderr",
     "output_type": "stream",
     "text": [
      "Training Epoch 95/100:   0%|          | 0/42 [00:00<?, ?it/s]huggingface/tokenizers: The current process just got forked, after parallelism has already been used. Disabling parallelism to avoid deadlocks...\n",
      "To disable this warning, you can either:\n",
      "\t- Avoid using `tokenizers` before the fork if possible\n",
      "\t- Explicitly set the environment variable TOKENIZERS_PARALLELISM=(true | false)\n",
      "huggingface/tokenizers: The current process just got forked, after parallelism has already been used. Disabling parallelism to avoid deadlocks...\n",
      "To disable this warning, you can either:\n",
      "\t- Avoid using `tokenizers` before the fork if possible\n",
      "\t- Explicitly set the environment variable TOKENIZERS_PARALLELISM=(true | false)\n",
      "Training Epoch 95/100: 100%|██████████| 42/42 [00:20<00:00,  2.09it/s, loss=0.6894, acc=0.6250, lr=0.00000056]\n"
     ]
    },
    {
     "name": "stdout",
     "output_type": "stream",
     "text": [
      "\n",
      "Training Metrics:\n",
      "Loss: 0.6008\n",
      "Accuracy: 0.6860\n",
      "Precision: 0.6789\n",
      "Recall: 0.6600\n",
      "F1: 0.6693\n"
     ]
    },
    {
     "name": "stderr",
     "output_type": "stream",
     "text": [
      "Validation Epoch 95/100:   0%|          | 0/10 [00:00<?, ?it/s]huggingface/tokenizers: The current process just got forked, after parallelism has already been used. Disabling parallelism to avoid deadlocks...\n",
      "To disable this warning, you can either:\n",
      "\t- Avoid using `tokenizers` before the fork if possible\n",
      "\t- Explicitly set the environment variable TOKENIZERS_PARALLELISM=(true | false)\n",
      "huggingface/tokenizers: The current process just got forked, after parallelism has already been used. Disabling parallelism to avoid deadlocks...\n",
      "To disable this warning, you can either:\n",
      "\t- Avoid using `tokenizers` before the fork if possible\n",
      "\t- Explicitly set the environment variable TOKENIZERS_PARALLELISM=(true | false)\n",
      "Validation Epoch 95/100: 100%|██████████| 10/10 [00:01<00:00,  5.03it/s, loss=0.5263, acc=1.0000]\n"
     ]
    },
    {
     "name": "stdout",
     "output_type": "stream",
     "text": [
      "\n",
      "Prediction Distribution: {0: 169, 1: 121}\n",
      "\n",
      "Confusion Matrix:\n",
      "[[85 48]\n",
      " [84 73]]\n",
      "\n",
      "Validation Metrics:\n",
      "Loss: 0.7959\n",
      "Accuracy: 0.5448\n",
      "Precision: 0.6033\n",
      "Recall: 0.4650\n",
      "F1: 0.5252\n",
      "Auc: 0.5272\n",
      "\n",
      "Epoch 96/100\n"
     ]
    },
    {
     "name": "stderr",
     "output_type": "stream",
     "text": [
      "Training Epoch 96/100:   0%|          | 0/42 [00:00<?, ?it/s]huggingface/tokenizers: The current process just got forked, after parallelism has already been used. Disabling parallelism to avoid deadlocks...\n",
      "To disable this warning, you can either:\n",
      "\t- Avoid using `tokenizers` before the fork if possible\n",
      "\t- Explicitly set the environment variable TOKENIZERS_PARALLELISM=(true | false)\n",
      "huggingface/tokenizers: The current process just got forked, after parallelism has already been used. Disabling parallelism to avoid deadlocks...\n",
      "To disable this warning, you can either:\n",
      "\t- Avoid using `tokenizers` before the fork if possible\n",
      "\t- Explicitly set the environment variable TOKENIZERS_PARALLELISM=(true | false)\n",
      "Training Epoch 96/100: 100%|██████████| 42/42 [00:20<00:00,  2.09it/s, loss=0.7268, acc=0.4688, lr=0.00000044]\n"
     ]
    },
    {
     "name": "stdout",
     "output_type": "stream",
     "text": [
      "\n",
      "Training Metrics:\n",
      "Loss: 0.6012\n",
      "Accuracy: 0.6667\n",
      "Precision: 0.6588\n",
      "Recall: 0.6425\n",
      "F1: 0.6505\n"
     ]
    },
    {
     "name": "stderr",
     "output_type": "stream",
     "text": [
      "Validation Epoch 96/100:   0%|          | 0/10 [00:00<?, ?it/s]huggingface/tokenizers: The current process just got forked, after parallelism has already been used. Disabling parallelism to avoid deadlocks...\n",
      "To disable this warning, you can either:\n",
      "\t- Avoid using `tokenizers` before the fork if possible\n",
      "\t- Explicitly set the environment variable TOKENIZERS_PARALLELISM=(true | false)\n",
      "huggingface/tokenizers: The current process just got forked, after parallelism has already been used. Disabling parallelism to avoid deadlocks...\n",
      "To disable this warning, you can either:\n",
      "\t- Avoid using `tokenizers` before the fork if possible\n",
      "\t- Explicitly set the environment variable TOKENIZERS_PARALLELISM=(true | false)\n",
      "Validation Epoch 96/100: 100%|██████████| 10/10 [00:01<00:00,  5.04it/s, loss=0.5412, acc=1.0000]\n"
     ]
    },
    {
     "name": "stdout",
     "output_type": "stream",
     "text": [
      "\n",
      "Prediction Distribution: {0: 169, 1: 121}\n",
      "\n",
      "Confusion Matrix:\n",
      "[[85 48]\n",
      " [84 73]]\n",
      "\n",
      "Validation Metrics:\n",
      "Loss: 0.8030\n",
      "Accuracy: 0.5448\n",
      "Precision: 0.6033\n",
      "Recall: 0.4650\n",
      "F1: 0.5252\n",
      "Auc: 0.5278\n",
      "\n",
      "Epoch 97/100\n"
     ]
    },
    {
     "name": "stderr",
     "output_type": "stream",
     "text": [
      "Training Epoch 97/100:   0%|          | 0/42 [00:00<?, ?it/s]huggingface/tokenizers: The current process just got forked, after parallelism has already been used. Disabling parallelism to avoid deadlocks...\n",
      "To disable this warning, you can either:\n",
      "\t- Avoid using `tokenizers` before the fork if possible\n",
      "\t- Explicitly set the environment variable TOKENIZERS_PARALLELISM=(true | false)\n",
      "huggingface/tokenizers: The current process just got forked, after parallelism has already been used. Disabling parallelism to avoid deadlocks...\n",
      "To disable this warning, you can either:\n",
      "\t- Avoid using `tokenizers` before the fork if possible\n",
      "\t- Explicitly set the environment variable TOKENIZERS_PARALLELISM=(true | false)\n",
      "Training Epoch 97/100: 100%|██████████| 42/42 [00:20<00:00,  2.08it/s, loss=0.4929, acc=0.7500, lr=0.00000033]\n"
     ]
    },
    {
     "name": "stdout",
     "output_type": "stream",
     "text": [
      "\n",
      "Training Metrics:\n",
      "Loss: 0.5954\n",
      "Accuracy: 0.6771\n",
      "Precision: 0.6682\n",
      "Recall: 0.6538\n",
      "F1: 0.6609\n"
     ]
    },
    {
     "name": "stderr",
     "output_type": "stream",
     "text": [
      "Validation Epoch 97/100:   0%|          | 0/10 [00:00<?, ?it/s]huggingface/tokenizers: The current process just got forked, after parallelism has already been used. Disabling parallelism to avoid deadlocks...\n",
      "To disable this warning, you can either:\n",
      "\t- Avoid using `tokenizers` before the fork if possible\n",
      "\t- Explicitly set the environment variable TOKENIZERS_PARALLELISM=(true | false)\n",
      "huggingface/tokenizers: The current process just got forked, after parallelism has already been used. Disabling parallelism to avoid deadlocks...\n",
      "To disable this warning, you can either:\n",
      "\t- Avoid using `tokenizers` before the fork if possible\n",
      "\t- Explicitly set the environment variable TOKENIZERS_PARALLELISM=(true | false)\n",
      "Validation Epoch 97/100: 100%|██████████| 10/10 [00:01<00:00,  5.04it/s, loss=0.5353, acc=1.0000]\n"
     ]
    },
    {
     "name": "stdout",
     "output_type": "stream",
     "text": [
      "\n",
      "Prediction Distribution: {0: 169, 1: 121}\n",
      "\n",
      "Confusion Matrix:\n",
      "[[85 48]\n",
      " [84 73]]\n",
      "\n",
      "Validation Metrics:\n",
      "Loss: 0.8070\n",
      "Accuracy: 0.5448\n",
      "Precision: 0.6033\n",
      "Recall: 0.4650\n",
      "F1: 0.5252\n",
      "Auc: 0.5275\n",
      "\n",
      "Epoch 98/100\n"
     ]
    },
    {
     "name": "stderr",
     "output_type": "stream",
     "text": [
      "Training Epoch 98/100:   0%|          | 0/42 [00:00<?, ?it/s]huggingface/tokenizers: The current process just got forked, after parallelism has already been used. Disabling parallelism to avoid deadlocks...\n",
      "To disable this warning, you can either:\n",
      "\t- Avoid using `tokenizers` before the fork if possible\n",
      "\t- Explicitly set the environment variable TOKENIZERS_PARALLELISM=(true | false)\n",
      "huggingface/tokenizers: The current process just got forked, after parallelism has already been used. Disabling parallelism to avoid deadlocks...\n",
      "To disable this warning, you can either:\n",
      "\t- Avoid using `tokenizers` before the fork if possible\n",
      "\t- Explicitly set the environment variable TOKENIZERS_PARALLELISM=(true | false)\n",
      "Training Epoch 98/100: 100%|██████████| 42/42 [00:20<00:00,  2.08it/s, loss=0.5974, acc=0.6562, lr=0.00000022]\n"
     ]
    },
    {
     "name": "stdout",
     "output_type": "stream",
     "text": [
      "\n",
      "Training Metrics:\n",
      "Loss: 0.5966\n",
      "Accuracy: 0.6704\n",
      "Precision: 0.6688\n",
      "Recall: 0.6308\n",
      "F1: 0.6492\n"
     ]
    },
    {
     "name": "stderr",
     "output_type": "stream",
     "text": [
      "Validation Epoch 98/100:   0%|          | 0/10 [00:00<?, ?it/s]huggingface/tokenizers: The current process just got forked, after parallelism has already been used. Disabling parallelism to avoid deadlocks...\n",
      "To disable this warning, you can either:\n",
      "\t- Avoid using `tokenizers` before the fork if possible\n",
      "\t- Explicitly set the environment variable TOKENIZERS_PARALLELISM=(true | false)\n",
      "huggingface/tokenizers: The current process just got forked, after parallelism has already been used. Disabling parallelism to avoid deadlocks...\n",
      "To disable this warning, you can either:\n",
      "\t- Avoid using `tokenizers` before the fork if possible\n",
      "\t- Explicitly set the environment variable TOKENIZERS_PARALLELISM=(true | false)\n",
      "Validation Epoch 98/100: 100%|██████████| 10/10 [00:01<00:00,  5.05it/s, loss=0.5525, acc=1.0000]\n"
     ]
    },
    {
     "name": "stdout",
     "output_type": "stream",
     "text": [
      "\n",
      "Prediction Distribution: {0: 174, 1: 116}\n",
      "\n",
      "Confusion Matrix:\n",
      "[[87 46]\n",
      " [87 70]]\n",
      "\n",
      "Validation Metrics:\n",
      "Loss: 0.8124\n",
      "Accuracy: 0.5414\n",
      "Precision: 0.6034\n",
      "Recall: 0.4459\n",
      "F1: 0.5128\n",
      "Auc: 0.5268\n",
      "\n",
      "Epoch 99/100\n"
     ]
    },
    {
     "name": "stderr",
     "output_type": "stream",
     "text": [
      "Training Epoch 99/100:   0%|          | 0/42 [00:00<?, ?it/s]huggingface/tokenizers: The current process just got forked, after parallelism has already been used. Disabling parallelism to avoid deadlocks...\n",
      "To disable this warning, you can either:\n",
      "\t- Avoid using `tokenizers` before the fork if possible\n",
      "\t- Explicitly set the environment variable TOKENIZERS_PARALLELISM=(true | false)\n",
      "huggingface/tokenizers: The current process just got forked, after parallelism has already been used. Disabling parallelism to avoid deadlocks...\n",
      "To disable this warning, you can either:\n",
      "\t- Avoid using `tokenizers` before the fork if possible\n",
      "\t- Explicitly set the environment variable TOKENIZERS_PARALLELISM=(true | false)\n",
      "Training Epoch 99/100: 100%|██████████| 42/42 [00:20<00:00,  2.08it/s, loss=0.5667, acc=0.6875, lr=0.00000011]\n"
     ]
    },
    {
     "name": "stdout",
     "output_type": "stream",
     "text": [
      "\n",
      "Training Metrics:\n",
      "Loss: 0.6046\n",
      "Accuracy: 0.6615\n",
      "Precision: 0.6565\n",
      "Recall: 0.6271\n",
      "F1: 0.6414\n"
     ]
    },
    {
     "name": "stderr",
     "output_type": "stream",
     "text": [
      "Validation Epoch 99/100:   0%|          | 0/10 [00:00<?, ?it/s]huggingface/tokenizers: The current process just got forked, after parallelism has already been used. Disabling parallelism to avoid deadlocks...\n",
      "To disable this warning, you can either:\n",
      "\t- Avoid using `tokenizers` before the fork if possible\n",
      "\t- Explicitly set the environment variable TOKENIZERS_PARALLELISM=(true | false)\n",
      "huggingface/tokenizers: The current process just got forked, after parallelism has already been used. Disabling parallelism to avoid deadlocks...\n",
      "To disable this warning, you can either:\n",
      "\t- Avoid using `tokenizers` before the fork if possible\n",
      "\t- Explicitly set the environment variable TOKENIZERS_PARALLELISM=(true | false)\n",
      "Validation Epoch 99/100: 100%|██████████| 10/10 [00:01<00:00,  5.06it/s, loss=0.5040, acc=1.0000]\n"
     ]
    },
    {
     "name": "stdout",
     "output_type": "stream",
     "text": [
      "\n",
      "Prediction Distribution: {0: 166, 1: 124}\n",
      "\n",
      "Confusion Matrix:\n",
      "[[82 51]\n",
      " [84 73]]\n",
      "\n",
      "Validation Metrics:\n",
      "Loss: 0.7968\n",
      "Accuracy: 0.5345\n",
      "Precision: 0.5887\n",
      "Recall: 0.4650\n",
      "F1: 0.5196\n",
      "Auc: 0.5266\n",
      "\n",
      "Epoch 100/100\n"
     ]
    },
    {
     "name": "stderr",
     "output_type": "stream",
     "text": [
      "Training Epoch 100/100:   0%|          | 0/42 [00:00<?, ?it/s]huggingface/tokenizers: The current process just got forked, after parallelism has already been used. Disabling parallelism to avoid deadlocks...\n",
      "To disable this warning, you can either:\n",
      "\t- Avoid using `tokenizers` before the fork if possible\n",
      "\t- Explicitly set the environment variable TOKENIZERS_PARALLELISM=(true | false)\n",
      "huggingface/tokenizers: The current process just got forked, after parallelism has already been used. Disabling parallelism to avoid deadlocks...\n",
      "To disable this warning, you can either:\n",
      "\t- Avoid using `tokenizers` before the fork if possible\n",
      "\t- Explicitly set the environment variable TOKENIZERS_PARALLELISM=(true | false)\n",
      "Training Epoch 100/100: 100%|██████████| 42/42 [00:20<00:00,  2.08it/s, loss=0.7359, acc=0.5938, lr=0.00000000]\n"
     ]
    },
    {
     "name": "stdout",
     "output_type": "stream",
     "text": [
      "\n",
      "Training Metrics:\n",
      "Loss: 0.5932\n",
      "Accuracy: 0.6793\n",
      "Precision: 0.6682\n",
      "Recall: 0.6610\n",
      "F1: 0.6646\n"
     ]
    },
    {
     "name": "stderr",
     "output_type": "stream",
     "text": [
      "Validation Epoch 100/100:   0%|          | 0/10 [00:00<?, ?it/s]huggingface/tokenizers: The current process just got forked, after parallelism has already been used. Disabling parallelism to avoid deadlocks...\n",
      "To disable this warning, you can either:\n",
      "\t- Avoid using `tokenizers` before the fork if possible\n",
      "\t- Explicitly set the environment variable TOKENIZERS_PARALLELISM=(true | false)\n",
      "huggingface/tokenizers: The current process just got forked, after parallelism has already been used. Disabling parallelism to avoid deadlocks...\n",
      "To disable this warning, you can either:\n",
      "\t- Avoid using `tokenizers` before the fork if possible\n",
      "\t- Explicitly set the environment variable TOKENIZERS_PARALLELISM=(true | false)\n",
      "Validation Epoch 100/100: 100%|██████████| 10/10 [00:01<00:00,  5.06it/s, loss=0.5125, acc=1.0000]\n"
     ]
    },
    {
     "name": "stdout",
     "output_type": "stream",
     "text": [
      "\n",
      "Prediction Distribution: {0: 168, 1: 122}\n",
      "\n",
      "Confusion Matrix:\n",
      "[[84 49]\n",
      " [84 73]]\n",
      "\n",
      "Validation Metrics:\n",
      "Loss: 0.8009\n",
      "Accuracy: 0.5414\n",
      "Precision: 0.5984\n",
      "Recall: 0.4650\n",
      "F1: 0.5233\n",
      "Auc: 0.5272\n",
      "\n",
      "Loaded best model from epoch 18\n",
      "\n",
      "Training completed!\n",
      "Best validation F1 score: 0.6975\n",
      "Could not plot training history: 'train_acc'\n",
      "\n",
      "Evaluating on test set...\n"
     ]
    },
    {
     "name": "stderr",
     "output_type": "stream",
     "text": [
      "Test Evaluation:   0%|          | 0/10 [00:00<?, ?it/s]huggingface/tokenizers: The current process just got forked, after parallelism has already been used. Disabling parallelism to avoid deadlocks...\n",
      "To disable this warning, you can either:\n",
      "\t- Avoid using `tokenizers` before the fork if possible\n",
      "\t- Explicitly set the environment variable TOKENIZERS_PARALLELISM=(true | false)\n",
      "huggingface/tokenizers: The current process just got forked, after parallelism has already been used. Disabling parallelism to avoid deadlocks...\n",
      "To disable this warning, you can either:\n",
      "\t- Avoid using `tokenizers` before the fork if possible\n",
      "\t- Explicitly set the environment variable TOKENIZERS_PARALLELISM=(true | false)\n",
      "Test Evaluation: 100%|██████████| 10/10 [00:01<00:00,  5.05it/s]\n",
      "/tmp/ipykernel_3660271/914250593.py:21: SettingWithCopyWarning: \n",
      "A value is trying to be set on a copy of a slice from a DataFrame.\n",
      "Try using .loc[row_indexer,col_indexer] = value instead\n",
      "\n",
      "See the caveats in the documentation: https://pandas.pydata.org/pandas-docs/stable/user_guide/indexing.html#returning-a-view-versus-a-copy\n",
      "  misclassified['confidence'] = misclassified.apply(\n"
     ]
    },
    {
     "name": "stdout",
     "output_type": "stream",
     "text": [
      "\n",
      "Test Set Confusion Matrix:\n",
      "[[81 52]\n",
      " [72 86]]\n",
      "\n",
      "Test Set Metrics:\n",
      "Loss: 0.7387\n",
      "Accuracy: 0.5739\n",
      "Precision: 0.6232\n",
      "Recall: 0.5443\n",
      "F1: 0.5811\n",
      "Auc: 0.5997\n",
      "Saved detailed test predictions to 'test_predictions.csv'\n",
      "\n",
      "Analyzing results...\n",
      "Number of misclassified examples: 124\n",
      "\n",
      "Most confident errors:\n",
      "     drug_id pdb_id  true_label  predicted  confidence\n",
      "163  DB00398   2LCM           0          1    0.942866\n",
      "14   DB01028   4COF           1          0    0.921042\n",
      "108  DB00799   4JQI           0          1    0.916635\n",
      "56   DB13269   2KAV           1          0    0.906380\n",
      "36   DB09088   2KAV           1          0    0.904911\n"
     ]
    },
    {
     "data": {
      "image/png": "[encoded data removed]",
      "text/plain": [
       "<Figure size 1200x500 with 2 Axes>"
      ]
     },
     "metadata": {},
     "output_type": "display_data"
    }
   ],
   "source": [
    "def run_complete_training():\n",
    "    \"\"\"Complete pipeline for training and evaluating the DTI model\"\"\"\n",
    "    # Initialize components\n",
    "    model, trainer, test_loader, test_dataset, tokenizer, device = initialize_training()\n",
    "    \n",
    "    # Train model\n",
    "    best_f1 = trainer.train()\n",
    "    \n",
    "    # Evaluate on test set\n",
    "    test_metrics, test_results = trainer.evaluate_test_set(test_loader)\n",
    "    \n",
    "    # Analysis of results\n",
    "    print(\"\\nAnalyzing results...\")\n",
    "    \n",
    "    # Find misclassified examples\n",
    "    misclassified = test_results[test_results['true_label'] != test_results['predicted']]\n",
    "    print(f\"Number of misclassified examples: {len(misclassified)}\")\n",
    "    \n",
    "    # Find examples where model is most confident but wrong\n",
    "    if len(misclassified) > 0:\n",
    "        misclassified['confidence'] = misclassified.apply(\n",
    "            lambda row: row['probability'] if row['predicted'] == 1 else 1 - row['probability'], \n",
    "            axis=1\n",
    "        )\n",
    "        \n",
    "        most_confident_errors = misclassified.sort_values('confidence', ascending=False).head(5)\n",
    "        print(\"\\nMost confident errors:\")\n",
    "        print(most_confident_errors[['drug_id', 'pdb_id', 'true_label', 'predicted', 'confidence']])\n",
    "    \n",
    "    return model, test_metrics, test_results, test_dataset, tokenizer, device\n",
    "\n",
    "# Call the function to start training\n",
    "if __name__ == \"__main__\":\n",
    "    model, test_metrics, test_results, test_dataset, tokenizer, device = run_complete_training()"
   ]
  }
 ],
 "metadata": {
  "kaggle": {
   "accelerator": "nvidiaTeslaT4",
   "dataSources": [
    {
     "datasetId": 7000098,
     "sourceId": 11210448,
     "sourceType": "datasetVersion"
    }
   ],
   "dockerImageVersionId": 30919,
   "isGpuEnabled": true,
   "isInternetEnabled": true,
   "language": "python",
   "sourceType": "notebook"
  },
  "kernelspec": {
   "display_name": "Python 3",
   "language": "python",
   "name": "python3"
  },
  "language_info": {
   "codemirror_mode": {
    "name": "ipython",
    "version": 3
   },
   "file_extension": ".py",
   "mimetype": "text/x-python",
   "name": "python",
   "nbconvert_exporter": "python",
   "pygments_lexer": "ipython3",
   "version": "3.10.16"
  }
 },
 "nbformat": 4,
 "nbformat_minor": 4
}
